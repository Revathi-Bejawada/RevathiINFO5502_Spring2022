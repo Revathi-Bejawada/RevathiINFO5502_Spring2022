{
  "cells": [
    {
      "cell_type": "markdown",
      "metadata": {
        "id": "view-in-github",
        "colab_type": "text"
      },
      "source": [
        "<a href=\"https://colab.research.google.com/github/Revathi-Bejawada/RevathiINFO5502_Spring2022/blob/main/lab_assignment_06.ipynb\" target=\"_parent\"><img src=\"https://colab.research.google.com/assets/colab-badge.svg\" alt=\"Open In Colab\"/></a>"
      ]
    },
    {
      "cell_type": "markdown",
      "metadata": {
        "id": "JDjNr2S7TNe7"
      },
      "source": [
        "## The sixth Lab-assignment (03/24/2022, 50 points in total)"
      ]
    },
    {
      "cell_type": "markdown",
      "metadata": {
        "id": "6ddGWe1dTNe_"
      },
      "source": [
        "The purpose of this exercise is to build a simple predicition model which can helpyou understand the workflow of machine learning. "
      ]
    },
    {
      "cell_type": "markdown",
      "metadata": {
        "id": "iklTX9G3TNe_"
      },
      "source": [
        "### Task Decription "
      ]
    },
    {
      "cell_type": "markdown",
      "metadata": {
        "id": "rTOTd10RTNfA"
      },
      "source": [
        "The goal of this assignment is to predict bike share use, given the hour, day, and information about the weather. Companies like Divvy try to predict how much demand there will be for bikes on any given day to allocate resources to redistribute bikes so that, ideally, very few bike stations are ever full (when you can’t park your bike) or empty (when you can’t pick up a bike if you want to).\n",
        "\n",
        "The data (link: https://github.com/unt-iialab/info5502-spring2022/tree/main/datasets/lab_assignment_06) in Github provides detailed information on the data set and necessary downloads."
      ]
    },
    {
      "cell_type": "markdown",
      "metadata": {
        "id": "UjHdOETxTNfB"
      },
      "source": [
        "### Data Description"
      ]
    },
    {
      "cell_type": "markdown",
      "metadata": {
        "id": "wXxBuEPdTNfB"
      },
      "source": [
        "You are provided hourly rental data spanning two years (link: https://github.com/unt-iialab/info5502-spring2022/tree/main/datasets/lab_assignment_06). For this task, the training set is comprised of the first 16 days of each month, while the test set is the 17-19th day of the month. You must predict the total count of bikes rented during each hour covered by the test set, using only information available prior to the rental period. That is, predict \"count\" without using \"count\" or its components \"casual\" and \"registered\".\n",
        "\n",
        "Data Fields\n",
        "\n",
        "datetime - hourly date + timestamp\n",
        "\n",
        "season - 1 = spring, 2 = summer, 3 = fall, 4 = winter\n",
        "\n",
        "holiday - whether the day is considered a holiday\n",
        "\n",
        "workingday - whether the day is neither a weekend nor holiday\n",
        "\n",
        "weather -\n",
        "\n",
        "1 - Clear, Few clouds, Partly cloudy, Partly cloudy\n",
        "\n",
        "2 - Mist + Cloudy, Mist + Broken clouds, Mist + Few clouds, Mist\n",
        "\n",
        "3 - Light Snow, Light Rain + Thunderstorm + Scattered clouds, Light Rain + Scattered clouds\n",
        "\n",
        "4 - Heavy Rain + Ice Pallets + Thunderstorm + Mist, Snow + Fog\n",
        "\n",
        "temp - temperature in Celsius\n",
        "\n",
        "atemp - \"feels like\" temperature in Celsius\n",
        "\n",
        "humidity - relative humidity\n",
        "\n",
        "windspeed - wind speed\n",
        "\n",
        "casual - number of non-registered user rentals initiated\n",
        "\n",
        "registered - number of registered user rentals initiated\n",
        "\n",
        "count - number of total rentals"
      ]
    },
    {
      "cell_type": "markdown",
      "metadata": {
        "id": "2z2ILqkZTNfC"
      },
      "source": [
        "### Output"
      ]
    },
    {
      "cell_type": "markdown",
      "metadata": {
        "id": "xBfIpEAlTNfD"
      },
      "source": [
        "Submission Format\n",
        "\n",
        "Your output (a separate file) must have a header line and should be structured in the following format:\n",
        "\n",
        " datetime,count\n",
        " \n",
        " 2011-01-20 00:00:00,0 \n",
        " \n",
        " 2011-01-20 01:00:00,0\n",
        " \n",
        " 2011-01-20 02:00:00,0\n",
        " \n",
        " ...\n",
        " \n",
        "The tutorial code should demonstrate how to generate such a file from a very simple prediction model. Note, these prediction are to be done on the test file under the data tab, where you do not know the actual count, and should match the rows of the test file in count and order.\n",
        "\n",
        "Your predictions should be compared to the ground truth information (sample_prediction.csv). Score are calculated using Root Mean Squared Error (RMSE)."
      ]
    },
    {
      "cell_type": "markdown",
      "metadata": {
        "id": "pB2t-DF5TNfE"
      },
      "source": [
        "### Tips"
      ]
    },
    {
      "cell_type": "markdown",
      "metadata": {
        "id": "g9q5QpiuTNfE"
      },
      "source": [
        "●\tAdd features: Pick columns/features from the data you already have. Or make a new feature from the ones you have. For example, the tutorial makes ‘hour’ from the datetime stamp, which seemed very useful. How about ‘month’?\n",
        "\n",
        "●\tModel selection: Try different models. Make sure they are regression models rather than classification models. Tip: random forest regression is a good, all around modeling strategy on complicated data sets.\n",
        "\n",
        "●\tModel tuning: Almost all regression models have parameters to tune (“hyperparameters”). E.g. polynomial regression has the degree of the polynomial (n = 1 for a line, n=2 for a quadratic fit, n=3 for a cubic fit…). Generally, one extreme makes the model too simple (e.g. a line for a curved set of points) and the other extreme makes the model overfit/be too complex, and usually the right choice is in between. For some models it is obvious what to tune (e.g. k for k nearest neighbors regression) and some don’t need much tuning with defaults that often work well. e.g. try changing the number of trees used in the random forest model!\n",
        "\n",
        "●\tCross validation: The tutorial has a simple way of separating training and test data, however, there are better ways of splitting training and test data. Look into cross validation techniques, which are more reliable than an arbitrary split of training and test data.\n",
        "\n",
        "●\tSeparate models for ...: Notice that count comes from just adding casual riders and registered riders. However, what if these two types of riders acted very differently? It might make sense to make two separate models and just add the results of both models together. This is also true for any subsets of your data that may behave wildly differently (e.g. create a separate model for each season?)"
      ]
    },
    {
      "cell_type": "markdown",
      "metadata": {
        "id": "UPZ5uzaTTNfF"
      },
      "source": [
        "### Your code"
      ]
    },
    {
      "cell_type": "code",
      "execution_count": null,
      "metadata": {
        "colab": {
          "base_uri": "https://localhost:8080/",
          "height": 206
        },
        "id": "Rt06YAk8TNfG",
        "outputId": "c32eb30c-cd49-455c-d0ff-b7e94ddf335b"
      },
      "outputs": [
        {
          "output_type": "execute_result",
          "data": {
            "text/plain": [
              "             datetime  season  holiday  workingday  weather  temp   atemp  \\\n",
              "0 2011-01-01 00:00:00       1        0           0        1  9.84  14.395   \n",
              "1 2011-01-01 01:00:00       1        0           0        1  9.02  13.635   \n",
              "2 2011-01-01 02:00:00       1        0           0        1  9.02  13.635   \n",
              "3 2011-01-01 03:00:00       1        0           0        1  9.84  14.395   \n",
              "4 2011-01-01 04:00:00       1        0           0        1  9.84  14.395   \n",
              "\n",
              "   humidity  windspeed  casual  registered  count  hour  day  month  \n",
              "0        81        0.0       3          13     16     0    1      1  \n",
              "1        80        0.0       8          32     40     1    1      1  \n",
              "2        80        0.0       5          27     32     2    1      1  \n",
              "3        75        0.0       3          10     13     3    1      1  \n",
              "4        75        0.0       0           1      1     4    1      1  "
            ],
            "text/html": [
              "\n",
              "  <div id=\"df-fe77559f-f36b-4a61-b9d1-caceda976254\">\n",
              "    <div class=\"colab-df-container\">\n",
              "      <div>\n",
              "<style scoped>\n",
              "    .dataframe tbody tr th:only-of-type {\n",
              "        vertical-align: middle;\n",
              "    }\n",
              "\n",
              "    .dataframe tbody tr th {\n",
              "        vertical-align: top;\n",
              "    }\n",
              "\n",
              "    .dataframe thead th {\n",
              "        text-align: right;\n",
              "    }\n",
              "</style>\n",
              "<table border=\"1\" class=\"dataframe\">\n",
              "  <thead>\n",
              "    <tr style=\"text-align: right;\">\n",
              "      <th></th>\n",
              "      <th>datetime</th>\n",
              "      <th>season</th>\n",
              "      <th>holiday</th>\n",
              "      <th>workingday</th>\n",
              "      <th>weather</th>\n",
              "      <th>temp</th>\n",
              "      <th>atemp</th>\n",
              "      <th>humidity</th>\n",
              "      <th>windspeed</th>\n",
              "      <th>casual</th>\n",
              "      <th>registered</th>\n",
              "      <th>count</th>\n",
              "      <th>hour</th>\n",
              "      <th>day</th>\n",
              "      <th>month</th>\n",
              "    </tr>\n",
              "  </thead>\n",
              "  <tbody>\n",
              "    <tr>\n",
              "      <th>0</th>\n",
              "      <td>2011-01-01 00:00:00</td>\n",
              "      <td>1</td>\n",
              "      <td>0</td>\n",
              "      <td>0</td>\n",
              "      <td>1</td>\n",
              "      <td>9.84</td>\n",
              "      <td>14.395</td>\n",
              "      <td>81</td>\n",
              "      <td>0.0</td>\n",
              "      <td>3</td>\n",
              "      <td>13</td>\n",
              "      <td>16</td>\n",
              "      <td>0</td>\n",
              "      <td>1</td>\n",
              "      <td>1</td>\n",
              "    </tr>\n",
              "    <tr>\n",
              "      <th>1</th>\n",
              "      <td>2011-01-01 01:00:00</td>\n",
              "      <td>1</td>\n",
              "      <td>0</td>\n",
              "      <td>0</td>\n",
              "      <td>1</td>\n",
              "      <td>9.02</td>\n",
              "      <td>13.635</td>\n",
              "      <td>80</td>\n",
              "      <td>0.0</td>\n",
              "      <td>8</td>\n",
              "      <td>32</td>\n",
              "      <td>40</td>\n",
              "      <td>1</td>\n",
              "      <td>1</td>\n",
              "      <td>1</td>\n",
              "    </tr>\n",
              "    <tr>\n",
              "      <th>2</th>\n",
              "      <td>2011-01-01 02:00:00</td>\n",
              "      <td>1</td>\n",
              "      <td>0</td>\n",
              "      <td>0</td>\n",
              "      <td>1</td>\n",
              "      <td>9.02</td>\n",
              "      <td>13.635</td>\n",
              "      <td>80</td>\n",
              "      <td>0.0</td>\n",
              "      <td>5</td>\n",
              "      <td>27</td>\n",
              "      <td>32</td>\n",
              "      <td>2</td>\n",
              "      <td>1</td>\n",
              "      <td>1</td>\n",
              "    </tr>\n",
              "    <tr>\n",
              "      <th>3</th>\n",
              "      <td>2011-01-01 03:00:00</td>\n",
              "      <td>1</td>\n",
              "      <td>0</td>\n",
              "      <td>0</td>\n",
              "      <td>1</td>\n",
              "      <td>9.84</td>\n",
              "      <td>14.395</td>\n",
              "      <td>75</td>\n",
              "      <td>0.0</td>\n",
              "      <td>3</td>\n",
              "      <td>10</td>\n",
              "      <td>13</td>\n",
              "      <td>3</td>\n",
              "      <td>1</td>\n",
              "      <td>1</td>\n",
              "    </tr>\n",
              "    <tr>\n",
              "      <th>4</th>\n",
              "      <td>2011-01-01 04:00:00</td>\n",
              "      <td>1</td>\n",
              "      <td>0</td>\n",
              "      <td>0</td>\n",
              "      <td>1</td>\n",
              "      <td>9.84</td>\n",
              "      <td>14.395</td>\n",
              "      <td>75</td>\n",
              "      <td>0.0</td>\n",
              "      <td>0</td>\n",
              "      <td>1</td>\n",
              "      <td>1</td>\n",
              "      <td>4</td>\n",
              "      <td>1</td>\n",
              "      <td>1</td>\n",
              "    </tr>\n",
              "  </tbody>\n",
              "</table>\n",
              "</div>\n",
              "      <button class=\"colab-df-convert\" onclick=\"convertToInteractive('df-fe77559f-f36b-4a61-b9d1-caceda976254')\"\n",
              "              title=\"Convert this dataframe to an interactive table.\"\n",
              "              style=\"display:none;\">\n",
              "        \n",
              "  <svg xmlns=\"http://www.w3.org/2000/svg\" height=\"24px\"viewBox=\"0 0 24 24\"\n",
              "       width=\"24px\">\n",
              "    <path d=\"M0 0h24v24H0V0z\" fill=\"none\"/>\n",
              "    <path d=\"M18.56 5.44l.94 2.06.94-2.06 2.06-.94-2.06-.94-.94-2.06-.94 2.06-2.06.94zm-11 1L8.5 8.5l.94-2.06 2.06-.94-2.06-.94L8.5 2.5l-.94 2.06-2.06.94zm10 10l.94 2.06.94-2.06 2.06-.94-2.06-.94-.94-2.06-.94 2.06-2.06.94z\"/><path d=\"M17.41 7.96l-1.37-1.37c-.4-.4-.92-.59-1.43-.59-.52 0-1.04.2-1.43.59L10.3 9.45l-7.72 7.72c-.78.78-.78 2.05 0 2.83L4 21.41c.39.39.9.59 1.41.59.51 0 1.02-.2 1.41-.59l7.78-7.78 2.81-2.81c.8-.78.8-2.07 0-2.86zM5.41 20L4 18.59l7.72-7.72 1.47 1.35L5.41 20z\"/>\n",
              "  </svg>\n",
              "      </button>\n",
              "      \n",
              "  <style>\n",
              "    .colab-df-container {\n",
              "      display:flex;\n",
              "      flex-wrap:wrap;\n",
              "      gap: 12px;\n",
              "    }\n",
              "\n",
              "    .colab-df-convert {\n",
              "      background-color: #E8F0FE;\n",
              "      border: none;\n",
              "      border-radius: 50%;\n",
              "      cursor: pointer;\n",
              "      display: none;\n",
              "      fill: #1967D2;\n",
              "      height: 32px;\n",
              "      padding: 0 0 0 0;\n",
              "      width: 32px;\n",
              "    }\n",
              "\n",
              "    .colab-df-convert:hover {\n",
              "      background-color: #E2EBFA;\n",
              "      box-shadow: 0px 1px 2px rgba(60, 64, 67, 0.3), 0px 1px 3px 1px rgba(60, 64, 67, 0.15);\n",
              "      fill: #174EA6;\n",
              "    }\n",
              "\n",
              "    [theme=dark] .colab-df-convert {\n",
              "      background-color: #3B4455;\n",
              "      fill: #D2E3FC;\n",
              "    }\n",
              "\n",
              "    [theme=dark] .colab-df-convert:hover {\n",
              "      background-color: #434B5C;\n",
              "      box-shadow: 0px 1px 3px 1px rgba(0, 0, 0, 0.15);\n",
              "      filter: drop-shadow(0px 1px 2px rgba(0, 0, 0, 0.3));\n",
              "      fill: #FFFFFF;\n",
              "    }\n",
              "  </style>\n",
              "\n",
              "      <script>\n",
              "        const buttonEl =\n",
              "          document.querySelector('#df-fe77559f-f36b-4a61-b9d1-caceda976254 button.colab-df-convert');\n",
              "        buttonEl.style.display =\n",
              "          google.colab.kernel.accessAllowed ? 'block' : 'none';\n",
              "\n",
              "        async function convertToInteractive(key) {\n",
              "          const element = document.querySelector('#df-fe77559f-f36b-4a61-b9d1-caceda976254');\n",
              "          const dataTable =\n",
              "            await google.colab.kernel.invokeFunction('convertToInteractive',\n",
              "                                                     [key], {});\n",
              "          if (!dataTable) return;\n",
              "\n",
              "          const docLinkHtml = 'Like what you see? Visit the ' +\n",
              "            '<a target=\"_blank\" href=https://colab.research.google.com/notebooks/data_table.ipynb>data table notebook</a>'\n",
              "            + ' to learn more about interactive tables.';\n",
              "          element.innerHTML = '';\n",
              "          dataTable['output_type'] = 'display_data';\n",
              "          await google.colab.output.renderOutput(dataTable, element);\n",
              "          const docLink = document.createElement('div');\n",
              "          docLink.innerHTML = docLinkHtml;\n",
              "          element.appendChild(docLink);\n",
              "        }\n",
              "      </script>\n",
              "    </div>\n",
              "  </div>\n",
              "  "
            ]
          },
          "metadata": {},
          "execution_count": 298
        }
      ],
      "source": [
        "### You code here:\n",
        "\n",
        "#import all the required libraries\n",
        "\n",
        "from datetime import datetime\n",
        "import matplotlib.pyplot as plt\n",
        "%matplotlib inline\n",
        "import pandas as pd\n",
        "import numpy as np\n",
        "\n",
        "input = pd.read_csv(\"https://raw.githubusercontent.com/unt-iialab/info5502-spring2022/main/datasets/lab_assignment_06/train_luc.csv\")\n",
        "\n",
        "input['datetime']=pd.to_datetime(input.datetime)\n",
        "\n",
        "#extract hour, day, month from the datetime\n",
        "input['hour'] = input['datetime'].dt.hour\n",
        "input['day'] = input['datetime'].dt.day\n",
        "input['month'] = input['datetime'].dt.month\n",
        "input.head()\n",
        "\n"
      ]
    },
    {
      "cell_type": "code",
      "source": [
        "input.shape"
      ],
      "metadata": {
        "colab": {
          "base_uri": "https://localhost:8080/"
        },
        "id": "D-R_XNDF1KV2",
        "outputId": "35db2a92-b615-4524-8ce3-ccfc60b449c2"
      },
      "execution_count": null,
      "outputs": [
        {
          "output_type": "execute_result",
          "data": {
            "text/plain": [
              "(9174, 15)"
            ]
          },
          "metadata": {},
          "execution_count": 299
        }
      ]
    },
    {
      "cell_type": "code",
      "source": [
        "input.describe()"
      ],
      "metadata": {
        "colab": {
          "base_uri": "https://localhost:8080/",
          "height": 364
        },
        "id": "bFoZXfHU1YKa",
        "outputId": "f7907b97-bf9f-46d4-df4e-02c865f2ee0d"
      },
      "execution_count": null,
      "outputs": [
        {
          "output_type": "execute_result",
          "data": {
            "text/plain": [
              "            season      holiday   workingday      weather         temp  \\\n",
              "count  9174.000000  9174.000000  9174.000000  9174.000000  9174.000000   \n",
              "mean      2.505559     0.031284     0.678875     1.414868    20.130401   \n",
              "std       1.116618     0.174094     0.466934     0.635363     7.940504   \n",
              "min       1.000000     0.000000     0.000000     1.000000     0.820000   \n",
              "25%       2.000000     0.000000     0.000000     1.000000    13.940000   \n",
              "50%       3.000000     0.000000     1.000000     1.000000    20.500000   \n",
              "75%       4.000000     0.000000     1.000000     2.000000    27.060000   \n",
              "max       4.000000     1.000000     1.000000     4.000000    41.000000   \n",
              "\n",
              "             atemp     humidity    windspeed       casual   registered  \\\n",
              "count  9174.000000  9174.000000  9174.000000  9174.000000  9174.000000   \n",
              "mean     23.578433    61.715064    12.737931    35.713647   154.868106   \n",
              "std       8.617957    19.401829     8.199027    49.667738   150.981155   \n",
              "min       0.760000     0.000000     0.000000     0.000000     0.000000   \n",
              "25%      16.665000    46.000000     7.001500     4.000000    35.000000   \n",
              "50%      24.240000    61.000000    11.001400    16.000000   117.000000   \n",
              "75%      31.060000    78.000000    16.997900    48.000000   222.000000   \n",
              "max      45.455000   100.000000    56.996900   362.000000   886.000000   \n",
              "\n",
              "             count         hour          day        month  \n",
              "count  9174.000000  9174.000000  9174.000000  9174.000000  \n",
              "mean    190.581753    11.537933     8.498365     6.517114  \n",
              "std     181.011530     6.915338     4.611702     3.447047  \n",
              "min       1.000000     0.000000     1.000000     1.000000  \n",
              "25%      41.000000     6.000000     4.000000     4.000000  \n",
              "50%     144.000000    12.000000     8.000000     7.000000  \n",
              "75%     282.000000    18.000000    13.000000    10.000000  \n",
              "max     977.000000    23.000000    16.000000    12.000000  "
            ],
            "text/html": [
              "\n",
              "  <div id=\"df-77918ef4-a83b-4c64-9140-3afec4d524e2\">\n",
              "    <div class=\"colab-df-container\">\n",
              "      <div>\n",
              "<style scoped>\n",
              "    .dataframe tbody tr th:only-of-type {\n",
              "        vertical-align: middle;\n",
              "    }\n",
              "\n",
              "    .dataframe tbody tr th {\n",
              "        vertical-align: top;\n",
              "    }\n",
              "\n",
              "    .dataframe thead th {\n",
              "        text-align: right;\n",
              "    }\n",
              "</style>\n",
              "<table border=\"1\" class=\"dataframe\">\n",
              "  <thead>\n",
              "    <tr style=\"text-align: right;\">\n",
              "      <th></th>\n",
              "      <th>season</th>\n",
              "      <th>holiday</th>\n",
              "      <th>workingday</th>\n",
              "      <th>weather</th>\n",
              "      <th>temp</th>\n",
              "      <th>atemp</th>\n",
              "      <th>humidity</th>\n",
              "      <th>windspeed</th>\n",
              "      <th>casual</th>\n",
              "      <th>registered</th>\n",
              "      <th>count</th>\n",
              "      <th>hour</th>\n",
              "      <th>day</th>\n",
              "      <th>month</th>\n",
              "    </tr>\n",
              "  </thead>\n",
              "  <tbody>\n",
              "    <tr>\n",
              "      <th>count</th>\n",
              "      <td>9174.000000</td>\n",
              "      <td>9174.000000</td>\n",
              "      <td>9174.000000</td>\n",
              "      <td>9174.000000</td>\n",
              "      <td>9174.000000</td>\n",
              "      <td>9174.000000</td>\n",
              "      <td>9174.000000</td>\n",
              "      <td>9174.000000</td>\n",
              "      <td>9174.000000</td>\n",
              "      <td>9174.000000</td>\n",
              "      <td>9174.000000</td>\n",
              "      <td>9174.000000</td>\n",
              "      <td>9174.000000</td>\n",
              "      <td>9174.000000</td>\n",
              "    </tr>\n",
              "    <tr>\n",
              "      <th>mean</th>\n",
              "      <td>2.505559</td>\n",
              "      <td>0.031284</td>\n",
              "      <td>0.678875</td>\n",
              "      <td>1.414868</td>\n",
              "      <td>20.130401</td>\n",
              "      <td>23.578433</td>\n",
              "      <td>61.715064</td>\n",
              "      <td>12.737931</td>\n",
              "      <td>35.713647</td>\n",
              "      <td>154.868106</td>\n",
              "      <td>190.581753</td>\n",
              "      <td>11.537933</td>\n",
              "      <td>8.498365</td>\n",
              "      <td>6.517114</td>\n",
              "    </tr>\n",
              "    <tr>\n",
              "      <th>std</th>\n",
              "      <td>1.116618</td>\n",
              "      <td>0.174094</td>\n",
              "      <td>0.466934</td>\n",
              "      <td>0.635363</td>\n",
              "      <td>7.940504</td>\n",
              "      <td>8.617957</td>\n",
              "      <td>19.401829</td>\n",
              "      <td>8.199027</td>\n",
              "      <td>49.667738</td>\n",
              "      <td>150.981155</td>\n",
              "      <td>181.011530</td>\n",
              "      <td>6.915338</td>\n",
              "      <td>4.611702</td>\n",
              "      <td>3.447047</td>\n",
              "    </tr>\n",
              "    <tr>\n",
              "      <th>min</th>\n",
              "      <td>1.000000</td>\n",
              "      <td>0.000000</td>\n",
              "      <td>0.000000</td>\n",
              "      <td>1.000000</td>\n",
              "      <td>0.820000</td>\n",
              "      <td>0.760000</td>\n",
              "      <td>0.000000</td>\n",
              "      <td>0.000000</td>\n",
              "      <td>0.000000</td>\n",
              "      <td>0.000000</td>\n",
              "      <td>1.000000</td>\n",
              "      <td>0.000000</td>\n",
              "      <td>1.000000</td>\n",
              "      <td>1.000000</td>\n",
              "    </tr>\n",
              "    <tr>\n",
              "      <th>25%</th>\n",
              "      <td>2.000000</td>\n",
              "      <td>0.000000</td>\n",
              "      <td>0.000000</td>\n",
              "      <td>1.000000</td>\n",
              "      <td>13.940000</td>\n",
              "      <td>16.665000</td>\n",
              "      <td>46.000000</td>\n",
              "      <td>7.001500</td>\n",
              "      <td>4.000000</td>\n",
              "      <td>35.000000</td>\n",
              "      <td>41.000000</td>\n",
              "      <td>6.000000</td>\n",
              "      <td>4.000000</td>\n",
              "      <td>4.000000</td>\n",
              "    </tr>\n",
              "    <tr>\n",
              "      <th>50%</th>\n",
              "      <td>3.000000</td>\n",
              "      <td>0.000000</td>\n",
              "      <td>1.000000</td>\n",
              "      <td>1.000000</td>\n",
              "      <td>20.500000</td>\n",
              "      <td>24.240000</td>\n",
              "      <td>61.000000</td>\n",
              "      <td>11.001400</td>\n",
              "      <td>16.000000</td>\n",
              "      <td>117.000000</td>\n",
              "      <td>144.000000</td>\n",
              "      <td>12.000000</td>\n",
              "      <td>8.000000</td>\n",
              "      <td>7.000000</td>\n",
              "    </tr>\n",
              "    <tr>\n",
              "      <th>75%</th>\n",
              "      <td>4.000000</td>\n",
              "      <td>0.000000</td>\n",
              "      <td>1.000000</td>\n",
              "      <td>2.000000</td>\n",
              "      <td>27.060000</td>\n",
              "      <td>31.060000</td>\n",
              "      <td>78.000000</td>\n",
              "      <td>16.997900</td>\n",
              "      <td>48.000000</td>\n",
              "      <td>222.000000</td>\n",
              "      <td>282.000000</td>\n",
              "      <td>18.000000</td>\n",
              "      <td>13.000000</td>\n",
              "      <td>10.000000</td>\n",
              "    </tr>\n",
              "    <tr>\n",
              "      <th>max</th>\n",
              "      <td>4.000000</td>\n",
              "      <td>1.000000</td>\n",
              "      <td>1.000000</td>\n",
              "      <td>4.000000</td>\n",
              "      <td>41.000000</td>\n",
              "      <td>45.455000</td>\n",
              "      <td>100.000000</td>\n",
              "      <td>56.996900</td>\n",
              "      <td>362.000000</td>\n",
              "      <td>886.000000</td>\n",
              "      <td>977.000000</td>\n",
              "      <td>23.000000</td>\n",
              "      <td>16.000000</td>\n",
              "      <td>12.000000</td>\n",
              "    </tr>\n",
              "  </tbody>\n",
              "</table>\n",
              "</div>\n",
              "      <button class=\"colab-df-convert\" onclick=\"convertToInteractive('df-77918ef4-a83b-4c64-9140-3afec4d524e2')\"\n",
              "              title=\"Convert this dataframe to an interactive table.\"\n",
              "              style=\"display:none;\">\n",
              "        \n",
              "  <svg xmlns=\"http://www.w3.org/2000/svg\" height=\"24px\"viewBox=\"0 0 24 24\"\n",
              "       width=\"24px\">\n",
              "    <path d=\"M0 0h24v24H0V0z\" fill=\"none\"/>\n",
              "    <path d=\"M18.56 5.44l.94 2.06.94-2.06 2.06-.94-2.06-.94-.94-2.06-.94 2.06-2.06.94zm-11 1L8.5 8.5l.94-2.06 2.06-.94-2.06-.94L8.5 2.5l-.94 2.06-2.06.94zm10 10l.94 2.06.94-2.06 2.06-.94-2.06-.94-.94-2.06-.94 2.06-2.06.94z\"/><path d=\"M17.41 7.96l-1.37-1.37c-.4-.4-.92-.59-1.43-.59-.52 0-1.04.2-1.43.59L10.3 9.45l-7.72 7.72c-.78.78-.78 2.05 0 2.83L4 21.41c.39.39.9.59 1.41.59.51 0 1.02-.2 1.41-.59l7.78-7.78 2.81-2.81c.8-.78.8-2.07 0-2.86zM5.41 20L4 18.59l7.72-7.72 1.47 1.35L5.41 20z\"/>\n",
              "  </svg>\n",
              "      </button>\n",
              "      \n",
              "  <style>\n",
              "    .colab-df-container {\n",
              "      display:flex;\n",
              "      flex-wrap:wrap;\n",
              "      gap: 12px;\n",
              "    }\n",
              "\n",
              "    .colab-df-convert {\n",
              "      background-color: #E8F0FE;\n",
              "      border: none;\n",
              "      border-radius: 50%;\n",
              "      cursor: pointer;\n",
              "      display: none;\n",
              "      fill: #1967D2;\n",
              "      height: 32px;\n",
              "      padding: 0 0 0 0;\n",
              "      width: 32px;\n",
              "    }\n",
              "\n",
              "    .colab-df-convert:hover {\n",
              "      background-color: #E2EBFA;\n",
              "      box-shadow: 0px 1px 2px rgba(60, 64, 67, 0.3), 0px 1px 3px 1px rgba(60, 64, 67, 0.15);\n",
              "      fill: #174EA6;\n",
              "    }\n",
              "\n",
              "    [theme=dark] .colab-df-convert {\n",
              "      background-color: #3B4455;\n",
              "      fill: #D2E3FC;\n",
              "    }\n",
              "\n",
              "    [theme=dark] .colab-df-convert:hover {\n",
              "      background-color: #434B5C;\n",
              "      box-shadow: 0px 1px 3px 1px rgba(0, 0, 0, 0.15);\n",
              "      filter: drop-shadow(0px 1px 2px rgba(0, 0, 0, 0.3));\n",
              "      fill: #FFFFFF;\n",
              "    }\n",
              "  </style>\n",
              "\n",
              "      <script>\n",
              "        const buttonEl =\n",
              "          document.querySelector('#df-77918ef4-a83b-4c64-9140-3afec4d524e2 button.colab-df-convert');\n",
              "        buttonEl.style.display =\n",
              "          google.colab.kernel.accessAllowed ? 'block' : 'none';\n",
              "\n",
              "        async function convertToInteractive(key) {\n",
              "          const element = document.querySelector('#df-77918ef4-a83b-4c64-9140-3afec4d524e2');\n",
              "          const dataTable =\n",
              "            await google.colab.kernel.invokeFunction('convertToInteractive',\n",
              "                                                     [key], {});\n",
              "          if (!dataTable) return;\n",
              "\n",
              "          const docLinkHtml = 'Like what you see? Visit the ' +\n",
              "            '<a target=\"_blank\" href=https://colab.research.google.com/notebooks/data_table.ipynb>data table notebook</a>'\n",
              "            + ' to learn more about interactive tables.';\n",
              "          element.innerHTML = '';\n",
              "          dataTable['output_type'] = 'display_data';\n",
              "          await google.colab.output.renderOutput(dataTable, element);\n",
              "          const docLink = document.createElement('div');\n",
              "          docLink.innerHTML = docLinkHtml;\n",
              "          element.appendChild(docLink);\n",
              "        }\n",
              "      </script>\n",
              "    </div>\n",
              "  </div>\n",
              "  "
            ]
          },
          "metadata": {},
          "execution_count": 300
        }
      ]
    },
    {
      "cell_type": "code",
      "source": [
        "input.isna().sum()"
      ],
      "metadata": {
        "colab": {
          "base_uri": "https://localhost:8080/"
        },
        "id": "0F4Iw7jb1aW6",
        "outputId": "f458d05b-4c7e-4f8b-9f15-076a14442d2d"
      },
      "execution_count": null,
      "outputs": [
        {
          "output_type": "execute_result",
          "data": {
            "text/plain": [
              "datetime      0\n",
              "season        0\n",
              "holiday       0\n",
              "workingday    0\n",
              "weather       0\n",
              "temp          0\n",
              "atemp         0\n",
              "humidity      0\n",
              "windspeed     0\n",
              "casual        0\n",
              "registered    0\n",
              "count         0\n",
              "hour          0\n",
              "day           0\n",
              "month         0\n",
              "dtype: int64"
            ]
          },
          "metadata": {},
          "execution_count": 301
        }
      ]
    },
    {
      "cell_type": "code",
      "source": [
        "import seaborn as sns\n",
        "plt.rcParams['figure.figsize'] = [14, 6]\n",
        "visu_ = sns.countplot(input['day'])\n",
        "plt.xlabel(\"Days\")\n",
        "plt.ylabel(\"Rental counts\")\n",
        "plt.xticks(rotation=90)\n",
        "plt.title(\"Visualization of bike rentals per day\")\n",
        "plt.show()"
      ],
      "metadata": {
        "colab": {
          "base_uri": "https://localhost:8080/",
          "height": 462
        },
        "id": "7kriEmga1jOZ",
        "outputId": "82bb14e3-6a56-4b6b-8954-f114cac36db2"
      },
      "execution_count": null,
      "outputs": [
        {
          "output_type": "stream",
          "name": "stderr",
          "text": [
            "/usr/local/lib/python3.7/dist-packages/seaborn/_decorators.py:43: FutureWarning: Pass the following variable as a keyword arg: x. From version 0.12, the only valid positional argument will be `data`, and passing other arguments without an explicit keyword will result in an error or misinterpretation.\n",
            "  FutureWarning\n"
          ]
        },
        {
          "output_type": "display_data",
          "data": {
            "text/plain": [
              "<Figure size 1008x432 with 1 Axes>"
            ],
            "image/png": "[encoded data removed]"
          },
          "metadata": {
            "needs_background": "light"
          }
        }
      ]
    },
    {
      "cell_type": "code",
      "source": [
        "import seaborn as sns\n",
        "plt.rcParams['figure.figsize'] = [7, 7]\n",
        "input[['casual', 'registered']][:25].plot(kind='bar', stacked=True)\n",
        "plt.xlabel(\"Day\")\n",
        "plt.ylabel(\"Total count of casual and registered\")\n",
        "plt.xticks(rotation=90)\n",
        "plt.show()\n"
      ],
      "metadata": {
        "colab": {
          "base_uri": "https://localhost:8080/",
          "height": 461
        },
        "id": "l3hLf9Ev2OMa",
        "outputId": "928dc53d-d258-421e-bebd-2146c9b3f9b4"
      },
      "execution_count": null,
      "outputs": [
        {
          "output_type": "display_data",
          "data": {
            "text/plain": [
              "<Figure size 504x504 with 1 Axes>"
            ],
            "image/png": "[encoded data removed]"
          },
          "metadata": {
            "needs_background": "light"
          }
        }
      ]
    },
    {
      "cell_type": "code",
      "source": [
        "import seaborn as sns\n",
        "\n",
        "plt.rcParams['figure.figsize'] = [5, 5]\n",
        "visu_ = sns.barplot('season', 'casual', data = input)\n",
        "plt.xlabel(\"Seasons\")\n",
        "plt.ylabel(\"Number of casual customers\")\n",
        "plt.xticks(rotation=90)\n",
        "\n",
        "plt.title(\"Casual customers in different seasons\")\n",
        "plt.show()"
      ],
      "metadata": {
        "colab": {
          "base_uri": "https://localhost:8080/",
          "height": 401
        },
        "id": "6r7eCEMO2UWC",
        "outputId": "082b0d88-e3c3-432d-9784-eb6680ff1358"
      },
      "execution_count": null,
      "outputs": [
        {
          "output_type": "stream",
          "name": "stderr",
          "text": [
            "/usr/local/lib/python3.7/dist-packages/seaborn/_decorators.py:43: FutureWarning: Pass the following variables as keyword args: x, y. From version 0.12, the only valid positional argument will be `data`, and passing other arguments without an explicit keyword will result in an error or misinterpretation.\n",
            "  FutureWarning\n"
          ]
        },
        {
          "output_type": "display_data",
          "data": {
            "text/plain": [
              "<Figure size 360x360 with 1 Axes>"
            ],
            "image/png": "[encoded data removed]"
          },
          "metadata": {
            "needs_background": "light"
          }
        }
      ]
    },
    {
      "cell_type": "code",
      "source": [
        "\n",
        "for p in ['season', 'weather', 'holiday', 'workingday']:\n",
        "    input[p] = input[p].astype('object')\n",
        "\n",
        "dummy_ = pd.get_dummies(input[['season', 'holiday', 'workingday', 'weather']])\n",
        "\n",
        "#drop not required data\n",
        "R = input.drop(['datetime','casual','registered', 'season', 'holiday', 'workingday', 'weather', 'day', 'count'], axis=1)\n",
        "\n",
        "# join dummy data to input\n",
        "R = R.join(dummy_)\n",
        "s = input['count']\n"
      ],
      "metadata": {
        "id": "CeAa8svs2g62"
      },
      "execution_count": null,
      "outputs": []
    },
    {
      "cell_type": "code",
      "source": [
        "from sklearn.model_selection import KFold\n",
        "from sklearn.linear_model import LinearRegression\n",
        "from sklearn.metrics import mean_squared_error, r2_score\n",
        "# We split the dataset using Kfold cross validation\n",
        "cross_val = KFold(n_splits=7, shuffle=True, random_state=None)\n",
        "for train, test in cross_val.split(input):\n",
        "    print('train: %s, test: %s' % (train, test))"
      ],
      "metadata": {
        "colab": {
          "base_uri": "https://localhost:8080/"
        },
        "id": "ob4OpJ3i6WiN",
        "outputId": "baf2746a-1d3c-4fcf-e34d-b36d8720d7aa"
      },
      "execution_count": null,
      "outputs": [
        {
          "output_type": "stream",
          "name": "stdout",
          "text": [
            "train: [   0    1    2 ... 9170 9172 9173], test: [   9   12   19 ... 9160 9168 9171]\n",
            "train: [   1    2    3 ... 9171 9172 9173], test: [   0   14   16 ... 9131 9141 9165]\n",
            "train: [   0    1    2 ... 9171 9172 9173], test: [   4    7   10 ... 9156 9161 9163]\n",
            "train: [   0    1    2 ... 9171 9172 9173], test: [  15   25   47 ... 9164 9166 9169]\n",
            "train: [   0    1    2 ... 9170 9171 9173], test: [   8   13   17 ... 9157 9158 9172]\n",
            "train: [   0    1    3 ... 9171 9172 9173], test: [   2   11   22 ... 9137 9140 9167]\n",
            "train: [   0    2    4 ... 9169 9171 9172], test: [   1    3    5 ... 9162 9170 9173]\n"
          ]
        }
      ]
    },
    {
      "cell_type": "code",
      "source": [
        "\n",
        "input_1 = pd.read_csv(\"https://raw.githubusercontent.com/unt-iialab/info5502-spring2022/main/datasets/lab_assignment_06/test_luc.csv\")\n",
        "\n",
        "input_1['datetime'] = pd.to_datetime(input_1.datetime)\n",
        "\n",
        "input_1['hour'] = input_1['datetime'].dt.hour\n",
        "input_1['month'] = input_1['datetime'].dt.month\n",
        "\n",
        "for i in ['season', 'weather', 'holiday', 'workingday']:\n",
        "    input_1[i] = input_1[i].astype('object')\n",
        "\n",
        "dummy_1 = pd.get_dummies(input_1[['season', 'holiday', 'workingday', 'weather']])\n",
        "input_1 = input_1.drop(['datetime', 'season', 'holiday', 'workingday', 'weather'], axis=1)\n",
        "input_1 = input_1.join(dummy_1)\n",
        "\n",
        "input_1['weather_4'] = 0\n",
        "print(input_1.columns)\n",
        "print(R.columns)\n"
      ],
      "metadata": {
        "colab": {
          "base_uri": "https://localhost:8080/"
        },
        "id": "syi2qqTU4Rf7",
        "outputId": "bc5b4a5c-9827-4fd2-ebf0-65dc194fde2e"
      },
      "execution_count": null,
      "outputs": [
        {
          "output_type": "stream",
          "name": "stdout",
          "text": [
            "Index(['temp', 'atemp', 'humidity', 'windspeed', 'hour', 'month', 'season_1',\n",
            "       'season_2', 'season_3', 'season_4', 'holiday_0', 'holiday_1',\n",
            "       'workingday_0', 'workingday_1', 'weather_1', 'weather_2', 'weather_3',\n",
            "       'weather_4'],\n",
            "      dtype='object')\n",
            "Index(['temp', 'atemp', 'humidity', 'windspeed', 'hour', 'month', 'season_1',\n",
            "       'season_2', 'season_3', 'season_4', 'holiday_0', 'holiday_1',\n",
            "       'workingday_0', 'workingday_1', 'weather_1', 'weather_2', 'weather_3',\n",
            "       'weather_4'],\n",
            "      dtype='object')\n"
          ]
        }
      ]
    },
    {
      "cell_type": "code",
      "source": [
        "# For finding the customers count of Rentals let's use Linear Regression\n",
        "\n",
        "from sklearn.linear_model import LinearRegression\n",
        "import numpy as np \n",
        "import matplotlib.pyplot as plt\n",
        "\n",
        "\n",
        "lin_reg = LinearRegression()\n",
        "lin_reg.fit(R.iloc[train], s.iloc[train])\n",
        "lin_pre = lin_reg.predict(R.iloc[test])\n",
        "sq_er = mean_squared_error(s.iloc[test], lin_pre)\n",
        "print(\"RMSE is :\", np.sqrt(sq_er))\n",
        "r_score = r2_score(s.iloc[test], lin_pre)\n",
        "print(\"R2 Score is:\", r_score)\n",
        "\n",
        "#prediction\n",
        "lin_test = lin_reg.predict(input_1)\n",
        "lin_test\n"
      ],
      "metadata": {
        "colab": {
          "base_uri": "https://localhost:8080/"
        },
        "id": "s59IMG-o4dlK",
        "outputId": "138408ad-f913-41d6-dac6-5984bd39b33e"
      },
      "execution_count": null,
      "outputs": [
        {
          "output_type": "stream",
          "name": "stdout",
          "text": [
            "RMSE is : 147.5098891867063\n",
            "R2 Score is: 0.3421492965516719\n"
          ]
        },
        {
          "output_type": "execute_result",
          "data": {
            "text/plain": [
              "array([ 12.01879987,  24.51477358,  24.63819512, ..., 255.29897812,\n",
              "       267.32547992, 258.87359941])"
            ]
          },
          "metadata": {},
          "execution_count": 248
        }
      ]
    },
    {
      "cell_type": "code",
      "source": [
        "from sklearn.tree import DecisionTreeRegressor\n",
        "# To find the count values let's use Decision Tree Regressor model \n",
        "reg = DecisionTreeRegressor(random_state=211)\n",
        "reg.fit(R.iloc[train], s.iloc[train])\n",
        "reg_pre = reg.predict(R.iloc[test])\n",
        "sq_er = mean_squared_error(s.iloc[test], reg_pre)\n",
        "print(\"RMSE is:\", np.sqrt(sq_er))\n",
        "r_score = r2_score(s.iloc[test], reg_pre)\n",
        "print(\"R2 Score is:\", r_score)\n",
        "lin_test = reg.predict(input_1)\n",
        "lin_test\n"
      ],
      "metadata": {
        "colab": {
          "base_uri": "https://localhost:8080/"
        },
        "id": "PNSy9VUo6wvt",
        "outputId": "2312f821-9763-48d0-9a06-e7db93d22234"
      },
      "execution_count": null,
      "outputs": [
        {
          "output_type": "stream",
          "name": "stdout",
          "text": [
            "RMSE is: 89.04486925397788\n",
            "R2 Score is: 0.7602807716504566\n"
          ]
        },
        {
          "output_type": "execute_result",
          "data": {
            "text/plain": [
              "array([ 25.,  42.,  43., ..., 207.,  64.,  93.])"
            ]
          },
          "metadata": {},
          "execution_count": 249
        }
      ]
    },
    {
      "cell_type": "code",
      "source": [
        "# To find the count values let's use Random Forest Regressor \n",
        "\n",
        "from sklearn.ensemble import RandomForestRegressor\n",
        "for_reg = RandomForestRegressor(random_state = 211)\n",
        "for_reg.fit(R.iloc[train], s.iloc[train])\n",
        "for_pre = for_reg.predict(R.iloc[test])\n",
        "sq_er = mean_squared_error(s.iloc[test], for_pre)\n",
        "print(\"RMSE is:\", np.sqrt(sq_er))\n",
        "r_score = r2_score(s.iloc[test], for_pre)\n",
        "print(\"R2 Score is: \", r_score)\n",
        "for_test = for_reg.predict(input_1)\n",
        "for_test\n"
      ],
      "metadata": {
        "colab": {
          "base_uri": "https://localhost:8080/"
        },
        "id": "8QPSJqeM6x2N",
        "outputId": "e76166fc-1637-47d6-8214-b185e664aaa0"
      },
      "execution_count": null,
      "outputs": [
        {
          "output_type": "stream",
          "name": "stdout",
          "text": [
            "RMSE is: 67.68740837985727\n",
            "R2 Score is:  0.861483712808641\n"
          ]
        },
        {
          "output_type": "execute_result",
          "data": {
            "text/plain": [
              "array([ 39.91,  32.44,  34.1 , ..., 165.95, 136.64,  95.95])"
            ]
          },
          "metadata": {},
          "execution_count": 250
        }
      ]
    },
    {
      "cell_type": "code",
      "source": [
        "input_1 = pd.read_csv(\"https://raw.githubusercontent.com/unt-iialab/info5502-spring2022/main/datasets/lab_assignment_06/test_luc.csv\")\n",
        "input_1['count'] = for_test\n"
      ],
      "metadata": {
        "id": "uzCgaXIY65dC"
      },
      "execution_count": null,
      "outputs": []
    },
    {
      "cell_type": "code",
      "source": [
        "input_2 = input_1[['datetime','count']].to_csv('customers_prediction.csv', index=False, header=True)"
      ],
      "metadata": {
        "id": "DbVyEAXBLfy-"
      },
      "execution_count": null,
      "outputs": []
    },
    {
      "cell_type": "code",
      "source": [
        "\n",
        "#store the test prediction values of RF Regressor model as RMSE is low for RE reg and R2 score us less for RF reg\n",
        "input_2 = input_1[['datetime','count']].to_csv('BR_prediction.csv', index=False, header=True)\n"
      ],
      "metadata": {
        "id": "XY1iuXS87H8O"
      },
      "execution_count": null,
      "outputs": []
    },
    {
      "cell_type": "code",
      "source": [
        "R = input.drop(['datetime','casual','registered', 'season', 'holiday', 'workingday', 'weather', 'day', 'count'], axis=1)\n",
        "R = R.join(dummy_)\n",
        "s = input['casual']\n",
        "input_1 = pd.read_csv(\"https://raw.githubusercontent.com/unt-iialab/info5502-spring2022/main/datasets/lab_assignment_06/test_luc.csv\")\n",
        "\n",
        "input_1['datetime'] = pd.to_datetime(input_1.datetime)\n",
        "\n",
        "input_1['hour'] = input_1['datetime'].dt.hour\n",
        "input_1['month'] = input_1['datetime'].dt.month\n",
        "\n",
        "for p in ['season', 'weather', 'holiday', 'workingday']:\n",
        "    input_1[p] = input_1[p].astype('object')\n",
        "\n",
        "dummy_1 = pd.get_dummies(input_1[['season', 'holiday', 'workingday', 'weather']])\n",
        "input_1 = input_1.drop(['datetime', 'season', 'holiday', 'workingday', 'weather'], axis=1)\n",
        "input_1 = input_1.join(dummy_1)\n",
        "input_1['weather_4'] = 0\n"
      ],
      "metadata": {
        "id": "qAj1mv0r7M7s"
      },
      "execution_count": null,
      "outputs": []
    },
    {
      "cell_type": "code",
      "source": [
        "#For predicting Casual customers using LR\n",
        "\n",
        "lin_reg = LinearRegression()\n",
        "lin_reg.fit(R.iloc[train], s.iloc[train])\n",
        "lin_pre = lin_reg.predict(R.iloc[test])\n",
        "sq_er = mean_squared_error(s.iloc[test], lin_pre)\n",
        "print(\"RMSE is:\", np.sqrt(sq_er))\n",
        "r_score = r2_score(s.iloc[test], lin_pre)\n",
        "print(\"R2 Score is:\", r_score)\n",
        "\n",
        "lin_test = lin_reg.predict(input_1)\n",
        "lin_test\n"
      ],
      "metadata": {
        "colab": {
          "base_uri": "https://localhost:8080/"
        },
        "id": "Nmu2k0j47Scw",
        "outputId": "3c054e31-3ec6-49e3-e5dc-c3ecf68b8fcc"
      },
      "execution_count": null,
      "outputs": [
        {
          "output_type": "stream",
          "name": "stdout",
          "text": [
            "RMSE is: 33.62435017704042\n",
            "R2 Score is: 0.5009456271068116\n"
          ]
        },
        {
          "output_type": "execute_result",
          "data": {
            "text/plain": [
              "array([13.63502027, 16.84718074, 15.0466357 , ..., 18.8956109 ,\n",
              "       22.81570912, 18.02362225])"
            ]
          },
          "metadata": {},
          "execution_count": 255
        }
      ]
    },
    {
      "cell_type": "code",
      "source": [
        "#For predicting Casual customers using DTR\n",
        "\n",
        "from sklearn.tree import DecisionTreeRegressor\n",
        "\n",
        "\n",
        "reg = DecisionTreeRegressor(random_state=211)\n",
        "reg.fit(R.iloc[train], s.iloc[train])\n",
        "reg_pre = reg.predict(R.iloc[test])\n",
        "sq_er = mean_squared_error(s.iloc[test], reg_pre)\n",
        "print(\"RMSE:\", np.sqrt(sq_er))\n",
        "r_squared = r2_score(s.iloc[test], reg_pre)\n",
        "print(\"R2 Score:\", r_squared)\n",
        "reg_test = reg.predict(input_1)\n",
        "reg_test\n"
      ],
      "metadata": {
        "colab": {
          "base_uri": "https://localhost:8080/"
        },
        "id": "WWOk4aIW7WzM",
        "outputId": "9a9f89b9-f2e4-415b-81b9-7451fa234651"
      },
      "execution_count": null,
      "outputs": [
        {
          "output_type": "stream",
          "name": "stdout",
          "text": [
            "RMSE: 22.36323574479103\n",
            "R2 Score: 0.7792456096803808\n"
          ]
        },
        {
          "output_type": "execute_result",
          "data": {
            "text/plain": [
              "array([5., 5., 2., ..., 9., 5., 3.])"
            ]
          },
          "metadata": {},
          "execution_count": 256
        }
      ]
    },
    {
      "cell_type": "code",
      "source": [
        "#For predicting Casual customers using RFR\n",
        "\n",
        "from sklearn.ensemble import RandomForestRegressor\n",
        "for_reg = RandomForestRegressor(random_state = 211)\n",
        "for_reg.fit(R.iloc[train], s.iloc[train])\n",
        "for_pre = for_reg.predict(R.iloc[test])\n",
        "sq_er = mean_squared_error(s.iloc[test], for_pre)\n",
        "print(\"RMSE:\", np.sqrt(sq_er))\n",
        "r_squared = r2_score(s.iloc[test], for_pre)\n",
        "print(\"R2 Score:\", r_squared)\n",
        "for_test = for_reg.predict(input_1)\n",
        "for_test\n"
      ],
      "metadata": {
        "colab": {
          "base_uri": "https://localhost:8080/"
        },
        "id": "5xz-DTB47bhp",
        "outputId": "a9e762f7-640b-4b6f-c9c8-12285d2d2b0a"
      },
      "execution_count": null,
      "outputs": [
        {
          "output_type": "stream",
          "name": "stdout",
          "text": [
            "RMSE: 17.01591994442361\n",
            "R2 Score: 0.8721940912065698\n"
          ]
        },
        {
          "output_type": "execute_result",
          "data": {
            "text/plain": [
              "array([ 3.03,  2.78,  4.43, ..., 10.65,  9.57,  5.93])"
            ]
          },
          "metadata": {},
          "execution_count": 257
        }
      ]
    },
    {
      "cell_type": "code",
      "source": [
        "\n",
        "\n",
        "#store the test prediction values of RF Regressor model as RMSE is low for RE reg and R2 score us less for RF reg\n",
        "\n",
        "input_1 = pd.read_csv(\"https://raw.githubusercontent.com/unt-iialab/info5502-spring2022/main/datasets/lab_assignment_06/test_luc.csv\")\n",
        "input_1['count'] = for_test\n",
        "input_2 = input_1[['datetime','count']].to_csv('casual_customers_prediction.csv', index=False, header=True)\n"
      ],
      "metadata": {
        "id": "RiKw1hyE7hVQ"
      },
      "execution_count": null,
      "outputs": []
    },
    {
      "cell_type": "code",
      "source": [
        "#Registered Customers prediction\n",
        "\n",
        "\n",
        "R = input.drop(['datetime','casual','registered', 'season', 'holiday', 'workingday', 'weather', 'day', 'count'], axis=1)\n",
        "R = R.join(dummy_)\n",
        "s = input['registered']\n",
        "input_1 = pd.read_csv(\"https://raw.githubusercontent.com/unt-iialab/info5502-spring2022/main/datasets/lab_assignment_06/test_luc.csv\")\n",
        "\n",
        "input_1['datetime'] = pd.to_datetime(input_1.datetime)\n",
        "\n",
        "input_1['hour'] = input_1['datetime'].dt.hour\n",
        "input_1['month'] = input_1['datetime'].dt.month\n",
        "\n",
        "for p in ['season', 'weather', 'holiday', 'workingday']:\n",
        "    input_1[p] = input_1[p].astype('object')\n",
        "\n",
        "dummy_1 = pd.get_dummies(input_1[['season', 'holiday', 'workingday', 'weather']])\n",
        "input_1 = input_1.drop(['datetime', 'season', 'holiday', 'workingday', 'weather'], axis=1)\n",
        "input_1 = input_1.join(dummy_1)\n",
        "input_1['weather_4'] = 0\n"
      ],
      "metadata": {
        "id": "xtbXfW2F7hcU"
      },
      "execution_count": null,
      "outputs": []
    },
    {
      "cell_type": "code",
      "source": [
        "\n",
        "#For predicting Registered Customers count using LR\n",
        "\n",
        "lin_reg = LinearRegression()\n",
        "lin_reg.fit(R.iloc[train], s.iloc[train])\n",
        "lin_pre = lin_reg.predict(R.iloc[test])\n",
        "sq_er = mean_squared_error(s.iloc[test], lin_pre)\n",
        "print(\"RMSE is:\", np.sqrt(sq_er))\n",
        "r_score = r2_score(s.iloc[test], lin_pre)\n",
        "print(\"R2 Score is:\", r_score)\n",
        "lin_test = lin_reg.predict(input_1)\n",
        "lin_test\n"
      ],
      "metadata": {
        "colab": {
          "base_uri": "https://localhost:8080/"
        },
        "id": "SkAUq2cG7tT6",
        "outputId": "f493eb9f-7028-453c-df60-39300cf8e34b"
      },
      "execution_count": null,
      "outputs": [
        {
          "output_type": "stream",
          "name": "stdout",
          "text": [
            "RMSE is: 130.241088371763\n",
            "R2 Score is: 0.2712873325631501\n"
          ]
        },
        {
          "output_type": "execute_result",
          "data": {
            "text/plain": [
              "array([ -1.6162204 ,   7.66759284,   9.59155942, ..., 236.40336721,\n",
              "       244.5097708 , 240.84997716])"
            ]
          },
          "metadata": {},
          "execution_count": 293
        }
      ]
    },
    {
      "cell_type": "code",
      "source": [
        "\n",
        "#For predicting Registered Customers count using DTR\n",
        "\n",
        "\n",
        "from sklearn.tree import DecisionTreeRegressor\n",
        "reg = DecisionTreeRegressor(random_state=211)\n",
        "reg.fit(R.iloc[train], s.iloc[train])\n",
        "reg_pre = reg.predict(R.iloc[test])\n",
        "sq_er = mean_squared_error(s.iloc[test], reg_pre)\n",
        "print(\"RMSE:\", np.sqrt(sq_er))\n",
        "r_score = r2_score(s.iloc[test], reg_pre)\n",
        "print(\"R2 Score:\", r2_score)\n",
        "reg_test = reg.predict(input_1)\n",
        "reg_test\n"
      ],
      "metadata": {
        "colab": {
          "base_uri": "https://localhost:8080/"
        },
        "id": "rxVRa2Vb73Yc",
        "outputId": "832def4a-6f9c-43af-c0ff-aa068136ed9f"
      },
      "execution_count": null,
      "outputs": [
        {
          "output_type": "stream",
          "name": "stdout",
          "text": [
            "RMSE: 74.87328353816373\n",
            "R2 Score: <function r2_score at 0x7f5be3939170>\n"
          ]
        },
        {
          "output_type": "execute_result",
          "data": {
            "text/plain": [
              "array([ 24.,  14.,  14., ..., 193.,  99.,  53.])"
            ]
          },
          "metadata": {},
          "execution_count": 294
        }
      ]
    },
    {
      "cell_type": "code",
      "source": [
        "\n",
        "#For predicting Registered Customers count using RFR\n",
        "\n",
        "\n",
        "from sklearn.ensemble import RandomForestRegressor\n",
        "for_reg = RandomForestRegressor(random_state = 211)\n",
        "for_reg.fit(R.iloc[train], s.iloc[train])\n",
        "for_pre = for_reg.predict(R.iloc[test])\n",
        "sq_er = mean_squared_error(s.iloc[test], for_pre)\n",
        "print(\"RMSE:\", np.sqrt(sq_er))\n",
        "r_score = r2_score(s.iloc[test], for_pre)\n",
        "print(\"R2 Score:\",r_score)\n",
        "for_test = for_reg.predict(input_1)\n",
        "for_test\n"
      ],
      "metadata": {
        "colab": {
          "base_uri": "https://localhost:8080/"
        },
        "id": "eK9WbSkn8CCb",
        "outputId": "47237449-85ff-4845-bbaf-4a282e322b3a"
      },
      "execution_count": null,
      "outputs": [
        {
          "output_type": "stream",
          "name": "stdout",
          "text": [
            "RMSE: 59.994156140903314\n",
            "R2 Score: 0.8453755443853218\n"
          ]
        },
        {
          "output_type": "execute_result",
          "data": {
            "text/plain": [
              "array([ 35.39,  31.43,  26.75, ..., 154.93, 124.47,  78.33])"
            ]
          },
          "metadata": {},
          "execution_count": 295
        }
      ]
    },
    {
      "cell_type": "code",
      "source": [
        "\n",
        "#store the test prediction values of RF Regressor model as RMSE is low for RE reg and R2 score us less for RF reg\n",
        "\n",
        "\n",
        "input_2 = pd.read_csv('https://raw.githubusercontent.com/unt-iialab/info5502-spring2022/main/datasets/lab_assignment_06/test_luc.csv', header=0)\n",
        "print(\"\\nNumber of samples:\",input_2.shape[0] ,\"and number of features:\",input_2.shape[1],\"\\n\")\n",
        "\n",
        "input_1 = pd.read_csv(\"https://raw.githubusercontent.com/unt-iialab/info5502-spring2022/main/datasets/lab_assignment_06/test_luc.csv\")\n",
        "input_1['count'] = for_test\n",
        "input_2 = input_1[['datetime','count']].to_csv('final_register_customers_prediction.csv', index=False, header=True)\n",
        "print(\"Prediction completed and it is Saved as final_register_customers_prediction.csv\")\n"
      ],
      "metadata": {
        "colab": {
          "base_uri": "https://localhost:8080/"
        },
        "id": "TIGmH2LT8T_F",
        "outputId": "f3e882fc-0514-4cc8-8de8-fca4af4012aa"
      },
      "execution_count": null,
      "outputs": [
        {
          "output_type": "stream",
          "name": "stdout",
          "text": [
            "\n",
            "Number of samples: 1712 and number of features: 9 \n",
            "\n",
            "Prediction completed and it is Saved as final_register_customers_prediction.csv\n"
          ]
        }
      ]
    }
  ],
  "metadata": {
    "kernelspec": {
      "display_name": "Python 3",
      "language": "python",
      "name": "python3"
    },
    "language_info": {
      "codemirror_mode": {
        "name": "ipython",
        "version": 3
      },
      "file_extension": ".py",
      "mimetype": "text/x-python",
      "name": "python",
      "nbconvert_exporter": "python",
      "pygments_lexer": "ipython3",
      "version": "3.8.5"
    },
    "colab": {
      "name": "lab_assignment_06.ipynb",
      "provenance": [],
      "collapsed_sections": [],
      "include_colab_link": true
    }
  },
  "nbformat": 4,
  "nbformat_minor": 0
}