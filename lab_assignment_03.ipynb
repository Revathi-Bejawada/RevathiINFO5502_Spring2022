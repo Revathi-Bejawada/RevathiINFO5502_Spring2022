{
  "cells": [
    {
      "cell_type": "markdown",
      "metadata": {
        "id": "view-in-github",
        "colab_type": "text"
      },
      "source": [
        "<a href=\"https://colab.research.google.com/github/Revathi-Bejawada/RevathiINFO5502_Spring2022/blob/main/lab_assignment_03.ipynb\" target=\"_parent\"><img src=\"https://colab.research.google.com/assets/colab-badge.svg\" alt=\"Open In Colab\"/></a>"
      ]
    },
    {
      "cell_type": "markdown",
      "metadata": {
        "id": "zQzJvk2PxcHV"
      },
      "source": [
        "## The third Lab-assignment (02/10/2022, 50 points in total)"
      ]
    },
    {
      "cell_type": "markdown",
      "metadata": {
        "id": "8uNeDjeBxcHZ"
      },
      "source": [
        "The purpose of this exercise is to understand users' information needs, then collect data from different sources for analysis."
      ]
    },
    {
      "cell_type": "markdown",
      "metadata": {
        "id": "7hU-hsYWxcHa"
      },
      "source": [
        "Question 1 (10 points). Fomulate your domain problem: Describe an interesting research question (or practical question) you have in mind, what kind of data should be collected to answer the question(s)? How many data needed for the analysis? The detail steps for collecting and save the data. "
      ]
    },
    {
      "cell_type": "code",
      "execution_count": null,
      "metadata": {
        "id": "QZiiz5dmxcHa"
      },
      "outputs": [],
      "source": [
        "# Your answer here (no code for this question, write down your answer as detail as possible for the above questions):\n",
        "\n",
        "'''\n",
        "Please write you answer here:\n",
        "\n",
        "Domain Problem:\n",
        "\n",
        "My domain problem is to do TV ratings scraping and analysis of ratings to find the best TV based on the customer reviews\n",
        "\n",
        "In this we are webscrapping the data from ecommerce website Flipkart we will be considering only the reviews I have seen the inspect html code and I have considered only the reviews.\n",
        "\n",
        "For our analysis we have considered 1000 samples of data\n",
        "\n",
        "Steps for collecting and saving the data:\n",
        "\n",
        "1.We use web scraping technique to scrape the data.\n",
        "2.We use requests library to send the request to the website\n",
        "3.We use BeautifulSoup library.\n",
        "4.There are 1,591 results for Tv Applications.\n",
        "5.We parse through each page and go to the reviews.\n",
        "6.We get the reviews from the product pages.\n",
        "\n",
        "\n",
        "\n",
        "'''"
      ]
    },
    {
      "cell_type": "markdown",
      "metadata": {
        "id": "dVYRrqpJxcHc"
      },
      "source": [
        "Question 2 (10 points). Collect your data to answer the research problem: Write python code to collect 1000 data samples you discussed above."
      ]
    },
    {
      "cell_type": "code",
      "execution_count": 1,
      "metadata": {
        "colab": {
          "base_uri": "https://localhost:8080/"
        },
        "id": "S5pr3YGXxcHc",
        "outputId": "43c14984-9ce0-422c-cf48-288dd04b8441"
      },
      "outputs": [
        {
          "output_type": "stream",
          "name": "stdout",
          "text": [
            "*** Page 1 ***\n",
            "37\n",
            "*** Page 2 ***\n",
            "73\n",
            "*** Page 3 ***\n",
            "109\n",
            "*** Page 4 ***\n",
            "147\n",
            "*** Page 5 ***\n",
            "180\n",
            "*** Page 6 ***\n",
            "217\n",
            "*** Page 7 ***\n",
            "252\n",
            "*** Page 8 ***\n",
            "289\n",
            "*** Page 9 ***\n",
            "326\n",
            "*** Page 10 ***\n",
            "361\n",
            "*** Page 11 ***\n",
            "393\n",
            "*** Page 12 ***\n",
            "429\n",
            "*** Page 13 ***\n",
            "465\n",
            "*** Page 14 ***\n",
            "495\n",
            "*** Page 15 ***\n",
            "528\n",
            "*** Page 16 ***\n",
            "561\n",
            "*** Page 17 ***\n",
            "595\n",
            "*** Page 18 ***\n",
            "624\n",
            "*** Page 19 ***\n",
            "658\n",
            "*** Page 20 ***\n",
            "692\n",
            "*** Page 21 ***\n",
            "723\n",
            "*** Page 22 ***\n",
            "754\n",
            "*** Page 23 ***\n",
            "786\n",
            "*** Page 24 ***\n",
            "819\n",
            "*** Page 25 ***\n",
            "848\n",
            "*** Page 26 ***\n",
            "879\n",
            "*** Page 27 ***\n",
            "913\n",
            "*** Page 28 ***\n",
            "941\n",
            "*** Page 29 ***\n",
            "967\n",
            "*** Page 30 ***\n",
            "1000\n",
            "['3.8', '4.3', '4.4', '4.4', '4.3', '4.1', '4.2', '4.2', '4.3', '4.4', '4.3', '4.4', '4.4', '4.4', '4.3', '4.3', '4.2', '4.5', '4.3', '4.3', '4.3', '4.4', '4.4', '5', '5', '3.8', '5', '5', '4.3', '4', '1', '4.2', '4', '5', '4.4', '4', '5', '4.4', '4.4', '4.4', '3.8', '4.1', '4.3', '4.3', '4.4', '4.3', '4.2', '4.2', '4.3', '4.4', '4.3', '4.3', '4.4', '4.6', '4.5', '4.4', '4.4', '4.3', '4.1', '5', '2', '3.8', '5', '5', '4.5', '5', '5', '4.4', '5', '5', '4.4', '5', '5', '4.3', '4.2', '4.3', '3.8', '4.4', '4.3', '4.1', '4.4', '4.4', '4.3', '4.4', '4.4', '4.4', '4.3', '4.6', '4.6', '4.4', '4.4', '4', '4.4', '4.5', '3.8', '5', '5', '4.4', '4', '5', '4', '5', '4', '4.4', '4', '5', '4.4', '5', '5', '4.5', '4.4', '4.2', '3.8', '4.4', '4.4', '4.4', '4.4', '4.3', '4.4', '4.2', '4.4', '4.4', '4.5', '4.2', '4.6', '4.1', '4.6', '4.5', '4.3', '4.7', '4.6', '4.5', '3.8', '5', '5', '4.4', '5', '5', '4.7', '5', '5', '4.5', '5', '4', '4.3', '5', '5', '4.4', '4.5', '3.8', '4.5', '4.4', '4.4', '4.4', '4.2', '4.4', '4.7', '4.5', '3.8', '4.3', '4.1', '4.3', '4.8', '4.4', '4.3', '4.5', '5', '5', '4.4', '5', '5', '4.4', '5', '5', '4.5', '5', '5', '4.5', '5', '5', '4.3', '4.1', '4.4', '3.8', '4.4', '4.2', '4.3', '4.6', '4.4', '4.3', '4.2', '4.4', '4.4', '4.5', '4.3', '4.4', '4.6', '4.1', '4.4', '4.4', '4.4', '4.3', '4.4', '4', '1', '3.8', '5', '5', '4.6', '5', '4', '4.3', '4', '5', '4.1', '5', '5', '4.4', '4.2', '4.5', '4.4', '4.3', '4.3', '4.2', '4.4', '4.3', '4.4', '4', '4.4', '4.4', '4.3', '4.3', '4.3', '4.3', '4.2', '4.2', '4.3', '4.3', '1', '2', '4.4', '5', '3', '4.3', '5', '1', '4.3', '3', '5', '4.2', '5', '5', '4.5', '4.6', '4.4', '3.8', '4.3', '4.4', '4.4', '4.4', '3.7', '4.3', '4.2', '4.3', '5', '4.4', '4.2', '4.3', '4.5', '4.5', '4.4', '4.6', '4.4', '4.8', '4.6', '5', '5', '4.3', '5', '2', '3.8', '5', '5', '4.4', '3', '5', '4.2', '5', '5', '4.5', '4.4', '4.1', '3.8', '4.2', '4.7', '4.5', '4.3', '4.3', '4.2', '4', '4.5', '4.5', '4.2', '4.3', '4.4', '4.3', '4.5', '4.3', '4.6', '4.4', '4.1', '3.8', '5', '5', '4.3', '5', '2', '4.3', '4', '5', '4', '5', '5', '4.7', '5', '5', '4.5', '4.3', '4.4', '3.8', '4.4', '4.1', '4.3', '4.2', '4.4', '4.2', '4.8', '4.4', '4.4', '4.5', '4.6', '5', '4.3', '5', '4.5', '4.3', '4.1', '5', '3', '4.4', '4', '5', '3.8', '5', '5', '4.3', '1', '2', '4.5', '4', '4', '4.5', '3.8', '3.8', '4.3', '3', '4.3', '4.5', '4.2', '4.6', '4.3', '4.3', '4.4', '3.8', '4.2', '4.6', '4.4', '4.8', '4.4', '5', '5', '4.5', '5', '4', '4.3', '5', '1', '4.2', '5', '1', '4.6', '5', '5', '4.3', '4.4', '4.8', '3.8', '4.5', '4.2', '3.9', '4.3', '4.5', '4.3', '4.2', '4.3', '5', '4.5', '4.4', '4.2', '4.5', '4.1', '4.4', '4.2', '4.3', '4.2', '5', '5', '4.3', '5', '5', '4.8', '5', '4', '3.9', '3', '4', '4.4', '3', '5', '3.9', '4.3', '3.8', '4.4', '4.1', '4.8', '4.8', '4.5', '4.2', '4.3', '4.4', '4.3', '4.5', '4.6', '4.3', '3.7', '4.1', '4', '4.4', '4.3', '4.3', '4.3', '4', '5', '4.4', '4', '1', '4.6', '5', '5', '4.3', '5', '5', '4.3', '4', '4', '2.3', '4.3', '3.8', '4.5', '4.3', '4.2', '4.2', '3.6', '4.7', '3.7', '4.4', '4.4', '4.3', '4.2', '4.2', '4.7', '5', '5', '4.4', '4', '5', '4.2', '5', '1', '3.7', '5', '5', '4.5', '5', '5', '4.4', '4.4', '4.3', '3.8', '4.3', '4.4', '4.5', '4.2', '3', '4.1', '4.4', '4.5', '4', '4', '4.5', '4.2', '4.7', '4.1', '4.4', '4', '5', '4.1', '3', '3', '4.4', '5', '5', '3', '5', '5', '4.4', '5', '4', '4.3', '4', '3.8', '4.3', '4.1', '4.8', '4.2', '4.3', '4.4', '4.4', '4.5', '4.7', '4', '4.5', '4.8', '4.6', '4.4', '4.1', '4.3', '5', '3', '4.6', '4', '4', '4.1', '5', '4', '4.3', '4', '4', '4.8', '4', '4', '4.4', '5', '3.8', '5', '4.5', '3.9', '4.5', '4.2', '5', '4', '4.2', '4.4', '4.2', '4.2', '4.5', '3.8', '5', '4.4', '4.5', '4.2', '5', '1', '4.4', '4', '5', '3.9', '5', '4', '5', '5', '5', '4', '5', '1', '4.3', '3.8', '4.7', '4.4', '5', '4.1', '4.3', '4.2', '4.4', '4.2', '4.4', '4.2', '4.3', '4.3', '4.4', '3', '4', '4.3', '5', '5', '4.4', '3', '5', '4.1', '5', '5', '4.3', '4', '4', '4.7', '4.3', '3.8', '4.4', '4.4', '4.4', '4.8', '4.8', '4.4', '4.2', '4.3', '4.3', '4.4', '4.4', '4.9', '4', '4.4', '3.9', '4.3', '4.8', '5', '5', '4.3', '5', '3', '4.3', '5', '5', '4.4', '4', '4', '4.4', '5', '5', '3.9', '4.1', '4.5', '3.8', '4.1', '4.4', '4.6', '4.5', '4.2', '4', '4.2', '4.2', '4.5', '4.7', '4', '4.1', '4.4', '4.1', '4.3', '4.2', '3', '5', '4', '1', '5', '4.4', '5', '4', '4.1', '4', '4', '3.9', '5', '1', '4.3', '4.4', '3.8', '4.1', '4.2', '4.2', '4.4', '4.8', '4.4', '4.5', '4.4', '4.1', '4.5', '4.6', '4.1', '4.3', '4.2', '5', '4', '4.3', '5', '1', '4.4', '4', '5', '4.6', '5', '5', '4.3', '4', '5', '3.6', '3.8', '2.3', '4.1', '4.4', '4.2', '4.2', '4.7', '5', '4.5', '4', '4.1', '4.6', '5', '4.1', '4.3', '4.2', '5', '5', '4.1', '5', '5', '4.4', '4', '1', '4.3', '4', '5', '4.7', '3', '3', '4.8', '4.5', '3.8', '3.5', '4.8', '3.5', '4', '4.2', '4.8', '3.8', '4.3', '4.2', '4.6', '4.3', '4.3', '4', '4.2', '4.8', '5', '4', '4.3', '5', '4', '4.2', '5', '1', '4.3', '3', '1', '3.8', '5', '1', '4.5', '3.8', '4.3', '4', '4.4', '4.7', '4.2', '3.8', '4.1', '4.5', '4.3', '4.6', '2.5', '4.6', '4.3', '4.4', '4.1', '4.5', '4.5', '4', '4', '4.5', '5', '5', '4.1', '4', '5', '4.5', '5', '5', '4.3', '5', '5', '4', '4.2', '4.2', '3.8', '4.3', '4.1', '4.2', '4.1', '4.2', '3.8', '4.2', '4.3', '4.5', '4.1', '4.3', '5', '1', '3.8', '5', '5', '4.3', '4', '5', '4', '5', '4', '4.2', '3', '5', '4.2', '4.3', '4.6', '3.8', '4.8', '4.3', '4.2', '4.3', '4.2', '4', '3.4', '4.2', '4.5', '4.3', '2.8', '4.5', '3.4', '2', '5', '4.2', '5', '1', '4.3', '4', '5', '4.3', '5', '1', '4', '5', '5', '4', '4', '4.8', '3.8', '4.2', '4.1', '4.1', '4', '4.5', '4.2', '4.2', '4.2', '4.5', '4.3', '4.7', '4.1', '4.5', '4.5', '4.1', '4.2', '5', '1', '4.5', '5', '1', '4', '4', '4', '4.8', '5', '5', '4.1', '4', '5', '4.3', '3.8', '4.2', '4.1', '4.2', '4', '3.7', '4.4', '4.1', '4.3', '4.6', '3.5', '4.5', '4.3', '5', '2', '4.4', '5', '5', '4', '5', '5', '4.5', '5', '5', '4.2', '4', '5', '4.3', '3.8', '3.7', '4.1', '3.9', '4.3', '4.2', '4.4', '4.5', '4.5', '4.1', '4.4', '5', '2', '4.3', '5', '2', '3.9', '4', '4', '3.8', '5', '5', '4.5', '5', '5', '4.1', '4', '3.8', '4.8', '3.9', '3.9', '4.2', '4.8', '4.4', '4.3', '4.5', '4', '4.1', '4.2', '4.1', '3.8', '4.1', '4.3', '4.4', '4', '5', '4.1', '3', '3', '3.9', '5', '5', '4.3', '4', '5', '3.8', '5', '5']\n"
          ]
        }
      ],
      "source": [
        "# You code here (Please add comments in the code):\n",
        "\n",
        "from bs4 import BeautifulSoup \n",
        "import urllib\n",
        "from urllib.request import Request, urlopen\n",
        "from urllib.error import HTTPError\n",
        "import json\n",
        "import re\n",
        "\n",
        "total_count = 0\n",
        "count = 0\n",
        "\n",
        "ratings = []\n",
        "main_url = \"https://www.flipkart.com/search?q=TV&otracker=search&otracker1=search&marketplace=FLIPKART&as-show=on&as=off&page={}\"\n",
        "for page_num in range(1, 100):\n",
        "    # we create the data soup of the main url page html elements.\n",
        "    link1 = Request(main_url.format(page_num), headers={'User-Agent': 'Mozilla/5.0'})\n",
        "    url1 = urllib.request.urlopen(link1) #requesting\n",
        "\n",
        "    data1 = url1.read()\n",
        "    data1_soup = BeautifulSoup(data1)\n",
        "\n",
        "    print(\"*** Page {} ***\".format(page_num))\n",
        "    # we will iterate through pages of the  search results till we get 1000 records\n",
        "    for narrator_link in data1_soup.find_all('div', attrs = {'class': \"_3LWZlK\"}): #getting our ratings div from website inspect html code\n",
        "        ratings.append(narrator_link.text)\n",
        "        count = count + 1\n",
        "        if count == 1000:\n",
        "            break\n",
        "            \n",
        "    print(count)\n",
        "    if count == 1000:\n",
        "        break\n",
        "    \n",
        "print(ratings) #here at last we are priting all the ratings \n"
      ]
    },
    {
      "cell_type": "markdown",
      "metadata": {
        "id": "OsG4nmEAxcHd"
      },
      "source": [
        "Question 3 (10 points). Understand the data quality: Search a second hand dataset (any dataset) from kaggle or other websites. Describe the data quality problem of the dataset and explain your strtegy to clean the data."
      ]
    },
    {
      "cell_type": "code",
      "execution_count": null,
      "metadata": {
        "id": "lVMRSqK0xcHd"
      },
      "outputs": [],
      "source": [
        "# Your answer here (no code for this question, write down your answer as detail as possible for the above questions):\n",
        "'''\n",
        "\n",
        "Please write you answer here:\n",
        "\n",
        "Everyone are aware of the pandemic that we are facing right now, COVID-19. \n",
        "\n",
        "I have taken a covid dataset from kaggle.\n",
        "\n",
        "US counties COVID 19 dataset: https://www.kaggle.com/fireballbyedimyrnmom/us-counties-covid-19-dataset\n",
        "\n",
        "The dataset has 6 columns\n",
        "\n",
        "The first thing we need to do right after we take a dataset is understand the business problem\n",
        "\n",
        "This dataset has some missing(null) values and some character encodings\n",
        "\n",
        "My Strategy to clean the data:\n",
        "\n",
        "1. See how many missing data points we have\n",
        "2. Figure out why the data is missing\n",
        "3. Drop missing values\n",
        "4. Filling in missing values \n",
        "5. Removing the character encoding values\n",
        "6. Convert our date columns to datetime\n",
        "\n",
        "'''"
      ]
    },
    {
      "cell_type": "markdown",
      "metadata": {
        "id": "U8hYLKBpxcHe"
      },
      "source": [
        "Question 4 (20 points). Data cleaning: There are two datasets TwADR-L (from Twitter) and AskAPatient (Link: https://zenodo.org/record/55013#.YgU2NN-ZO4T) for medical concept\n",
        "normalization. However, the two datasets have serious data quality problems. Please read the introduction of the datasets and clean the two datasets by following the steps in the statement.\n",
        "\n",
        "In the original dataset, the TwADR-L had 48,057 training, 1,256 validation and 1,427 test examples. The test set (all\n",
        "test samples from 10 folds combined) consists of 765 unique phrases and 273 unique classes (medical concepts). The AskAPatient dataset contained 156,652 training, 7,926 validation, and 8,662 test examples. The entire test set (all test samples\n",
        "from 10 folds combined) consists of 3,749 unique phrases and 1,035 unique classes (medical concepts). The authors\n",
        "randomly split each dataset into ten equal folds, ran 10-fold cross validation and reported the accuracy averaged across the\n",
        "ten folds. \n",
        "\n",
        "We found that, in the original data set, many phrase-label pairs appeared multiple times within the same training data file\n",
        "and also across the training and test data sets in the same fold. In the AskAPatient data set, on average 35.82% of the test data overlapped with training data in the same fold. In the Twitter (TwADR-L) dataset, on average 8.62% of the test set had an overlap with the training data in the same fold. Having a large overlap between the training and the test data can potentially\n",
        "introduce bias in the model and contribute to high accuracy. It is not unlikely that the high model performance reported in the original paper may be triggered by the the large overlap between the training and test sets.\n",
        "\n",
        "Therefore to remove the bias, we further cleaned and recreated the training, validation, and test sets such that each\n",
        "phrase-label pair appears only once in the entire dataset (either in training, validation or test set).\n",
        "\n",
        "(1) First, we combined all examples in training, validation and test data from the original data set and then removed all\n",
        "duplicate phrase-label pairs (examples that have the same phrase and label pair and appear more than once in training/validation/test datasets). Table II shows the statistics of the new dataset (after removing duplicates). The Twitter data set had 3,157 unique phrase-label pairs and 2,220 unique labels (medical concepts) while 173 phrases had multiple labels (i.e., they were assigned to more than one label). Many concepts had only one example, and the concept that had the most number\n",
        "of examples had 36 phrases. On average, each concept had 1.42 examples. The AskAPatient data set had 4,496 unique phrase-label pairs, 1,036 unique labels while 26 phrases had multiple labels. Table III shows examples of phrases that had multiple labels. For example, ‘mad’ can be mapped to ‘anger’ or ‘rage’ and ‘sore’ can be mapped to ‘pain’ or ‘myalgia’.\n",
        "\n",
        "(2) Second, we remove all concepts that had less than five examples. The statistics of the final data are shown in Table IV.\n",
        "\n",
        "(3) Third, we divide all examples without multiple labels into random 10 folds such that each unique phrase-label pair\n",
        "appears once in one of the 10 test sets. We add the pairs with multiple labels into the training data. This final 10-folds\n",
        "dataset is used in all our experiments.\n",
        "\n",
        "(The original paper can be download on canvas)"
      ]
    },
    {
      "cell_type": "code",
      "execution_count": 2,
      "metadata": {
        "colab": {
          "base_uri": "https://localhost:8080/"
        },
        "id": "8qMSs5nZxcHg",
        "outputId": "82e5a92c-a385-4250-b707-b50b07f5b020"
      },
      "outputs": [
        {
          "output_type": "stream",
          "name": "stdout",
          "text": [
            "Mounted at /content/gdrive\n"
          ]
        }
      ],
      "source": [
        "# You code here (Please add comments in the code):\n",
        "\n",
        "#we have upload our dataset to google drive\n",
        "#mounting with our google drive where our datasets are there\n",
        "from google.colab import drive \n",
        "drive.mount('/content/gdrive')\n",
        "\n",
        "#If we have already ran this script and if we run next it again we will be getting drive already mounted \n",
        "\n"
      ]
    },
    {
      "cell_type": "code",
      "source": [
        "#(1)\n",
        "# You code here (Please add comments in the code):\n",
        "\n",
        "#Import the libraries\n",
        "\n",
        "import pandas as pd\n",
        "import glob\n",
        "output_data_frame =  pd.DataFrame()\n",
        "\n",
        "# There are two datasets so we have to iterate through both of them \n",
        "for dataset in ['TwADR-L', 'AskAPatient']:\n",
        "    output = {}\n",
        "    data_frame = pd.DataFrame()\n",
        "    for filepath in glob.glob('/content/gdrive/My Drive/datasets/{}/*.txt'.format(dataset)): #datasets are present in our google drive\n",
        "        data = pd.read_csv(filepath, sep = \"\\t\", header = None, encoding= 'unicode_escape') #read the datasets\n",
        "        data_frame = data_frame.append(data)\n",
        "\n",
        "    #combine all the text files present in the dataset and form a combined dataset\n",
        "    data_frame = data_frame.reset_index(drop=True)\n",
        "    data_frame['phrase_label'] = data_frame[1] + \" \" + data_frame[2]\n",
        "    data_frame.columns = ['id', 'labels', 'phrases', 'phrase-label']\n",
        "    #convert to strings\n",
        "    data_frame = data_frame.astype({\"id\": str})\n",
        "    # there are some uppercase letters lets convert them all to lower case\n",
        "    for columns in data_frame.columns:\n",
        "        data_frame[columns] = data_frame[columns].str.lower() \n",
        "\n",
        "    # clean the data by dropping the duplicates\n",
        "    data_frame = data_frame.drop_duplicates('phrase-label')\n",
        "\n",
        "    #Let's store the table values in dictionaries\n",
        "    output['Unique_phrases'] = len(data_frame['phrases'].unique())\n",
        "    output['Unique_labels'] = len(data_frame['labels'].unique())\n",
        "    output['Unique_phrase_label_pairs'] = data_frame.shape[0]\n",
        "    data_frame1 = pd.DataFrame(data_frame['phrases'].value_counts())\n",
        "    output['Phrases with multiple labels'] = data_frame1[data_frame1['phrases'] > 1].shape[0]\n",
        "    output['Min examples per label'] = data_frame['labels'].value_counts().values.min()\n",
        "    output['Max examples per label'] = data_frame['labels'].value_counts().values.max()\n",
        "    output['Avg examples per label'] = round(data_frame['labels'].value_counts().mean(), 2)\n",
        "    output_data_frame = output_data_frame.append(output, ignore_index=True)\n",
        "\n",
        "\n",
        "output_data_frame = output_data_frame.T\n",
        "output_data_frame = output_data_frame.astype({0: int, 1: int})\n",
        "output_data_frame.columns = ['TwADR-L', 'AskAPatient']\n",
        "\n",
        "print(output_data_frame)\n",
        "\n"
      ],
      "metadata": {
        "colab": {
          "base_uri": "https://localhost:8080/"
        },
        "id": "Z4tYp6iMxqrk",
        "outputId": "a6eed9f6-d584-4ce7-d134-7c2491f7a826"
      },
      "execution_count": 3,
      "outputs": [
        {
          "output_type": "stream",
          "name": "stdout",
          "text": [
            "                              TwADR-L  AskAPatient\n",
            "Unique_phrases                   2944         4470\n",
            "Unique_labels                    2220         1038\n",
            "Unique_phrase_label_pairs        3157         4507\n",
            "Phrases with multiple labels      173           35\n",
            "Min examples per label              1            1\n",
            "Max examples per label             36          141\n",
            "Avg examples per label              1            4\n"
          ]
        }
      ]
    },
    {
      "cell_type": "code",
      "source": [
        "# (2) Second, we remove all concepts that had less than five examples. The statistics of the final data are shown in Table IV.\n",
        "\n",
        "import glob\n",
        "output_data_frame = pd.DataFrame()\n",
        "# we iterate through both datasets \n",
        "for dataset in ['TwADR-L', 'AskAPatient']:\n",
        "    data_frame = pd.DataFrame()\n",
        "    output = {}\n",
        "    for filepath in glob.glob('/content/gdrive/My Drive/datasets/{}/*.txt'.format(dataset)):\n",
        "        #print(filepath)\n",
        "        data = pd.read_csv(filepath, sep = \"\\t\", header = None, encoding= 'unicode_escape')\n",
        "        data_frame = data_frame.append(data)\n",
        "    # we create combined dataframe by combining Each dataset text files.\n",
        "    data_frame = data_frame.reset_index(drop=True)\n",
        "    data_frame['phrase-label'] = data_frame[1] + \" \" + data_frame[2]\n",
        "    data_frame.columns = ['id', 'labels', 'phrases', 'phrase-label']\n",
        "    data_frame = data_frame.astype({\"id\": str})\n",
        "    # converting to lower case\n",
        "    for columns in data_frame.columns:\n",
        "        data_frame[columns] = data_frame[columns].str.lower() \n",
        "\n",
        "    # we drop duplicates that are phrase-label pairs... \n",
        "    data_frame = data_frame.drop_duplicates('phrase-label')\n",
        "\n",
        "    index_list = []\n",
        "    for i in range(data_frame.shape[0]):\n",
        "        if data_frame['labels'].value_counts()[data_frame.iloc[i]['labels']] < 5:\n",
        "            index_list.append(i)\n",
        "\n",
        "    # we drop the labels that have less than count of 5.\n",
        "    data_frame.drop(data_frame.index[index_list], inplace=True)\n",
        "    output = {}\n",
        "    # storing results of the table in dictionary\n",
        "    output['Unique_phrases'] = len(data_frame['phrases'].unique())\n",
        "    output['Unique_labels'] = len(data_frame['labels'].unique())\n",
        "    output['Unique_phrase_label_pairs'] = data_frame.shape[0]\n",
        "    data_frame1 = pd.DataFrame(data_frame['phrases'].value_counts())\n",
        "    output['Phrases with multiple labels'] = data_frame1[data_frame1['phrases'] > 1].shape[0]\n",
        "    output['Min examples per label'] = data_frame['labels'].value_counts().values.min()\n",
        "    output['Max examples per label'] = data_frame['labels'].value_counts().values.max()\n",
        "    output['Avg examples per label'] = round(data_frame['labels'].value_counts().mean(), 2)\n",
        "    # appending dictinary to dataframe\n",
        "    output_data_frame = output_data_frame.append(output, ignore_index=True)\n",
        "\n",
        "output_data_frame = output_data_frame.T\n",
        "output_data_frame = output_data_frame.astype({0: int, 1: int})\n",
        "output_data_frame.columns = ['TwADR-L', 'AskAPatient']\n",
        "\n",
        "output_data_frame"
      ],
      "metadata": {
        "colab": {
          "base_uri": "https://localhost:8080/",
          "height": 269
        },
        "id": "d4YiBGSHxtJi",
        "outputId": "b5b8e6bc-a1a4-47cd-f0f4-2fe0838733c2"
      },
      "execution_count": 6,
      "outputs": [
        {
          "output_type": "execute_result",
          "data": {
            "text/html": [
              "\n",
              "  <div id=\"df-a8b10f1f-ff67-4d9d-887e-b801def2ebcd\">\n",
              "    <div class=\"colab-df-container\">\n",
              "      <div>\n",
              "<style scoped>\n",
              "    .dataframe tbody tr th:only-of-type {\n",
              "        vertical-align: middle;\n",
              "    }\n",
              "\n",
              "    .dataframe tbody tr th {\n",
              "        vertical-align: top;\n",
              "    }\n",
              "\n",
              "    .dataframe thead th {\n",
              "        text-align: right;\n",
              "    }\n",
              "</style>\n",
              "<table border=\"1\" class=\"dataframe\">\n",
              "  <thead>\n",
              "    <tr style=\"text-align: right;\">\n",
              "      <th></th>\n",
              "      <th>TwADR-L</th>\n",
              "      <th>AskAPatient</th>\n",
              "    </tr>\n",
              "  </thead>\n",
              "  <tbody>\n",
              "    <tr>\n",
              "      <th>Unique_phrases</th>\n",
              "      <td>616</td>\n",
              "      <td>2665</td>\n",
              "    </tr>\n",
              "    <tr>\n",
              "      <th>Unique_labels</th>\n",
              "      <td>76</td>\n",
              "      <td>233</td>\n",
              "    </tr>\n",
              "    <tr>\n",
              "      <th>Unique_phrase_label_pairs</th>\n",
              "      <td>721</td>\n",
              "      <td>2686</td>\n",
              "    </tr>\n",
              "    <tr>\n",
              "      <th>Phrases with multiple labels</th>\n",
              "      <td>87</td>\n",
              "      <td>19</td>\n",
              "    </tr>\n",
              "    <tr>\n",
              "      <th>Min examples per label</th>\n",
              "      <td>5</td>\n",
              "      <td>5</td>\n",
              "    </tr>\n",
              "    <tr>\n",
              "      <th>Max examples per label</th>\n",
              "      <td>36</td>\n",
              "      <td>141</td>\n",
              "    </tr>\n",
              "    <tr>\n",
              "      <th>Avg examples per label</th>\n",
              "      <td>9</td>\n",
              "      <td>11</td>\n",
              "    </tr>\n",
              "  </tbody>\n",
              "</table>\n",
              "</div>\n",
              "      <button class=\"colab-df-convert\" onclick=\"convertToInteractive('df-a8b10f1f-ff67-4d9d-887e-b801def2ebcd')\"\n",
              "              title=\"Convert this dataframe to an interactive table.\"\n",
              "              style=\"display:none;\">\n",
              "        \n",
              "  <svg xmlns=\"http://www.w3.org/2000/svg\" height=\"24px\"viewBox=\"0 0 24 24\"\n",
              "       width=\"24px\">\n",
              "    <path d=\"M0 0h24v24H0V0z\" fill=\"none\"/>\n",
              "    <path d=\"M18.56 5.44l.94 2.06.94-2.06 2.06-.94-2.06-.94-.94-2.06-.94 2.06-2.06.94zm-11 1L8.5 8.5l.94-2.06 2.06-.94-2.06-.94L8.5 2.5l-.94 2.06-2.06.94zm10 10l.94 2.06.94-2.06 2.06-.94-2.06-.94-.94-2.06-.94 2.06-2.06.94z\"/><path d=\"M17.41 7.96l-1.37-1.37c-.4-.4-.92-.59-1.43-.59-.52 0-1.04.2-1.43.59L10.3 9.45l-7.72 7.72c-.78.78-.78 2.05 0 2.83L4 21.41c.39.39.9.59 1.41.59.51 0 1.02-.2 1.41-.59l7.78-7.78 2.81-2.81c.8-.78.8-2.07 0-2.86zM5.41 20L4 18.59l7.72-7.72 1.47 1.35L5.41 20z\"/>\n",
              "  </svg>\n",
              "      </button>\n",
              "      \n",
              "  <style>\n",
              "    .colab-df-container {\n",
              "      display:flex;\n",
              "      flex-wrap:wrap;\n",
              "      gap: 12px;\n",
              "    }\n",
              "\n",
              "    .colab-df-convert {\n",
              "      background-color: #E8F0FE;\n",
              "      border: none;\n",
              "      border-radius: 50%;\n",
              "      cursor: pointer;\n",
              "      display: none;\n",
              "      fill: #1967D2;\n",
              "      height: 32px;\n",
              "      padding: 0 0 0 0;\n",
              "      width: 32px;\n",
              "    }\n",
              "\n",
              "    .colab-df-convert:hover {\n",
              "      background-color: #E2EBFA;\n",
              "      box-shadow: 0px 1px 2px rgba(60, 64, 67, 0.3), 0px 1px 3px 1px rgba(60, 64, 67, 0.15);\n",
              "      fill: #174EA6;\n",
              "    }\n",
              "\n",
              "    [theme=dark] .colab-df-convert {\n",
              "      background-color: #3B4455;\n",
              "      fill: #D2E3FC;\n",
              "    }\n",
              "\n",
              "    [theme=dark] .colab-df-convert:hover {\n",
              "      background-color: #434B5C;\n",
              "      box-shadow: 0px 1px 3px 1px rgba(0, 0, 0, 0.15);\n",
              "      filter: drop-shadow(0px 1px 2px rgba(0, 0, 0, 0.3));\n",
              "      fill: #FFFFFF;\n",
              "    }\n",
              "  </style>\n",
              "\n",
              "      <script>\n",
              "        const buttonEl =\n",
              "          document.querySelector('#df-a8b10f1f-ff67-4d9d-887e-b801def2ebcd button.colab-df-convert');\n",
              "        buttonEl.style.display =\n",
              "          google.colab.kernel.accessAllowed ? 'block' : 'none';\n",
              "\n",
              "        async function convertToInteractive(key) {\n",
              "          const element = document.querySelector('#df-a8b10f1f-ff67-4d9d-887e-b801def2ebcd');\n",
              "          const dataTable =\n",
              "            await google.colab.kernel.invokeFunction('convertToInteractive',\n",
              "                                                     [key], {});\n",
              "          if (!dataTable) return;\n",
              "\n",
              "          const docLinkHtml = 'Like what you see? Visit the ' +\n",
              "            '<a target=\"_blank\" href=https://colab.research.google.com/notebooks/data_table.ipynb>data table notebook</a>'\n",
              "            + ' to learn more about interactive tables.';\n",
              "          element.innerHTML = '';\n",
              "          dataTable['output_type'] = 'display_data';\n",
              "          await google.colab.output.renderOutput(dataTable, element);\n",
              "          const docLink = document.createElement('div');\n",
              "          docLink.innerHTML = docLinkHtml;\n",
              "          element.appendChild(docLink);\n",
              "        }\n",
              "      </script>\n",
              "    </div>\n",
              "  </div>\n",
              "  "
            ],
            "text/plain": [
              "                              TwADR-L  AskAPatient\n",
              "Unique_phrases                    616         2665\n",
              "Unique_labels                      76          233\n",
              "Unique_phrase_label_pairs         721         2686\n",
              "Phrases with multiple labels       87           19\n",
              "Min examples per label              5            5\n",
              "Max examples per label             36          141\n",
              "Avg examples per label              9           11"
            ]
          },
          "metadata": {},
          "execution_count": 6
        }
      ]
    },
    {
      "cell_type": "code",
      "source": [
        "(3)\n",
        "\n",
        "import glob\n",
        "output_data_frame = pd.DataFrame()\n",
        "# we iterate through both datasets \n",
        "for dataset in ['TwADR-L', 'AskAPatient']:\n",
        "    data_frame = pd.DataFrame()\n",
        "    output = {}\n",
        "    for filepath in glob.glob('/content/gdrive/My Drive/datasets/{}/*.txt'.format(dataset)):\n",
        "        \n",
        "        data = pd.read_csv(filepath, sep = \"\\t\", header = None, encoding= 'unicode_escape')\n",
        "        data_frame = data_frame.append(data)"
      ],
      "metadata": {
        "id": "Zpn5WWZX0T9d"
      },
      "execution_count": null,
      "outputs": []
    }
  ],
  "metadata": {
    "kernelspec": {
      "display_name": "Python 3",
      "language": "python",
      "name": "python3"
    },
    "language_info": {
      "codemirror_mode": {
        "name": "ipython",
        "version": 3
      },
      "file_extension": ".py",
      "mimetype": "text/x-python",
      "name": "python",
      "nbconvert_exporter": "python",
      "pygments_lexer": "ipython3",
      "version": "3.8.5"
    },
    "colab": {
      "name": "lab_assignment_03.ipynb",
      "provenance": [],
      "collapsed_sections": [],
      "include_colab_link": true
    }
  },
  "nbformat": 4,
  "nbformat_minor": 0
}