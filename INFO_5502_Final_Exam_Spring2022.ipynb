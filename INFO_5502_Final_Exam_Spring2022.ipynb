{
  "cells": [
    {
      "cell_type": "markdown",
      "metadata": {
        "id": "view-in-github",
        "colab_type": "text"
      },
      "source": [
        "<a href=\"https://colab.research.google.com/github/Revathi-Bejawada/RevathiINFO5502_Spring2022/blob/main/INFO_5502_Final_Exam_Spring2022.ipynb\" target=\"_parent\"><img src=\"https://colab.research.google.com/assets/colab-badge.svg\" alt=\"Open In Colab\"/></a>"
      ]
    },
    {
      "cell_type": "markdown",
      "metadata": {
        "id": "Hh7ZlNmmwrO_"
      },
      "source": [
        "### INFO 5502 Final Exam (05/12/2022, 240 points in total)"
      ]
    },
    {
      "cell_type": "markdown",
      "metadata": {
        "id": "qLnzRE-owrPB"
      },
      "source": [
        "<span style='background:yellow'>**Question 1 (40 pt).**</span> We want to create a birthday frequency graph using the data on births in the United States, provided by the Centers for Disease Control (CDC). You can download the data from my GitHub link:https://github.com/unt-iialab/info5502-spring2022/blob/main/datasets/births.csv \n",
        "\n",
        "Please visualize the data as the following figure using python (you can use any data visualization packages):\n"
      ]
    },
    {
      "cell_type": "code",
      "execution_count": 7,
      "metadata": {
        "colab": {
          "base_uri": "https://localhost:8080/",
          "height": 206
        },
        "id": "y_E5OqAiwrPC",
        "outputId": "f5a4e265-be86-4ae4-cb97-f0cdc6e9c898"
      },
      "outputs": [
        {
          "output_type": "execute_result",
          "data": {
            "text/plain": [
              "   year  month  day gender  births\n",
              "0  1969      1  1.0      F    4046\n",
              "1  1969      1  1.0      M    4440\n",
              "2  1969      1  2.0      F    4454\n",
              "3  1969      1  2.0      M    4548\n",
              "4  1969      1  3.0      F    4548"
            ],
            "text/html": [
              "\n",
              "  <div id=\"df-3bdbdf65-aa50-4d2a-a892-31e4a14157cc\">\n",
              "    <div class=\"colab-df-container\">\n",
              "      <div>\n",
              "<style scoped>\n",
              "    .dataframe tbody tr th:only-of-type {\n",
              "        vertical-align: middle;\n",
              "    }\n",
              "\n",
              "    .dataframe tbody tr th {\n",
              "        vertical-align: top;\n",
              "    }\n",
              "\n",
              "    .dataframe thead th {\n",
              "        text-align: right;\n",
              "    }\n",
              "</style>\n",
              "<table border=\"1\" class=\"dataframe\">\n",
              "  <thead>\n",
              "    <tr style=\"text-align: right;\">\n",
              "      <th></th>\n",
              "      <th>year</th>\n",
              "      <th>month</th>\n",
              "      <th>day</th>\n",
              "      <th>gender</th>\n",
              "      <th>births</th>\n",
              "    </tr>\n",
              "  </thead>\n",
              "  <tbody>\n",
              "    <tr>\n",
              "      <th>0</th>\n",
              "      <td>1969</td>\n",
              "      <td>1</td>\n",
              "      <td>1.0</td>\n",
              "      <td>F</td>\n",
              "      <td>4046</td>\n",
              "    </tr>\n",
              "    <tr>\n",
              "      <th>1</th>\n",
              "      <td>1969</td>\n",
              "      <td>1</td>\n",
              "      <td>1.0</td>\n",
              "      <td>M</td>\n",
              "      <td>4440</td>\n",
              "    </tr>\n",
              "    <tr>\n",
              "      <th>2</th>\n",
              "      <td>1969</td>\n",
              "      <td>1</td>\n",
              "      <td>2.0</td>\n",
              "      <td>F</td>\n",
              "      <td>4454</td>\n",
              "    </tr>\n",
              "    <tr>\n",
              "      <th>3</th>\n",
              "      <td>1969</td>\n",
              "      <td>1</td>\n",
              "      <td>2.0</td>\n",
              "      <td>M</td>\n",
              "      <td>4548</td>\n",
              "    </tr>\n",
              "    <tr>\n",
              "      <th>4</th>\n",
              "      <td>1969</td>\n",
              "      <td>1</td>\n",
              "      <td>3.0</td>\n",
              "      <td>F</td>\n",
              "      <td>4548</td>\n",
              "    </tr>\n",
              "  </tbody>\n",
              "</table>\n",
              "</div>\n",
              "      <button class=\"colab-df-convert\" onclick=\"convertToInteractive('df-3bdbdf65-aa50-4d2a-a892-31e4a14157cc')\"\n",
              "              title=\"Convert this dataframe to an interactive table.\"\n",
              "              style=\"display:none;\">\n",
              "        \n",
              "  <svg xmlns=\"http://www.w3.org/2000/svg\" height=\"24px\"viewBox=\"0 0 24 24\"\n",
              "       width=\"24px\">\n",
              "    <path d=\"M0 0h24v24H0V0z\" fill=\"none\"/>\n",
              "    <path d=\"M18.56 5.44l.94 2.06.94-2.06 2.06-.94-2.06-.94-.94-2.06-.94 2.06-2.06.94zm-11 1L8.5 8.5l.94-2.06 2.06-.94-2.06-.94L8.5 2.5l-.94 2.06-2.06.94zm10 10l.94 2.06.94-2.06 2.06-.94-2.06-.94-.94-2.06-.94 2.06-2.06.94z\"/><path d=\"M17.41 7.96l-1.37-1.37c-.4-.4-.92-.59-1.43-.59-.52 0-1.04.2-1.43.59L10.3 9.45l-7.72 7.72c-.78.78-.78 2.05 0 2.83L4 21.41c.39.39.9.59 1.41.59.51 0 1.02-.2 1.41-.59l7.78-7.78 2.81-2.81c.8-.78.8-2.07 0-2.86zM5.41 20L4 18.59l7.72-7.72 1.47 1.35L5.41 20z\"/>\n",
              "  </svg>\n",
              "      </button>\n",
              "      \n",
              "  <style>\n",
              "    .colab-df-container {\n",
              "      display:flex;\n",
              "      flex-wrap:wrap;\n",
              "      gap: 12px;\n",
              "    }\n",
              "\n",
              "    .colab-df-convert {\n",
              "      background-color: #E8F0FE;\n",
              "      border: none;\n",
              "      border-radius: 50%;\n",
              "      cursor: pointer;\n",
              "      display: none;\n",
              "      fill: #1967D2;\n",
              "      height: 32px;\n",
              "      padding: 0 0 0 0;\n",
              "      width: 32px;\n",
              "    }\n",
              "\n",
              "    .colab-df-convert:hover {\n",
              "      background-color: #E2EBFA;\n",
              "      box-shadow: 0px 1px 2px rgba(60, 64, 67, 0.3), 0px 1px 3px 1px rgba(60, 64, 67, 0.15);\n",
              "      fill: #174EA6;\n",
              "    }\n",
              "\n",
              "    [theme=dark] .colab-df-convert {\n",
              "      background-color: #3B4455;\n",
              "      fill: #D2E3FC;\n",
              "    }\n",
              "\n",
              "    [theme=dark] .colab-df-convert:hover {\n",
              "      background-color: #434B5C;\n",
              "      box-shadow: 0px 1px 3px 1px rgba(0, 0, 0, 0.15);\n",
              "      filter: drop-shadow(0px 1px 2px rgba(0, 0, 0, 0.3));\n",
              "      fill: #FFFFFF;\n",
              "    }\n",
              "  </style>\n",
              "\n",
              "      <script>\n",
              "        const buttonEl =\n",
              "          document.querySelector('#df-3bdbdf65-aa50-4d2a-a892-31e4a14157cc button.colab-df-convert');\n",
              "        buttonEl.style.display =\n",
              "          google.colab.kernel.accessAllowed ? 'block' : 'none';\n",
              "\n",
              "        async function convertToInteractive(key) {\n",
              "          const element = document.querySelector('#df-3bdbdf65-aa50-4d2a-a892-31e4a14157cc');\n",
              "          const dataTable =\n",
              "            await google.colab.kernel.invokeFunction('convertToInteractive',\n",
              "                                                     [key], {});\n",
              "          if (!dataTable) return;\n",
              "\n",
              "          const docLinkHtml = 'Like what you see? Visit the ' +\n",
              "            '<a target=\"_blank\" href=https://colab.research.google.com/notebooks/data_table.ipynb>data table notebook</a>'\n",
              "            + ' to learn more about interactive tables.';\n",
              "          element.innerHTML = '';\n",
              "          dataTable['output_type'] = 'display_data';\n",
              "          await google.colab.output.renderOutput(dataTable, element);\n",
              "          const docLink = document.createElement('div');\n",
              "          docLink.innerHTML = docLinkHtml;\n",
              "          element.appendChild(docLink);\n",
              "        }\n",
              "      </script>\n",
              "    </div>\n",
              "  </div>\n",
              "  "
            ]
          },
          "metadata": {},
          "execution_count": 7
        }
      ],
      "source": [
        "#### You code here\n",
        "#import the required packages \n",
        "\n",
        "%matplotlib inline\n",
        "import matplotlib.pyplot as plt\n",
        "import matplotlib as mpl\n",
        "plt.style.use('seaborn-whitegrid')\n",
        "import numpy as np\n",
        "import pandas as pd\n",
        "\n",
        "#As in the question they have given a dataset from github we are reading our inputs from there \n",
        "\n",
        "input = pd.read_csv(\"https://raw.githubusercontent.com/unt-iialab/info5502-spring2022/main/datasets/births.csv\")\n",
        "input.head()\n",
        "\n"
      ]
    },
    {
      "cell_type": "code",
      "source": [
        "input.tail()"
      ],
      "metadata": {
        "colab": {
          "base_uri": "https://localhost:8080/",
          "height": 206
        },
        "id": "yuDT_fWDGO8h",
        "outputId": "afa4c06d-431a-426a-b043-dcea1f143db9"
      },
      "execution_count": 8,
      "outputs": [
        {
          "output_type": "execute_result",
          "data": {
            "text/plain": [
              "       year  month  day gender  births\n",
              "15542  2008     10  NaN      M  183219\n",
              "15543  2008     11  NaN      F  158939\n",
              "15544  2008     11  NaN      M  165468\n",
              "15545  2008     12  NaN      F  173215\n",
              "15546  2008     12  NaN      M  181235"
            ],
            "text/html": [
              "\n",
              "  <div id=\"df-de8b559f-d9e3-4edd-a5b9-ad4f4470b6d8\">\n",
              "    <div class=\"colab-df-container\">\n",
              "      <div>\n",
              "<style scoped>\n",
              "    .dataframe tbody tr th:only-of-type {\n",
              "        vertical-align: middle;\n",
              "    }\n",
              "\n",
              "    .dataframe tbody tr th {\n",
              "        vertical-align: top;\n",
              "    }\n",
              "\n",
              "    .dataframe thead th {\n",
              "        text-align: right;\n",
              "    }\n",
              "</style>\n",
              "<table border=\"1\" class=\"dataframe\">\n",
              "  <thead>\n",
              "    <tr style=\"text-align: right;\">\n",
              "      <th></th>\n",
              "      <th>year</th>\n",
              "      <th>month</th>\n",
              "      <th>day</th>\n",
              "      <th>gender</th>\n",
              "      <th>births</th>\n",
              "    </tr>\n",
              "  </thead>\n",
              "  <tbody>\n",
              "    <tr>\n",
              "      <th>15542</th>\n",
              "      <td>2008</td>\n",
              "      <td>10</td>\n",
              "      <td>NaN</td>\n",
              "      <td>M</td>\n",
              "      <td>183219</td>\n",
              "    </tr>\n",
              "    <tr>\n",
              "      <th>15543</th>\n",
              "      <td>2008</td>\n",
              "      <td>11</td>\n",
              "      <td>NaN</td>\n",
              "      <td>F</td>\n",
              "      <td>158939</td>\n",
              "    </tr>\n",
              "    <tr>\n",
              "      <th>15544</th>\n",
              "      <td>2008</td>\n",
              "      <td>11</td>\n",
              "      <td>NaN</td>\n",
              "      <td>M</td>\n",
              "      <td>165468</td>\n",
              "    </tr>\n",
              "    <tr>\n",
              "      <th>15545</th>\n",
              "      <td>2008</td>\n",
              "      <td>12</td>\n",
              "      <td>NaN</td>\n",
              "      <td>F</td>\n",
              "      <td>173215</td>\n",
              "    </tr>\n",
              "    <tr>\n",
              "      <th>15546</th>\n",
              "      <td>2008</td>\n",
              "      <td>12</td>\n",
              "      <td>NaN</td>\n",
              "      <td>M</td>\n",
              "      <td>181235</td>\n",
              "    </tr>\n",
              "  </tbody>\n",
              "</table>\n",
              "</div>\n",
              "      <button class=\"colab-df-convert\" onclick=\"convertToInteractive('df-de8b559f-d9e3-4edd-a5b9-ad4f4470b6d8')\"\n",
              "              title=\"Convert this dataframe to an interactive table.\"\n",
              "              style=\"display:none;\">\n",
              "        \n",
              "  <svg xmlns=\"http://www.w3.org/2000/svg\" height=\"24px\"viewBox=\"0 0 24 24\"\n",
              "       width=\"24px\">\n",
              "    <path d=\"M0 0h24v24H0V0z\" fill=\"none\"/>\n",
              "    <path d=\"M18.56 5.44l.94 2.06.94-2.06 2.06-.94-2.06-.94-.94-2.06-.94 2.06-2.06.94zm-11 1L8.5 8.5l.94-2.06 2.06-.94-2.06-.94L8.5 2.5l-.94 2.06-2.06.94zm10 10l.94 2.06.94-2.06 2.06-.94-2.06-.94-.94-2.06-.94 2.06-2.06.94z\"/><path d=\"M17.41 7.96l-1.37-1.37c-.4-.4-.92-.59-1.43-.59-.52 0-1.04.2-1.43.59L10.3 9.45l-7.72 7.72c-.78.78-.78 2.05 0 2.83L4 21.41c.39.39.9.59 1.41.59.51 0 1.02-.2 1.41-.59l7.78-7.78 2.81-2.81c.8-.78.8-2.07 0-2.86zM5.41 20L4 18.59l7.72-7.72 1.47 1.35L5.41 20z\"/>\n",
              "  </svg>\n",
              "      </button>\n",
              "      \n",
              "  <style>\n",
              "    .colab-df-container {\n",
              "      display:flex;\n",
              "      flex-wrap:wrap;\n",
              "      gap: 12px;\n",
              "    }\n",
              "\n",
              "    .colab-df-convert {\n",
              "      background-color: #E8F0FE;\n",
              "      border: none;\n",
              "      border-radius: 50%;\n",
              "      cursor: pointer;\n",
              "      display: none;\n",
              "      fill: #1967D2;\n",
              "      height: 32px;\n",
              "      padding: 0 0 0 0;\n",
              "      width: 32px;\n",
              "    }\n",
              "\n",
              "    .colab-df-convert:hover {\n",
              "      background-color: #E2EBFA;\n",
              "      box-shadow: 0px 1px 2px rgba(60, 64, 67, 0.3), 0px 1px 3px 1px rgba(60, 64, 67, 0.15);\n",
              "      fill: #174EA6;\n",
              "    }\n",
              "\n",
              "    [theme=dark] .colab-df-convert {\n",
              "      background-color: #3B4455;\n",
              "      fill: #D2E3FC;\n",
              "    }\n",
              "\n",
              "    [theme=dark] .colab-df-convert:hover {\n",
              "      background-color: #434B5C;\n",
              "      box-shadow: 0px 1px 3px 1px rgba(0, 0, 0, 0.15);\n",
              "      filter: drop-shadow(0px 1px 2px rgba(0, 0, 0, 0.3));\n",
              "      fill: #FFFFFF;\n",
              "    }\n",
              "  </style>\n",
              "\n",
              "      <script>\n",
              "        const buttonEl =\n",
              "          document.querySelector('#df-de8b559f-d9e3-4edd-a5b9-ad4f4470b6d8 button.colab-df-convert');\n",
              "        buttonEl.style.display =\n",
              "          google.colab.kernel.accessAllowed ? 'block' : 'none';\n",
              "\n",
              "        async function convertToInteractive(key) {\n",
              "          const element = document.querySelector('#df-de8b559f-d9e3-4edd-a5b9-ad4f4470b6d8');\n",
              "          const dataTable =\n",
              "            await google.colab.kernel.invokeFunction('convertToInteractive',\n",
              "                                                     [key], {});\n",
              "          if (!dataTable) return;\n",
              "\n",
              "          const docLinkHtml = 'Like what you see? Visit the ' +\n",
              "            '<a target=\"_blank\" href=https://colab.research.google.com/notebooks/data_table.ipynb>data table notebook</a>'\n",
              "            + ' to learn more about interactive tables.';\n",
              "          element.innerHTML = '';\n",
              "          dataTable['output_type'] = 'display_data';\n",
              "          await google.colab.output.renderOutput(dataTable, element);\n",
              "          const docLink = document.createElement('div');\n",
              "          docLink.innerHTML = docLinkHtml;\n",
              "          element.appendChild(docLink);\n",
              "        }\n",
              "      </script>\n",
              "    </div>\n",
              "  </div>\n",
              "  "
            ]
          },
          "metadata": {},
          "execution_count": 8
        }
      ]
    },
    {
      "cell_type": "code",
      "source": [
        "#### You code here\n",
        "\n",
        "#import the required packages \n",
        "\n",
        "%matplotlib inline\n",
        "import matplotlib.pyplot as plt\n",
        "import matplotlib as mpl\n",
        "plt.style.use('seaborn-whitegrid')\n",
        "import numpy as np\n",
        "import pandas as pd\n",
        "\n",
        "#As in the question they have given a dataset from github we are reading our inputs from there \n",
        "\n",
        "input = pd.read_csv(\"https://raw.githubusercontent.com/unt-iialab/info5502-spring2022/main/datasets/births.csv\")\n",
        "input.head()\n",
        "\n",
        "#take the birth coulumn \n",
        "s = np.percentile(input['births'], [25, 50, 75])\n",
        "mu = s[1]\n",
        "sig =  0.74 * (s[2] - s[0])\n",
        "\n",
        "#let's do some query on  births column\n",
        "births = input.query('(births > @mu - 5 * @sig) & (births < @mu + 5 * @sig)')\n",
        "\n",
        "births['day'] = births['day'].astype(int)\n",
        "\n",
        "#In the input dataset we could see the columns are in y,m,d formar so we have taken the %Y%m%d format\n",
        "births.index = pd.to_datetime(10000 * births.year + 100 * births.month + births.day, format='%Y%m%d')\n",
        "\n",
        "births_by_date = births.pivot_table('births', [births.index.month, births.index.day])\n",
        "\n",
        "births_by_date.index = [pd.datetime(2012, month, day) for (month, day) in births_by_date.index]\n",
        "\n",
        "print()\n",
        "\n",
        "#plotting the graph \n",
        "fig, ax = plt.subplots(figsize=(15, 8))\n",
        "plt.title(\"Birthday frequency graph using the data on births in the United States from years 1969 to 1988\")\n",
        "plt.xlabel(\"Months\")\n",
        "births_by_date.plot(ax=ax);\n"
      ],
      "metadata": {
        "colab": {
          "base_uri": "https://localhost:8080/",
          "height": 665
        },
        "id": "tAdJHly4_n_Z",
        "outputId": "917f0437-27d3-4356-f6a6-54b52d07ca0c"
      },
      "execution_count": 9,
      "outputs": [
        {
          "output_type": "stream",
          "name": "stderr",
          "text": [
            "/usr/local/lib/python3.7/dist-packages/ipykernel_launcher.py:25: SettingWithCopyWarning: \n",
            "A value is trying to be set on a copy of a slice from a DataFrame.\n",
            "Try using .loc[row_indexer,col_indexer] = value instead\n",
            "\n",
            "See the caveats in the documentation: https://pandas.pydata.org/pandas-docs/stable/user_guide/indexing.html#returning-a-view-versus-a-copy\n",
            "/usr/local/lib/python3.7/dist-packages/ipykernel_launcher.py:32: FutureWarning: The pandas.datetime class is deprecated and will be removed from pandas in a future version. Import from datetime module instead.\n"
          ]
        },
        {
          "output_type": "stream",
          "name": "stdout",
          "text": [
            "\n"
          ]
        },
        {
          "output_type": "display_data",
          "data": {
            "text/plain": [
              "<Figure size 1080x576 with 1 Axes>"
            ],
            "image/png": "[encoded data removed]"
          },
          "metadata": {}
        }
      ]
    },
    {
      "cell_type": "markdown",
      "metadata": {
        "id": "tB6LATajwrPD"
      },
      "source": [
        "<span style='background:yellow'>**Question 2 (40 pt).**</span> Write a python program to evaluate the text classification performance using accuracy, precision, recall, and f1 score. \n",
        "\n",
        "Accuracy = (TP + TN) / (TP+ TN+ FP+ FN)\n",
        "\n",
        "Recall = (TP) / (TP+FN)\n",
        "\n",
        "Precision = (TP) / (TP+FP)\n",
        "\n",
        "F1 Score = (2*Precision*Recall) / (Precision + Recall)\n",
        "\n",
        "Here is the confusion matrix of a text classfication task (six categories) on the testing data. "
      ]
    },
    {
      "cell_type": "code",
      "execution_count": 10,
      "metadata": {
        "colab": {
          "base_uri": "https://localhost:8080/"
        },
        "id": "0_S_oZn0wrPD",
        "outputId": "6f56aac7-6a24-4807-d249-f8654d1f7150"
      },
      "outputs": [
        {
          "output_type": "stream",
          "name": "stdout",
          "text": [
            "For class 0\n",
            "Precision: 0.6738197424892703\n",
            "Recall: 0.585820895522388\n",
            "Accuracy: 0.8150346191889218\n",
            "F1 score: 0.626746506986028\n"
          ]
        }
      ],
      "source": [
        "#### You code here\n",
        "\n",
        "# For class 0\n",
        "\n",
        "import numpy as np\n",
        "\n",
        "TP = 157\n",
        "FP = 76\n",
        "TN = 667\n",
        "FN = 111\n",
        "\n",
        "Precision = TP/ (TP + FP)\n",
        "Recall = TP/ (TP + FN)\n",
        "\n",
        "Accuracy = (TP + TN) / (TP+ TN+ FP+ FN)\n",
        "\n",
        "F1_score = (2 * Precision * Recall)/ (Precision + Recall)\n",
        "\n",
        "print(\"For class 0\")\n",
        "print(\"Precision:\", Precision)\n",
        "print(\"Recall:\", Recall)\n",
        "print(\"Accuracy:\", Accuracy)\n",
        "print(\"F1 score:\", F1_score)\n",
        "\n",
        "\n",
        "\n"
      ]
    },
    {
      "cell_type": "code",
      "source": [
        "#### You code here\n",
        "\n",
        "# For class 1\n",
        "\n",
        "import numpy as np\n",
        "\n",
        "TP = 151\n",
        "FP = 118\n",
        "TN = 63\n",
        "FN = 96\n",
        "\n",
        "Precision = TP/ (TP + FP)\n",
        "Recall = TP/ (TP + FN)\n",
        "\n",
        "Accuracy = (TP + TN) / (TP+ TN+ FP+ FN)\n",
        "\n",
        "F1_score = (2 * Precision * Recall)/ (Precision + Recall)\n",
        "\n",
        "print(\"For class 1\")\n",
        "print(\"Precision:\", Precision)\n",
        "print(\"Recall:\", Recall)\n",
        "print(\"Accuracy:\", Accuracy)\n",
        "print(\"F1 score:\", F1_score)\n",
        "\n"
      ],
      "metadata": {
        "colab": {
          "base_uri": "https://localhost:8080/"
        },
        "id": "JkeaC5ivXThp",
        "outputId": "6750b892-87b2-4221-bcac-3e9b46f3f247"
      },
      "execution_count": 11,
      "outputs": [
        {
          "output_type": "stream",
          "name": "stdout",
          "text": [
            "For class 1\n",
            "Precision: 0.5613382899628253\n",
            "Recall: 0.611336032388664\n",
            "Accuracy: 0.5\n",
            "F1 score: 0.5852713178294574\n"
          ]
        }
      ]
    },
    {
      "cell_type": "code",
      "source": [
        "#### You code here\n",
        "\n",
        "# For class 2\n",
        "\n",
        "import numpy as np\n",
        "\n",
        "TP = 135\n",
        "FP = 108\n",
        "TN = 689\n",
        "FN = 73\n",
        "\n",
        "Precision = TP/ (TP + FP)\n",
        "Recall = TP/ (TP + FN)\n",
        "\n",
        "Accuracy = (TP + TN) / (TP+ TN+ FP+ FN)\n",
        "\n",
        "F1_score = (2 * Precision * Recall)/ (Precision + Recall)\n",
        "\n",
        "print(\"For class 2\")\n",
        "print(\"Precision:\", Precision)\n",
        "print(\"Recall:\", Recall)\n",
        "print(\"Accuracy:\", Accuracy)\n",
        "print(\"F1 score:\", F1_score)\n",
        "\n"
      ],
      "metadata": {
        "colab": {
          "base_uri": "https://localhost:8080/"
        },
        "id": "IpDridT1Xdfv",
        "outputId": "92e6d1e1-ead1-4825-a290-20cab7dd8750"
      },
      "execution_count": 12,
      "outputs": [
        {
          "output_type": "stream",
          "name": "stdout",
          "text": [
            "For class 2\n",
            "Precision: 0.5555555555555556\n",
            "Recall: 0.6490384615384616\n",
            "Accuracy: 0.8199004975124378\n",
            "F1 score: 0.598669623059867\n"
          ]
        }
      ]
    },
    {
      "cell_type": "code",
      "source": [
        "#### You code here\n",
        "\n",
        "# For class 3\n",
        "\n",
        "import numpy as np\n",
        "\n",
        "TP = 70\n",
        "FP = 66\n",
        "TN = 815\n",
        "FN = 54\n",
        "\n",
        "Precision = TP/ (TP + FP)\n",
        "Recall = TP/ (TP + FN)\n",
        "\n",
        "Accuracy = (TP + TN) / (TP+ TN+ FP+ FN)\n",
        "\n",
        "F1_score = (2 * Precision * Recall)/ (Precision + Recall)\n",
        "\n",
        "print(\"For class 3\")\n",
        "print(\"Precision:\", Precision)\n",
        "print(\"Recall:\", Recall)\n",
        "print(\"Accuracy:\", Accuracy)\n",
        "print(\"F1 score:\", F1_score)"
      ],
      "metadata": {
        "colab": {
          "base_uri": "https://localhost:8080/"
        },
        "id": "yhtVL8EsXhE_",
        "outputId": "99f5c219-e21e-4769-c2e0-bcb15d91d08f"
      },
      "execution_count": 13,
      "outputs": [
        {
          "output_type": "stream",
          "name": "stdout",
          "text": [
            "For class 3\n",
            "Precision: 0.5147058823529411\n",
            "Recall: 0.5645161290322581\n",
            "Accuracy: 0.8805970149253731\n",
            "F1 score: 0.5384615384615384\n"
          ]
        }
      ]
    },
    {
      "cell_type": "code",
      "source": [
        "#### You code here\n",
        "\n",
        "# For class 4\n",
        "\n",
        "import numpy as np\n",
        "\n",
        "TP = 56\n",
        "FP = 30\n",
        "TN = 870\n",
        "FN = 49\n",
        "\n",
        "Precision = TP/ (TP + FP)\n",
        "Recall = TP/ (TP + FN)\n",
        "\n",
        "Accuracy = (TP + TN) / (TP+ TN+ FP+ FN)\n",
        "\n",
        "F1_score = (2 * Precision * Recall)/ (Precision + Recall)\n",
        "\n",
        "print(\"For class 4\")\n",
        "print(\"Precision:\", Precision)\n",
        "print(\"Recall:\", Recall)\n",
        "print(\"Accuracy:\", Accuracy)\n",
        "print(\"F1 score:\", F1_score)\n",
        "\n"
      ],
      "metadata": {
        "colab": {
          "base_uri": "https://localhost:8080/"
        },
        "id": "oDGIEOZzXkM4",
        "outputId": "cf9a0622-b692-4700-a97d-8371ca601ba8"
      },
      "execution_count": 14,
      "outputs": [
        {
          "output_type": "stream",
          "name": "stdout",
          "text": [
            "For class 4\n",
            "Precision: 0.6511627906976745\n",
            "Recall: 0.5333333333333333\n",
            "Accuracy: 0.9213930348258706\n",
            "F1 score: 0.5863874345549738\n"
          ]
        }
      ]
    },
    {
      "cell_type": "code",
      "source": [
        "#### You code here\n",
        "\n",
        "# For class 5\n",
        "\n",
        "import numpy as np\n",
        "\n",
        "TP = 16\n",
        "FP = 22\n",
        "TN = 932\n",
        "FN = 35\n",
        "\n",
        "Precision = TP/ (TP + FP)\n",
        "Recall = TP/ (TP + FN)\n",
        "\n",
        "Accuracy = (TP + TN) / (TP+ TN+ FP+ FN)\n",
        "\n",
        "F1_score = (2 * Precision * Recall)/ (Precision + Recall)\n",
        "\n",
        "print(\"For class 5\")\n",
        "print(\"Precision:\", Precision)\n",
        "print(\"Recall:\", Recall)\n",
        "print(\"Accuracy:\", Accuracy)\n",
        "print(\"F1 score:\", F1_score)\n"
      ],
      "metadata": {
        "colab": {
          "base_uri": "https://localhost:8080/"
        },
        "id": "7TNVdkgrXm2z",
        "outputId": "5f5a70a5-2133-45ef-c8de-c697d7602ed4"
      },
      "execution_count": 15,
      "outputs": [
        {
          "output_type": "stream",
          "name": "stdout",
          "text": [
            "For class 5\n",
            "Precision: 0.42105263157894735\n",
            "Recall: 0.3137254901960784\n",
            "Accuracy: 0.9432835820895522\n",
            "F1 score: 0.3595505617977528\n"
          ]
        }
      ]
    },
    {
      "cell_type": "markdown",
      "metadata": {
        "id": "UBMkzYrWwrPE"
      },
      "source": [
        "<span style='background:yellow'>**Question 3 (100 pt, each sub-question is 10 pt).**</span> \n",
        "\n",
        "Part A: Given Inetd dataset, an intrusion detection dataset that contains 2 columns. The first column represents a process ID number (PID) and the second column represents a system call. The goal is to extract the entire system call sequence by its PID, then tokenize and parse each sequence into 25-grams. After this, we’ll split the data into training and testing sets. Next, we ensure data quality in the training dataset by removing duplicate sequences within each class and overlapped sequences between both classes. To ensure a fair evaluation, we also clean the testing set by repeating the previous step. You will implement a Decision Tree model to train and test on the training set and testing set that we just clean. \n",
        "\n",
        "\n",
        "Part B: As the data type is sequential, we want to know how similar the sequences from both classes are and visualize how the similarity scores vary in different sequence lengths. Compute a cosine similarity score of 100 random pairs from both classes and get a median cosine similarity. Repeat this step in different sequence lengths (5, 10, 15, and 20). Plot a line chart to visualize how the median cosine similarities vary through sequence lengths of 5 to 25. \n",
        "\n",
        "You can download the datasets from github: https://github.com/unt-iialab/info5502-spring2022/tree/main/finalexam/q4\n",
        "\n",
        "\n",
        "Step by step instructions and questions:\n",
        "\n",
        "(1) Attached are the Normal and Intrusion data folders. Read in the data and store them in two separate dataframes. Combine the system calls (the second column) from the same PID (the first column) into a sequence or a string. \n",
        "\n",
        "(2) Parse an entire sequence into smaller sequences of size 25. (Hint: Use word_tokenize and ngrams from nltk library to parse).\n",
        "\n",
        "(3) Add labels to the data, and partition the labeled data into training data and testing data with a ratio of 70/30.\n",
        "\n",
        "(4) As the dataset has a lot of duplicate sequences, make sure that the testing data only contain unique sequences and that these sequences do not exist in the training data. Condense training data and testing data into two sets. Take the difference between the testing set and training set to remove the overlapped sequences from the testing data. \n",
        "\n",
        "(5) The sequences from each class can be repetitive, and some of these sequences may have different labels. Therefore, we need to remove the duplicate sequences within each class and the overlapped sequences from the Intrusion class. Start out by separating the Normal class and Intrusion class in the training data. Use the same concept in Question 4 to remove duplicate sequences and overlapped sequences from the training data.\n",
        "\n",
        "(6) Repeat Question 5 to clean the testing data.\n",
        "\n",
        "(7) Bootstrap the training data to get the same number of sequences from each class. Train and evaluate a Decision Tree model using the training data and testing data that we just clean. How is the performance?\n",
        "\n",
        "(8) Randomly sample 100 pairs of sequences from both classes and calculate the median cosine similarity.\n",
        "\n",
        "(9) Refer back to Question 2, parse the data into a length of 5, 10, 15, and 20. Clean the data from each class using Question 5. For each sequence length, calculate the median cosine similarity of 100 random pairs of sequences from both classes. \n",
        "\n",
        "(10) Plot a line chart to visualize how the median cosine similarities vary through different sequence lengths from 5 to 25.\n"
      ]
    },
    {
      "cell_type": "code",
      "source": [
        "\n",
        "import pandas as pd\n",
        "import numpy as np\n",
        "\n",
        "# load data from git\n",
        "intrusion_data = pd.read_csv(\"https://raw.githubusercontent.com/unt-iialab/info5502-spring2022/main/finalexam/q4/inetd-intrusion.int\", sep = \" \", header = None)\n",
        "normal_data = pd.read_csv(\"https://raw.githubusercontent.com/unt-iialab/info5502-spring2022/main/finalexam/q4/inetd-normal.int\", sep = \" \", header = None)\n",
        "\n",
        "intrusion_data.columns = ['PID', 'SystemCalls']\n",
        "normal_data.columns = ['PID', 'SystemCalls']\n",
        "\n",
        "print(intrusion_data.head(2))\n",
        "print()\n",
        "print(normal_data.head(2))"
      ],
      "metadata": {
        "colab": {
          "base_uri": "https://localhost:8080/"
        },
        "id": "6lauMQvQA9HB",
        "outputId": "7cc92141-c59c-498b-83e1-f77571f95b43"
      },
      "execution_count": 16,
      "outputs": [
        {
          "output_type": "stream",
          "name": "stdout",
          "text": [
            "   PID  SystemCalls\n",
            "0  167           90\n",
            "1  167          125\n",
            "\n",
            "   PID  SystemCalls\n",
            "0  167           90\n",
            "1  167          125\n"
          ]
        }
      ]
    },
    {
      "cell_type": "code",
      "source": [
        "print(intrusion_data.shape)\n",
        "print(normal_data.shape)"
      ],
      "metadata": {
        "colab": {
          "base_uri": "https://localhost:8080/"
        },
        "id": "pfLtMDT6e4No",
        "outputId": "afec5496-fb7d-4de0-dc74-b2ca0335e3d5"
      },
      "execution_count": 17,
      "outputs": [
        {
          "output_type": "stream",
          "name": "stdout",
          "text": [
            "(8371, 2)\n",
            "(541, 2)\n"
          ]
        }
      ]
    },
    {
      "cell_type": "code",
      "source": [
        "intrusion_dict = {}\n",
        "normal_dict = {}\n",
        "\n",
        "# combining system calls\n",
        "for pid in list(set(intrusion_data['PID'].values)):\n",
        "    intrusion_dict[pid] = \" \".join(str(value) for value in list(intrusion_data[intrusion_data['PID'] == pid]['SystemCalls'].values))\n",
        "\n",
        "for pid in list(set(normal_data['PID'].values)):\n",
        "    normal_dict[pid] = \" \".join(str(value) for value in list(normal_data[normal_data['PID'] == pid]['SystemCalls'].values))\n",
        "\n",
        "intrusion_dict[167]"
      ],
      "metadata": {
        "colab": {
          "base_uri": "https://localhost:8080/",
          "height": 35
        },
        "id": "Ns2yEKVge4To",
        "outputId": "90f97c46-75d0-49ec-9528-a3840d38cc0a"
      },
      "execution_count": 18,
      "outputs": [
        {
          "output_type": "execute_result",
          "data": {
            "text/plain": [
              "'90 125 125 106 5 90 6 5 3 90 90 90 90 6 125 91 125 125 125 136 49 24 47 50 45 45 5 106 106 106 106 106 2 1'"
            ],
            "application/vnd.google.colaboratory.intrinsic+json": {
              "type": "string"
            }
          },
          "metadata": {},
          "execution_count": 18
        }
      ]
    },
    {
      "cell_type": "code",
      "source": [
        "import re\n",
        "from nltk.util import ngrams\n",
        "intrusion_list = []\n",
        "normal_list = []\n",
        "\n",
        "# generating ngrams with sequence length of 25\n",
        "\n",
        "for key in intrusion_dict.keys():\n",
        "    s = intrusion_dict[key]\n",
        "    tokens = [token for token in s.split(\" \") if token != \"\"]\n",
        "    \n",
        "    for ele in list(ngrams(tokens, 25)):\n",
        "        intrusion_list.append(ele)\n",
        "        \n",
        "for key in normal_dict.keys():\n",
        "    s = normal_dict[key]\n",
        "    tokens = [token for token in s.split(\" \") if token != \"\"]\n",
        "    \n",
        "    for ele in list(ngrams(tokens, 25)):\n",
        "        normal_list.append(ele) \n",
        "\n",
        "print(len(intrusion_list))\n",
        "print(len(normal_list))"
      ],
      "metadata": {
        "colab": {
          "base_uri": "https://localhost:8080/"
        },
        "id": "OQUhZIhye4WR",
        "outputId": "0c2756a0-6e9c-4830-b8f0-5d18dab87a9f"
      },
      "execution_count": 19,
      "outputs": [
        {
          "output_type": "stream",
          "name": "stdout",
          "text": [
            "7627\n",
            "469\n"
          ]
        }
      ]
    },
    {
      "cell_type": "code",
      "source": [
        "intrusion_df = pd.DataFrame(intrusion_list)\n",
        "normal_df = pd.DataFrame(normal_list)\n",
        "\n",
        "# adding labels to intrusion and normal data sequences\n",
        "intrusion_df['class'] = 1\n",
        "normal_df['class'] = 0\n",
        "\n",
        "print(intrusion_df.shape)\n",
        "print(normal_df.shape)"
      ],
      "metadata": {
        "colab": {
          "base_uri": "https://localhost:8080/"
        },
        "id": "JBy78-iPe4Y3",
        "outputId": "e4514f78-e75b-423e-86ce-ff62bbc0c481"
      },
      "execution_count": 20,
      "outputs": [
        {
          "output_type": "stream",
          "name": "stdout",
          "text": [
            "(7627, 26)\n",
            "(469, 26)\n"
          ]
        }
      ]
    },
    {
      "cell_type": "code",
      "source": [
        "# combining intrusion and normal data frames \n",
        "\n",
        "combined_df = pd.DataFrame()\n",
        "\n",
        "combined_df = combined_df.append(intrusion_df)\n",
        "combined_df = combined_df.append(normal_df)\n",
        "\n",
        "print(combined_df.shape)"
      ],
      "metadata": {
        "colab": {
          "base_uri": "https://localhost:8080/"
        },
        "id": "ZBzC81nSe4bj",
        "outputId": "adcc8d42-83c3-49b3-e1fc-a2983b84f46c"
      },
      "execution_count": 21,
      "outputs": [
        {
          "output_type": "stream",
          "name": "stdout",
          "text": [
            "(8096, 26)\n"
          ]
        }
      ]
    },
    {
      "cell_type": "code",
      "source": [
        "# dropping duplicates...\n",
        "combined_df = combined_df.drop_duplicates(subset = combined_df.columns[:-1], keep = 'last')\n",
        "combined_df.shape"
      ],
      "metadata": {
        "colab": {
          "base_uri": "https://localhost:8080/"
        },
        "id": "Wbm51sXIe4ev",
        "outputId": "095e4765-4560-4cf8-aaa9-d21998ac1334"
      },
      "execution_count": 22,
      "outputs": [
        {
          "output_type": "execute_result",
          "data": {
            "text/plain": [
              "(333, 26)"
            ]
          },
          "metadata": {},
          "execution_count": 22
        }
      ]
    },
    {
      "cell_type": "code",
      "source": [
        "combined_df['class'].value_counts()"
      ],
      "metadata": {
        "colab": {
          "base_uri": "https://localhost:8080/"
        },
        "id": "6MNnRBZNe4hT",
        "outputId": "41506be3-ee30-4c4c-9a1b-3a770f411a0d"
      },
      "execution_count": 23,
      "outputs": [
        {
          "output_type": "execute_result",
          "data": {
            "text/plain": [
              "1    177\n",
              "0    156\n",
              "Name: class, dtype: int64"
            ]
          },
          "metadata": {},
          "execution_count": 23
        }
      ]
    },
    {
      "cell_type": "code",
      "source": [
        "combined_df.columns[:-1]"
      ],
      "metadata": {
        "colab": {
          "base_uri": "https://localhost:8080/"
        },
        "id": "OxzzSLoBe4lB",
        "outputId": "ea536daf-781e-4bc3-a4d2-6e297164d7ea"
      },
      "execution_count": 24,
      "outputs": [
        {
          "output_type": "execute_result",
          "data": {
            "text/plain": [
              "Index([ 0,  1,  2,  3,  4,  5,  6,  7,  8,  9, 10, 11, 12, 13, 14, 15, 16, 17,\n",
              "       18, 19, 20, 21, 22, 23, 24],\n",
              "      dtype='object')"
            ]
          },
          "metadata": {},
          "execution_count": 24
        }
      ]
    },
    {
      "cell_type": "code",
      "source": [
        "\n",
        "from sklearn.tree import DecisionTreeClassifier\n",
        "from sklearn import preprocessing\n",
        "from sklearn.metrics import classification_report\n",
        "from sklearn.model_selection import train_test_split\n",
        "\n",
        "X = combined_df.drop(\"class\", axis = 1)\n",
        "y = combined_df['class']\n",
        "\n",
        "X_train, X_valid, y_train, y_valid = train_test_split(X, y, test_size = 0.2, random_state = 0)\n",
        "\n",
        "dtclassifier = DecisionTreeClassifier(max_depth = 10)\n",
        "dtclassifier.fit(X_train, y_train)\n",
        "y_pred = dtclassifier.predict(X_valid)\n",
        "\n",
        "print(classification_report(y_valid, y_pred))\n"
      ],
      "metadata": {
        "colab": {
          "base_uri": "https://localhost:8080/"
        },
        "id": "YIL155BIj3TC",
        "outputId": "b35b644f-4ffb-4e2c-9969-217d54544547"
      },
      "execution_count": 25,
      "outputs": [
        {
          "output_type": "stream",
          "name": "stdout",
          "text": [
            "              precision    recall  f1-score   support\n",
            "\n",
            "           0       0.75      0.82      0.78        22\n",
            "           1       0.91      0.87      0.89        45\n",
            "\n",
            "    accuracy                           0.85        67\n",
            "   macro avg       0.83      0.84      0.83        67\n",
            "weighted avg       0.86      0.85      0.85        67\n",
            "\n"
          ]
        }
      ]
    },
    {
      "cell_type": "code",
      "source": [
        "import re\n",
        "from nltk.util import ngrams\n",
        "import pandas as pd\n",
        "\n",
        "cosine_similar_ngram = {}\n",
        "\n",
        "for ngram in range(5, 26, 5):\n",
        "\n",
        "    intrusion_data = pd.read_csv(\"https://raw.githubusercontent.com/unt-iialab/info5502-spring2022/main/finalexam/q4/inetd-intrusion.int\", sep = \" \", header = None)\n",
        "    normal_data = pd.read_csv(\"https://raw.githubusercontent.com/unt-iialab/info5502-spring2022/main/finalexam/q4/inetd-normal.int\", sep = \" \", header = None)\n",
        "\n",
        "    intrusion_data.columns = ['PID', 'SystemCalls']\n",
        "    normal_data.columns = ['PID', 'SystemCalls']\n",
        "\n",
        "    intrusion_dict = {}\n",
        "    normal_dict = {}\n",
        "\n",
        "    for pid in list(set(intrusion_data['PID'].values)):\n",
        "        intrusion_dict[pid] = \" \".join(str(value) for value in list(intrusion_data[intrusion_data['PID'] == pid]['SystemCalls'].values))\n",
        "\n",
        "    for pid in list(set(normal_data['PID'].values)):\n",
        "        normal_dict[pid] = \" \".join(str(value) for value in list(normal_data[normal_data['PID'] == pid]['SystemCalls'].values))\n",
        "\n",
        "    intrusion_list = []\n",
        "    normal_list = []\n",
        "    for key in intrusion_dict.keys():\n",
        "        s = intrusion_dict[key]\n",
        "        tokens = [token for token in s.split(\" \") if token != \"\"]\n",
        "\n",
        "        for ele in list(ngrams(tokens, ngram)):\n",
        "            intrusion_list.append(ele)\n",
        "\n",
        "    for key in normal_dict.keys():\n",
        "        s = normal_dict[key]\n",
        "        tokens = [token for token in s.split(\" \") if token != \"\"]\n",
        "\n",
        "        for ele in list(ngrams(tokens, ngram)):\n",
        "            normal_list.append(ele)\n",
        "\n",
        "    intrusion_df = pd.DataFrame(intrusion_list)\n",
        "    normal_df = pd.DataFrame(normal_list)\n",
        "\n",
        "    intrusion_df['class'] = 1\n",
        "    normal_df['class'] = 0\n",
        "\n",
        "    combined_df = pd.DataFrame()\n",
        "\n",
        "    combined_df = combined_df.append(intrusion_df)\n",
        "    combined_df = combined_df.append(normal_df)\n",
        "\n",
        "    print(combined_df.shape)\n",
        "    print()\n",
        "\n",
        "\n",
        "    combined_df = combined_df.drop_duplicates(subset = combined_df.columns[:-1], keep = 'last')\n",
        "    print(combined_df.shape)\n",
        "    print()\n",
        "\n",
        "    from sklearn.metrics.pairwise import cosine_similarity\n",
        "    import statistics\n",
        "\n",
        "    similarities_list = []\n",
        "    for i in range(0, 100):\n",
        "        list1 = list(combined_df[combined_df['class'] == 0].sample(n = 1).iloc[0, :].values)\n",
        "        list2 = list(combined_df[combined_df['class'] == 1].sample(n = 1).iloc[0, :].values)\n",
        "        try:\n",
        "            similarities_list.append(cosine_similarity([list1], [list2]))\n",
        "        except Exception as e:\n",
        "            print(e)\n",
        "            print(list1, list2)\n",
        "\n",
        "    print(statistics.median(similarities_list)[0][0])\n",
        "    print()\n",
        "    cosine_similar_ngram[ngram] = statistics.median(similarities_list)[0][0]\n",
        "    "
      ],
      "metadata": {
        "colab": {
          "base_uri": "https://localhost:8080/"
        },
        "id": "S4qFm54Tj3Wg",
        "outputId": "f89b63b1-1767-4046-c69b-2720f5bc9360"
      },
      "execution_count": 26,
      "outputs": [
        {
          "output_type": "stream",
          "name": "stdout",
          "text": [
            "(8776, 6)\n",
            "\n",
            "(168, 6)\n",
            "\n",
            "0.800681635313495\n",
            "\n",
            "(8606, 11)\n",
            "\n",
            "(213, 11)\n",
            "\n",
            "0.7406814807652157\n",
            "\n",
            "(8436, 16)\n",
            "\n",
            "(254, 16)\n",
            "\n",
            "0.7096148585310864\n",
            "\n",
            "(8266, 21)\n",
            "\n",
            "(293, 21)\n",
            "\n",
            "0.7420566822454925\n",
            "\n",
            "(8096, 26)\n",
            "\n",
            "(333, 26)\n",
            "\n",
            "0.7196655326505935\n",
            "\n"
          ]
        }
      ]
    },
    {
      "cell_type": "code",
      "source": [
        "import matplotlib.pyplot as plt\n",
        "import seaborn as sns\n",
        "\n",
        "cosine_similar_ngram_df = pd.DataFrame({\"Ngram\":list(cosine_similar_ngram.keys()), \"Similarity_scores\": list(cosine_similar_ngram.values())})\n",
        "\n",
        "\n",
        "plt.rcParams['figure.figsize'] = [10, 7]\n",
        "\n",
        "# we iterate through each ngram range class and plot the line chart\n",
        "sns.lineplot(x = \"Ngram\", y = \"Similarity_scores\", data = cosine_similar_ngram_df)\n",
        "    \n",
        "plt.title(\"Line chart of cosine similarity scores\")\n",
        "plt.xlabel(\"Ngram\")\n",
        "plt.ylabel(\"Cosine similarity scores\")\n",
        "plt.xticks(rotation = 90)\n",
        "plt.show()"
      ],
      "metadata": {
        "colab": {
          "base_uri": "https://localhost:8080/",
          "height": 464
        },
        "id": "GaSWIETpj3cP",
        "outputId": "12dd4ccc-77e2-41e7-fe5a-a8fad354ce88"
      },
      "execution_count": 27,
      "outputs": [
        {
          "output_type": "display_data",
          "data": {
            "text/plain": [
              "<Figure size 720x504 with 1 Axes>"
            ],
            "image/png": "[encoded data removed]"
          },
          "metadata": {}
        }
      ]
    },
    {
      "cell_type": "markdown",
      "metadata": {
        "id": "lweyneQDwrPG"
      },
      "source": [
        "<span style='background:yellow'>**Question 4 (60 pt, each sub-question is 20 pt).**</span> In the world of business, the importance of the customers’ reviews for any product is not ignorable. The impact of customers’ reviews on customer’s decision making is significant. Therefore, businesses try to increase this impact by increasing the ratio of the positive reviews to negative reviews. One effective way to increase the ratio is offering the incentives such as small gifts or free next services to customers to post the reviews for item they purchase or used. However, it is not always the case, and customer may post their reviews without receiving or accepting the incentives. So, the reviews could be in either incentivized or non-incentivized category.\n",
        "\n",
        "\n",
        "Considering the importance of reviews, in this question you need to compare these two categories of reviews. One method to compare the effectiveness of two categories is conducting the A/B testing.\n",
        "\n",
        "\n",
        "The Software_Reviews dataset is collected from software review products, and it is combination of several small datasets. Find the dataset as an attachment on the left side of the page.\n",
        "\n",
        "\n",
        "You can downlaod the dataset from github: https://github.com/unt-iialab/info5502-spring2022/blob/main/finalexam/Software_Reviews_csv_files_S.csv\n",
        "\n",
        "(1) Clean the dataset before you use (You need to know this dataset is combinations of the several CSV files with title rows. So, there are extra title rows in the middle of the file, which they need to be removed.)\n",
        "\n",
        "\n",
        "(2) Apply an A/B test\": consider the “incentivized” column as main column for A & B groups.\n",
        "\n",
        "a. The “incentivized” column includes ‘NominalGift’, ‘VendorReferredIncentivized’, ‘NoIncentive’, ‘NonNominalGift’, ‘VendorReferred’, ‘None’\n",
        "\n",
        "b. Group A (Incentive): ‘NominalGift’, and ‘VendorReferredIncentivized’\n",
        "\n",
        "c. Group B (NoIncentive): ‘NoIncentive’, ‘NonNominalGift’, ‘VendorReferred’\n",
        "\n",
        "d. Make the decision if ‘None’ includes in either Group A or B or remove that.\n",
        "\n",
        "e. The “OverAllRating” is another column that is used to compare groups A and B.\n",
        "\n",
        "Which one A or B group has higher “OverAllRating”?\n",
        "\n",
        "\n",
        "(3) Draw the A/B testing related visualizations."
      ]
    },
    {
      "cell_type": "code",
      "execution_count": 1,
      "metadata": {
        "colab": {
          "base_uri": "https://localhost:8080/"
        },
        "id": "vPD0aPBfwrPH",
        "outputId": "6ee75c3f-8811-45f0-c677-007e998d2ac7"
      },
      "outputs": [
        {
          "output_type": "execute_result",
          "data": {
            "text/plain": [
              "(2999, 28)"
            ]
          },
          "metadata": {},
          "execution_count": 1
        }
      ],
      "source": [
        "#### You code and your answer here here\n",
        "import pandas as pd\n",
        "import numpy as np\n",
        "\n",
        "data = pd.read_csv(\"https://raw.githubusercontent.com/unt-iialab/info5502-spring2022/main/finalexam/Software_Reviews_csv_files_S.csv\")\n",
        "\n",
        "data.columns\n",
        "\n",
        "#data['incentivized'].value_counts()\n",
        "data.shape\n"
      ]
    },
    {
      "cell_type": "code",
      "source": [
        "data = data[data['id'] != 'id']\n",
        "data.shape"
      ],
      "metadata": {
        "colab": {
          "base_uri": "https://localhost:8080/"
        },
        "id": "g7wZ2eGXeGOq",
        "outputId": "efabbf26-ad6f-4a2e-9e2e-c567e683e5ec"
      },
      "execution_count": 2,
      "outputs": [
        {
          "output_type": "execute_result",
          "data": {
            "text/plain": [
              "(2988, 28)"
            ]
          },
          "metadata": {},
          "execution_count": 2
        }
      ]
    },
    {
      "cell_type": "code",
      "source": [
        "data[(data['incentivized'] == \"NominalGift\") | (data['incentivized'] == \"VendorReferredIncentivized\")]['OverAllRating'].shape"
      ],
      "metadata": {
        "colab": {
          "base_uri": "https://localhost:8080/"
        },
        "id": "l2oK6YPAeGSY",
        "outputId": "3bb85737-c3a6-478a-9052-62a8314463cb"
      },
      "execution_count": 3,
      "outputs": [
        {
          "output_type": "execute_result",
          "data": {
            "text/plain": [
              "(1015,)"
            ]
          },
          "metadata": {},
          "execution_count": 3
        }
      ]
    },
    {
      "cell_type": "code",
      "source": [
        "data[(data['incentivized'] == \"NoIncentive\") | (data['incentivized'] == \"NonNominalGift\") | (data['incentivized'] == \"VendorReferred\")]['OverAllRating'].shape"
      ],
      "metadata": {
        "colab": {
          "base_uri": "https://localhost:8080/"
        },
        "id": "cji6qUm8eGVx",
        "outputId": "23e42697-b6df-4a69-c406-9fba559fc277"
      },
      "execution_count": 4,
      "outputs": [
        {
          "output_type": "execute_result",
          "data": {
            "text/plain": [
              "(1306,)"
            ]
          },
          "metadata": {},
          "execution_count": 4
        }
      ]
    },
    {
      "cell_type": "code",
      "source": [
        "data['OverAllRating'] = data['OverAllRating'].astype(\"int64\")\n",
        "\n",
        "np.var(data['OverAllRating'])"
      ],
      "metadata": {
        "colab": {
          "base_uri": "https://localhost:8080/"
        },
        "id": "yUz2VLYZeGZI",
        "outputId": "570238b2-ebb9-4a62-8bc8-7e01f3ecb3b1"
      },
      "execution_count": 5,
      "outputs": [
        {
          "output_type": "execute_result",
          "data": {
            "text/plain": [
              "0.9951936259092429"
            ]
          },
          "metadata": {},
          "execution_count": 5
        }
      ]
    },
    {
      "cell_type": "code",
      "source": [
        "import numpy as np\n",
        "from scipy.stats import norm\n",
        "\n",
        "group_a = data[(data['incentivized'] == \"NominalGift\") | (data['incentivized'] == \"VendorReferredIncentivized\")]['OverAllRating']#.shape\n",
        "group_b = data[(data['incentivized'] == \"NoIncentive\") | (data['incentivized'] == \"NonNominalGift\") | (data['incentivized'] == \"VendorReferred\")]['OverAllRating']#.shape\n",
        "\n",
        "N_con = group_a.shape[0]\n",
        "N_exp = group_b.shape[0]\n",
        "\n",
        "# Significance Level\n",
        "alpha = 0.05\n",
        "\n",
        "#X_A = np.random.randint(100, size = N_con)\n",
        "#X_B = np.random.randint(100, size = N_exp)\n",
        "\n",
        "# Calculating means of control and experimental groups\n",
        "mu_con = np.mean(group_a)\n",
        "mu_exp = np.mean(group_b)\n",
        "\n",
        "variance_con = np.var(group_a)\n",
        "variance_exp = np.var(group_b)\n",
        "\n",
        "# Pooled Variance\n",
        "pooled_variance = np.sqrt(variance_con/N_con + variance_exp/N_exp)\n",
        "\n",
        "# Test statistics\n",
        "T = (mu_con-mu_exp)/np.sqrt(variance_con/N_con + variance_exp/N_exp)\n",
        "\n",
        "# two sided test and using symmetry property of Normal distibution so we multiple with 2\n",
        "p_value = norm.sf(T)*2\n",
        "\n",
        "# Z-critical value\n",
        "Z_crit  = norm.ppf(1-alpha/2)\n",
        "\n",
        "# Margin of error\n",
        "m = Z_crit*pooled_variance\n",
        "\n",
        "# Confidence Interval\n",
        "CI = [(mu_con - mu_exp) - m, (mu_con - mu_exp) + m]\n",
        "\n",
        "\n",
        "print(\"Test Statistics stat: \", T)\n",
        "print(\"Z-critical: \", Z_crit)\n",
        "print(\"P_value: \", p_value)\n",
        "print(\"Confidence Interval of 2 sample Z-test for proportions: \", np.round(CI,2))\n",
        "print()\n",
        "import matplotlib.pyplot as plt\n",
        "z = np.arange(-3,3,  0.1)\n",
        "plt.plot(z, norm.pdf(z), label = 'Standard Normal Distribution',color = 'purple',linewidth = 2.5)\n",
        "plt.fill_between(z[z>Z_crit], norm.pdf(z[z>Z_crit]), label = 'Right Rejection Region',color ='y' )\n",
        "plt.fill_between(z[z<(-1)*Z_crit], norm.pdf(z[z<(-1)*Z_crit]), label = 'Left Rejection Region',color ='y' )\n",
        "plt.title(\"Two Sample Z-test rejection region\")\n",
        "plt.legend()\n",
        "plt.show()"
      ],
      "metadata": {
        "colab": {
          "base_uri": "https://localhost:8080/",
          "height": 370
        },
        "id": "Z2BgxyyWhTo8",
        "outputId": "63a15d42-e6da-4b7d-f7a1-de1d5b8d979e"
      },
      "execution_count": 6,
      "outputs": [
        {
          "output_type": "stream",
          "name": "stdout",
          "text": [
            "Test Statistics stat:  -3.7545568216338077\n",
            "Z-critical:  1.959963984540054\n",
            "P_value:  1.9998263515499213\n",
            "Confidence Interval of 2 sample Z-test for proportions:  [-0.22 -0.07]\n",
            "\n"
          ]
        },
        {
          "output_type": "display_data",
          "data": {
            "text/plain": [
              "<Figure size 432x288 with 1 Axes>"
            ],
            "image/png": "[encoded data removed]"
          },
          "metadata": {
            "needs_background": "light"
          }
        }
      ]
    },
    {
      "cell_type": "code",
      "source": [
        "\n",
        "np.mean(group_b)"
      ],
      "metadata": {
        "colab": {
          "base_uri": "https://localhost:8080/"
        },
        "id": "eEmxJWAkkn3F",
        "outputId": "b9eb7784-9909-4acd-c946-03e154f4d09a"
      },
      "execution_count": 28,
      "outputs": [
        {
          "output_type": "execute_result",
          "data": {
            "text/plain": [
              "4.481623277182236"
            ]
          },
          "metadata": {},
          "execution_count": 28
        }
      ]
    },
    {
      "cell_type": "code",
      "source": [
        "np.mean(group_a)"
      ],
      "metadata": {
        "colab": {
          "base_uri": "https://localhost:8080/"
        },
        "id": "NodOIoIWktrm",
        "outputId": "e66dfdd0-f768-4f42-cb16-0403d70924eb"
      },
      "execution_count": 29,
      "outputs": [
        {
          "output_type": "execute_result",
          "data": {
            "text/plain": [
              "4.337931034482758"
            ]
          },
          "metadata": {},
          "execution_count": 29
        }
      ]
    }
  ],
  "metadata": {
    "kernelspec": {
      "display_name": "Python 3",
      "language": "python",
      "name": "python3"
    },
    "language_info": {
      "codemirror_mode": {
        "name": "ipython",
        "version": 3
      },
      "file_extension": ".py",
      "mimetype": "text/x-python",
      "name": "python",
      "nbconvert_exporter": "python",
      "pygments_lexer": "ipython3",
      "version": "3.8.5"
    },
    "colab": {
      "name": "INFO 5502-Final Exam-Spring2022.ipynb",
      "provenance": [],
      "collapsed_sections": [],
      "include_colab_link": true
    }
  },
  "nbformat": 4,
  "nbformat_minor": 0
}