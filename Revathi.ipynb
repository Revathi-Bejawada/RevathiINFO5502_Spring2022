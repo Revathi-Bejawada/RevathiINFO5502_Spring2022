{
  "nbformat": 4,
  "nbformat_minor": 0,
  "metadata": {
    "colab": {
      "name": "Revathi.ipynb",
      "provenance": [],
      "collapsed_sections": [],
      "authorship_tag": "ABX9TyNGIMLASVAmV6yl39yciV9r",
      "include_colab_link": true
    },
    "kernelspec": {
      "name": "python3",
      "display_name": "Python 3"
    },
    "language_info": {
      "name": "python"
    }
  },
  "cells": [
    {
      "cell_type": "markdown",
      "metadata": {
        "id": "view-in-github",
        "colab_type": "text"
      },
      "source": [
        "<a href=\"https://colab.research.google.com/github/Revathi-Bejawada/RevathiINFO5731_Spring2022/blob/main/Revathi.ipynb\" target=\"_parent\"><img src=\"https://colab.research.google.com/assets/colab-badge.svg\" alt=\"Open In Colab\"/></a>"
      ]
    },
    {
      "cell_type": "code",
      "execution_count": null,
      "metadata": {
        "id": "eOOWWS4cvA2I"
      },
      "outputs": [],
      "source": [
        ""
      ]
    },
    {
      "cell_type": "code",
      "source": [
        "# This program prints Hello, world!\n",
        "\n",
        "print('Hello, world!')"
      ],
      "metadata": {
        "colab": {
          "base_uri": "https://localhost:8080/"
        },
        "id": "74QoDB9rvBdX",
        "outputId": "316938da-1dd5-459a-c668-23b515da9efc"
      },
      "execution_count": 1,
      "outputs": [
        {
          "output_type": "stream",
          "name": "stdout",
          "text": [
            "Hello, world!\n"
          ]
        }
      ]
    },
    {
      "cell_type": "code",
      "source": [
        "# Taking kilometers input from the user\n",
        "kilometers = float(input(\"Enter value in kilometers: \"))\n",
        "\n",
        "# conversion factor\n",
        "conv_fac = 0.621371\n",
        "\n",
        "# calculate miles\n",
        "miles = kilometers * conv_fac\n",
        "print('%0.2f kilometers is equal to %0.2f miles' %(kilometers,miles))"
      ],
      "metadata": {
        "colab": {
          "base_uri": "https://localhost:8080/"
        },
        "id": "9pnhTHEwvsBP",
        "outputId": "dab09b51-bc0a-4037-bd1b-ed92099c7c41"
      },
      "execution_count": 2,
      "outputs": [
        {
          "output_type": "stream",
          "name": "stdout",
          "text": [
            "Enter value in kilometers: 10\n",
            "10.00 kilometers is equal to 6.21 miles\n"
          ]
        }
      ]
    }
  ]
}