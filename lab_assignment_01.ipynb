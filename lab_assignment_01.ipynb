{
  "cells": [
    {
      "cell_type": "markdown",
      "metadata": {
        "id": "view-in-github",
        "colab_type": "text"
      },
      "source": [
        "<a href=\"https://colab.research.google.com/github/Revathi-Bejawada/RevathiINFO5731_Spring2022/blob/main/lab_assignment_01.ipynb\" target=\"_parent\"><img src=\"https://colab.research.google.com/assets/colab-badge.svg\" alt=\"Open In Colab\"/></a>"
      ]
    },
    {
      "cell_type": "markdown",
      "metadata": {
        "id": "DymRJbxDBCnf"
      },
      "source": [
        "# **The first Lab-assignment (01/25/2022, 50 points in total)**"
      ]
    },
    {
      "cell_type": "markdown",
      "metadata": {
        "id": "jJDe71iLB616"
      },
      "source": [
        "(1) Write a Python program to count the number of characters in a string. (5 points)\n",
        "\n",
        "Sample String : 'google.com', \n",
        "\n",
        "Expected Result : {'o': 3, 'g': 2, '.': 1, 'e': 1, 'l': 1, 'm': 1, 'c': 1}"
      ]
    },
    {
      "cell_type": "code",
      "execution_count": 1,
      "metadata": {
        "colab": {
          "base_uri": "https://localhost:8080/"
        },
        "id": "MtKskTzbCLaU",
        "outputId": "33f098ff-f0f7-4971-d836-18e6f02ca5b8"
      },
      "outputs": [
        {
          "output_type": "stream",
          "name": "stdout",
          "text": [
            "Enter a String: google.com\n",
            "Counter({'o': 3, 'g': 2, 'l': 1, 'e': 1, '.': 1, 'c': 1, 'm': 1})\n"
          ]
        }
      ],
      "source": [
        "# write your answer here\n",
        "import collections\n",
        "\n",
        "def char_count():\n",
        "    r = input('Enter a String: ') # enter your desired string\n",
        "    return collections.Counter(list(r)) #  count elements from a string\n",
        "print(char_count())"
      ]
    },
    {
      "cell_type": "markdown",
      "metadata": {
        "id": "55W9AMdXCSpV"
      },
      "source": [
        "(2) Write a Python program to sum all the items in a list. (5 points)"
      ]
    },
    {
      "cell_type": "code",
      "execution_count": 19,
      "metadata": {
        "colab": {
          "base_uri": "https://localhost:8080/"
        },
        "id": "I57NXsauCec2",
        "outputId": "c8baf2d5-c685-4569-f293-1559f0fb1b5a"
      },
      "outputs": [
        {
          "output_type": "stream",
          "name": "stdout",
          "text": [
            "Enter a list element separated by space 1 23 44 64 2 7\n",
            "Sum of all elements in the list =  141\n"
          ]
        }
      ],
      "source": [
        "#write your code here\n",
        "\n",
        "user_input = input(\"Enter a list element separated by space \")\n",
        "Range  = user_input.split()\n",
        "Sum = 0\n",
        "\n",
        "for num in Range: # Iteration of each element in a list\n",
        "    Sum += int (num)\n",
        "\n",
        "print(\"Sum of all elements in the list = \",Sum) # prints sum of list\n"
      ]
    },
    {
      "cell_type": "markdown",
      "metadata": {
        "id": "4ulBZ6yhCi9F"
      },
      "source": [
        "(3) Write a Python program to get a string from a given string where all occurrences of its first char have been changed to '\\$', except the first char itself. (5 points)\n",
        "\n",
        "Sample String : 'restart', \n",
        "\n",
        "Expected Result : 'resta\\$t'"
      ]
    },
    {
      "cell_type": "code",
      "execution_count": 10,
      "metadata": {
        "colab": {
          "base_uri": "https://localhost:8080/"
        },
        "id": "Fj0XhwbBCw2o",
        "outputId": "55eb0135-f8e2-4a8b-9838-dbdb33677345"
      },
      "outputs": [
        {
          "output_type": "stream",
          "name": "stdout",
          "text": [
            "enter the word: restart\n",
            "resta$t\n"
          ]
        }
      ],
      "source": [
        "# write your answer here\n",
        "def replace_char(word):  #word here is restart\n",
        "  character = word[0] # word[0]=r so charcater= r\n",
        "  word = word.replace(character, '$') #replace r letters in the word restart so word = $esta$t\n",
        "  word = character + word[1:] # word = resta$t\n",
        "\n",
        "  return word\n",
        "\n",
        "rb = input('enter the word: ')\n",
        "print(replace_char(rb))\n"
      ]
    },
    {
      "cell_type": "markdown",
      "metadata": {
        "id": "_bIP7s1MCzue"
      },
      "source": [
        "(4) Write a program with python which could accept two parameter a and b to calculate and output the result of S, where \n",
        "\n",
        "$\\ S=3.14*(1+a/b)^3$ (5 points)\n",
        "\n"
      ]
    },
    {
      "cell_type": "code",
      "execution_count": 9,
      "metadata": {
        "colab": {
          "base_uri": "https://localhost:8080/"
        },
        "id": "w79QilHXD3Mg",
        "outputId": "21d6bccd-764d-4272-bea7-9934af600713"
      },
      "outputs": [
        {
          "output_type": "stream",
          "name": "stdout",
          "text": [
            "enter the a value:12\n",
            "enter the b value:18\n",
            "The value of s is:  14.537037037037033\n"
          ]
        }
      ],
      "source": [
        "# write your answer here\n",
        "a = float(input('enter the a value:'))\n",
        "b = float(input('enter the b value:'))\n",
        "s = 3.14*(1+a/b)**3\n",
        "print('The value of s is: ',s)\n"
      ]
    },
    {
      "cell_type": "markdown",
      "metadata": {
        "id": "xCa2bK9aD4Q3"
      },
      "source": [
        "(5) Write a Python program to concatenate following dictionaries to create a new one. (5 points)\n",
        "\n",
        "Sample Dictionary : dic1={1:10, 2:20}, dic2={3:30, 4:40}, dic3={5:50,6:60}, \n",
        "\n",
        "Expected Result : {1: 10, 2: 20, 3: 30, 4: 40, 5: 50, 6: 60}\n"
      ]
    },
    {
      "cell_type": "code",
      "execution_count": 7,
      "metadata": {
        "colab": {
          "base_uri": "https://localhost:8080/"
        },
        "id": "_z4aLqAbEET1",
        "outputId": "aac31821-e88f-49ce-a97d-e133e21705f7"
      },
      "outputs": [
        {
          "output_type": "stream",
          "name": "stdout",
          "text": [
            "{1: 10, 2: 20, 3: 30, 4: 40, 5: 50, 6: 60}\n"
          ]
        }
      ],
      "source": [
        "# write your answer here\n",
        "dy_1={1:10, 2:20}\n",
        "dy_2={3:30, 4:40}\n",
        "dy_3={5:50,6:60}\n",
        "dy_4 = {}\n",
        "for r in (dy_1, dy_2, dy_3): dy_4.update(r)\n",
        "print(dy_4)\n"
      ]
    },
    {
      "cell_type": "markdown",
      "metadata": {
        "id": "0v48Vqa7FrQh"
      },
      "source": [
        "(6) Write a Python program to check whether an element exists within a tuple. (5 points)"
      ]
    },
    {
      "cell_type": "code",
      "execution_count": 6,
      "metadata": {
        "colab": {
          "base_uri": "https://localhost:8080/"
        },
        "id": "7WEmgq-DF2P1",
        "outputId": "42bd1f58-6da9-4b12-cbd0-7fbfa0241ed1"
      },
      "outputs": [
        {
          "output_type": "stream",
          "name": "stdout",
          "text": [
            "True\n",
            "False\n",
            "True\n",
            "False\n"
          ]
        }
      ],
      "source": [
        "# write your answer here\n",
        "my_name = (\"r\", \"e\", \"v\", \"a\", \"t\", \"h\", \"i\")\n",
        "my_dob = (\"6\", \"6\", \"1998\")\n",
        "print(\"r\" in my_name)\n",
        "print(5 in my_dob)\n",
        "print(\"1998\" in my_dob)\n",
        "print(\"s\" in my_name)\n"
      ]
    },
    {
      "cell_type": "markdown",
      "metadata": {
        "id": "vD5PYLMuGga_"
      },
      "source": [
        "(7) Write a Python program to find maximum and the minimum value in a set. (5 points)"
      ]
    },
    {
      "cell_type": "code",
      "execution_count": 5,
      "metadata": {
        "colab": {
          "base_uri": "https://localhost:8080/"
        },
        "id": "t0D5kdJUGjjw",
        "outputId": "e69686cf-5ab4-443a-c76f-216a410af4b3"
      },
      "outputs": [
        {
          "output_type": "stream",
          "name": "stdout",
          "text": [
            "Maximum value in a set: 84\n",
            "Minimum value in a set: 4\n"
          ]
        }
      ],
      "source": [
        "# write your answer here\n",
        "from typing import Set\n",
        "set = {18, 67, 4, 84, 38, 22}\n",
        "print(\"Maximum value in a set:\" , max(set))\n",
        "print(\"Minimum value in a set:\", min(set))"
      ]
    },
    {
      "cell_type": "markdown",
      "metadata": {
        "id": "uHkd-y5VhVWC"
      },
      "source": [
        "(8) Write a Python program to randomly divide the students in this class into six groups for term projects, each group should have at least 4 students but no more than 6 students (including 6). Here is the students list: (5 points)\n",
        "\n",
        "studnet_list = ['ja0964','sa1198','sb1357','vb0218','sc1229','kg0569','kg0470','sg1297','bg0320','fh0141','jl1252','sk1386',\n",
        "           'ak0956','sk1390','sk1458','sk1313','ak0934','vm0377','nm0618','sm1640','sm1907','gn0108','pr0353','dr0609','ms1500','aos0040','ds0814', 'av0659','nv0234','hy0232']"
      ]
    },
    {
      "cell_type": "code",
      "execution_count": 4,
      "metadata": {
        "colab": {
          "base_uri": "https://localhost:8080/"
        },
        "id": "3iGbmcOBhTwy",
        "outputId": "bef385c9-2370-4565-db27-ee8933602240"
      },
      "outputs": [
        {
          "output_type": "stream",
          "name": "stdout",
          "text": [
            "['ja0964', 'sm1640', 'sa1198', 'ak0956', 'jl1252']\n",
            "['ja0964', 'sm1640', 'sa1198', 'ak0956', 'jl1252']\n",
            "['ja0964', 'sm1640', 'sa1198', 'ak0956', 'jl1252']\n",
            "['ja0964', 'sm1640', 'sa1198', 'ak0956', 'jl1252']\n",
            "['ja0964', 'sm1640', 'sa1198', 'ak0956', 'jl1252']\n"
          ]
        }
      ],
      "source": [
        "#write your code here\n",
        "import random\n",
        "\n",
        "def random_list(r):\n",
        "    random.shuffle(r)\n",
        "    s = []\n",
        "    t = len(r) / 6\n",
        "    f = 0\n",
        "    while(f < t):\n",
        "        u = []\n",
        "        for x in r:\n",
        "            if len(u) == 5:\n",
        "                break\n",
        "            u.append(x) \n",
        "        s.append(u)\n",
        "        f += 1\n",
        "    return s\n",
        "\n",
        "student_list = ['ja0964','sa1198','sb1357','vb0218','sc1229','kg0569','kg0470','sg1297','bg0320','fh0141','jl1252','sk1386',\n",
        "           'ak0956','sk1390','sk1458','sk1313','ak0934','vm0377','nm0618','sm1640','sm1907','gn0108','pr0353','dr0609','ms1500','aos0040','ds0814', 'av0659','nv0234','hy0232']\n",
        "res = random_list(student_list)\n",
        "for g in res:\n",
        "     print(g)\n",
        "\n"
      ]
    },
    {
      "cell_type": "markdown",
      "metadata": {
        "id": "G1QhM78usVKN"
      },
      "source": [
        "(9) Write a Python program to find the duplicate elements in a given array of integers. Return -1 If there are no such elements. (5 points)"
      ]
    },
    {
      "cell_type": "code",
      "execution_count": 18,
      "metadata": {
        "colab": {
          "base_uri": "https://localhost:8080/"
        },
        "id": "Ut9BTLKPsVKN",
        "outputId": "0b61062c-ef8c-46b5-d2ac-8b60a8603fb9"
      },
      "outputs": [
        {
          "output_type": "stream",
          "name": "stdout",
          "text": [
            "[20, 30, -20, 60]\n",
            "-1\n",
            "[99]\n"
          ]
        }
      ],
      "source": [
        "# write your answer here\n",
        "def Repeat(r):\n",
        "\n",
        "    _size1 = len(r)\n",
        "\n",
        "    repeated = []\n",
        "\n",
        "    for e in range(_size1):\n",
        "\n",
        "        f = e + 1\n",
        "\n",
        "        for g in range(f, _size1):\n",
        "\n",
        "            if r[e] == r[g] and r[e] not in repeated:\n",
        "\n",
        "                repeated.append(r[e])\n",
        "\n",
        "    return -1 if len(repeated) == 0 else repeated\n",
        "\n",
        "# Driver Code\n",
        "\n",
        "list1 = [10, 20, 30, 20, 20, 30, 40, 50, -20, 60, 60, -20, -20] # there are multiple dupicates in this list\n",
        "list2 = [1, 2, 3] # no duplicates so it must return -1\n",
        "list3 = [99, 0, 81, 99, 64] # one duplicate is present\n",
        "\n",
        "print (Repeat(list1))\n",
        "print (Repeat(list2))\n",
        "print (Repeat(list3))"
      ]
    },
    {
      "cell_type": "markdown",
      "metadata": {
        "id": "CRto4LzxsVKN"
      },
      "source": [
        "(10) Write a Python program to select all the Sundays of a specified year. (5 extra points)"
      ]
    },
    {
      "cell_type": "code",
      "execution_count": 17,
      "metadata": {
        "colab": {
          "base_uri": "https://localhost:8080/"
        },
        "id": "H-JXr1mSsVKO",
        "outputId": "9df62c0b-aa3c-4d8e-fd2d-39637135fbfb"
      },
      "outputs": [
        {
          "output_type": "stream",
          "name": "stdout",
          "text": [
            "Enter your desired year:2029\n",
            "2029-01-01\n",
            "2029-01-08\n",
            "2029-01-15\n",
            "2029-01-22\n",
            "2029-01-29\n",
            "2029-02-05\n",
            "2029-02-12\n",
            "2029-02-19\n",
            "2029-02-26\n",
            "2029-03-05\n",
            "2029-03-12\n",
            "2029-03-19\n",
            "2029-03-26\n",
            "2029-04-02\n",
            "2029-04-09\n",
            "2029-04-16\n",
            "2029-04-23\n",
            "2029-04-30\n",
            "2029-05-07\n",
            "2029-05-14\n",
            "2029-05-21\n",
            "2029-05-28\n",
            "2029-06-04\n",
            "2029-06-11\n",
            "2029-06-18\n",
            "2029-06-25\n",
            "2029-07-02\n",
            "2029-07-09\n",
            "2029-07-16\n",
            "2029-07-23\n",
            "2029-07-30\n",
            "2029-08-06\n",
            "2029-08-13\n",
            "2029-08-20\n",
            "2029-08-27\n",
            "2029-09-03\n",
            "2029-09-10\n",
            "2029-09-17\n",
            "2029-09-24\n",
            "2029-10-01\n",
            "2029-10-08\n",
            "2029-10-15\n",
            "2029-10-22\n",
            "2029-10-29\n",
            "2029-11-05\n",
            "2029-11-12\n",
            "2029-11-19\n",
            "2029-11-26\n",
            "2029-12-03\n",
            "2029-12-10\n",
            "2029-12-17\n",
            "2029-12-24\n",
            "2029-12-31\n"
          ]
        }
      ],
      "source": [
        "import datetime\n",
        "desired_year = int(input(\"Enter your desired year:\"))\n",
        "first_day = datetime.date(desired_year, 12, 31).strftime(\"%j\")\n",
        "rb = datetime.date(desired_year, 1, 1)\n",
        "d_difference = datetime.timedelta(days=1)\n",
        "for s in range(1, int(first_day) + 1):\n",
        "  if rb.isoweekday() == 1:\n",
        "    print(rb)\n",
        "  rb += d_difference\n",
        "\n"
      ]
    }
  ],
  "metadata": {
    "colab": {
      "collapsed_sections": [],
      "name": "lab_assignment_01.ipynb",
      "provenance": [],
      "include_colab_link": true
    },
    "kernelspec": {
      "display_name": "Python 3",
      "language": "python",
      "name": "python3"
    },
    "language_info": {
      "codemirror_mode": {
        "name": "ipython",
        "version": 3
      },
      "file_extension": ".py",
      "mimetype": "text/x-python",
      "name": "python",
      "nbconvert_exporter": "python",
      "pygments_lexer": "ipython3",
      "version": "3.8.5"
    }
  },
  "nbformat": 4,
  "nbformat_minor": 0
}