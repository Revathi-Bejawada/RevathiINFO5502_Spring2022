{
  "cells": [
    {
      "cell_type": "markdown",
      "metadata": {
        "id": "view-in-github",
        "colab_type": "text"
      },
      "source": [
        "<a href=\"https://colab.research.google.com/github/Revathi-Bejawada/RevathiINFO5502_Spring2022/blob/main/lab_assignment_09.ipynb\" target=\"_parent\"><img src=\"https://colab.research.google.com/assets/colab-badge.svg\" alt=\"Open In Colab\"/></a>"
      ]
    },
    {
      "cell_type": "markdown",
      "metadata": {
        "id": "dciY4RL03fe6"
      },
      "source": [
        "## The ninth Lab-assignment (04/14/2022, 50 points in total)"
      ]
    },
    {
      "cell_type": "markdown",
      "metadata": {
        "id": "8zJt85fv3fe8"
      },
      "source": [
        "The purpose of this assignment is to practice different Hypothesis Testing."
      ]
    },
    {
      "cell_type": "markdown",
      "metadata": {
        "id": "EpNlAXjl3fe8"
      },
      "source": [
        "### Question 1 (15 points) \n",
        "\n",
        "During the 1980s, the general consensus is that about 5% of the nation’s children had autism. Some claimed that increases certain chemicals in the environment has led to an increase in autism. \n",
        "\n",
        "(1) Write an appropriate hypothesis test for this situation (5 points).  \n",
        "\n",
        "(2) Give an appropriate test for this hypothesis, stating what are the necessary conditions for performing the test (5 points). \n",
        "\n",
        "(3) A recent study examined 384 children and found that 46 showed signs of autism. Perform a test of the hypothesis and state the p-value (5 points). "
      ]
    },
    {
      "cell_type": "code",
      "source": [
        "# You answer here\n",
        "#1 \n",
        "\"\"\"\n",
        "H0 represnts Null Hypothesis It states that the there are about 5% of the nation’s children had autism.\n",
        "HA represnts Alternate Hypothesis It states that the there are more than 5% of the nation’s children don't have autism.\n",
        "P represents the proportion of children who have autism.\n",
        "\n",
        "H0 :P=0.05\n",
        "HA :P>0.05\n",
        "\n",
        "\"\"\"\n"
      ],
      "metadata": {
        "colab": {
          "base_uri": "https://localhost:8080/",
          "height": 71
        },
        "id": "JRPvdKj39M-n",
        "outputId": "90782993-6f84-4448-baee-49108aa35d05"
      },
      "execution_count": 120,
      "outputs": [
        {
          "output_type": "execute_result",
          "data": {
            "text/plain": [
              "\"\\nH0 represnts Null Hypothesis It states that the there are about 5% of the nation’s children had autism.\\nHA represnts Alternate Hypothesis It states that the there are more than 5% of the nation’s children don't have autism.\\nP represents the proportion of children who have autism.\\n\\nH0 :P=0.05\\nHA :P>0.05\\n\\n\""
            ],
            "application/vnd.google.colaboratory.intrinsic+json": {
              "type": "string"
            }
          },
          "metadata": {},
          "execution_count": 120
        }
      ]
    },
    {
      "cell_type": "code",
      "execution_count": 121,
      "metadata": {
        "colab": {
          "base_uri": "https://localhost:8080/"
        },
        "id": "dkCsOVKp3ffE",
        "outputId": "16b631a5-a075-4d36-dee7-7839413fd210"
      },
      "outputs": [
        {
          "output_type": "stream",
          "name": "stdout",
          "text": [
            "Requirement already satisfied: statsmodels in /usr/local/lib/python3.7/dist-packages (0.10.2)\n",
            "Requirement already satisfied: patsy>=0.4.0 in /usr/local/lib/python3.7/dist-packages (from statsmodels) (0.5.2)\n",
            "Requirement already satisfied: numpy>=1.11 in /usr/local/lib/python3.7/dist-packages (from statsmodels) (1.21.6)\n",
            "Requirement already satisfied: pandas>=0.19 in /usr/local/lib/python3.7/dist-packages (from statsmodels) (1.3.5)\n",
            "Requirement already satisfied: scipy>=0.18 in /usr/local/lib/python3.7/dist-packages (from statsmodels) (1.4.1)\n",
            "Requirement already satisfied: pytz>=2017.3 in /usr/local/lib/python3.7/dist-packages (from pandas>=0.19->statsmodels) (2022.1)\n",
            "Requirement already satisfied: python-dateutil>=2.7.3 in /usr/local/lib/python3.7/dist-packages (from pandas>=0.19->statsmodels) (2.8.2)\n",
            "Requirement already satisfied: six in /usr/local/lib/python3.7/dist-packages (from patsy>=0.4.0->statsmodels) (1.15.0)\n"
          ]
        }
      ],
      "source": [
        "# your code here\n",
        "\n",
        "!pip install statsmodels\n"
      ]
    },
    {
      "cell_type": "code",
      "source": [
        "\"\"\"\n",
        "#2\n",
        "To give an appropriate test for this hypothesis, \n",
        "One must choose the test based on sample numbers\n",
        " --> If the sample size is <30 then we will consider t-test  \n",
        " --> If it's >30 then we should consider z-test\n",
        "\n",
        "Here we must choose z-test as our sample size is greater than 30\n",
        "\n",
        "\"\"\""
      ],
      "metadata": {
        "colab": {
          "base_uri": "https://localhost:8080/",
          "height": 53
        },
        "id": "vGQoQ4Rwqb7Z",
        "outputId": "2da358ff-3cbb-4376-bbd4-e2941597654a"
      },
      "execution_count": 122,
      "outputs": [
        {
          "output_type": "execute_result",
          "data": {
            "text/plain": [
              "\"\\n#2\\nTo give an appropriate test for this hypothesis, \\nOne must choose the test based on sample numbers\\n --> If the sample size is <30 then we will consider t-test  \\n --> If it's >30 then we should consider z-test\\n\\nHere we must choose z-test as our sample size is greater than 30\\n\\n\""
            ],
            "application/vnd.google.colaboratory.intrinsic+json": {
              "type": "string"
            }
          },
          "metadata": {},
          "execution_count": 122
        }
      ]
    },
    {
      "cell_type": "code",
      "source": [
        "# your code here\n",
        "from statsmodels.stats.proportion import proportions_ztest\n",
        "p = 0.05\n",
        "n = 384\n",
        "sample_value_of_x = 46\n",
        "\n",
        "#proportions_ztest(count=5, nobs=n, value=0.46)\n",
        "\n",
        "print(\"The value of Z-stat test is\", proportions_ztest(count = 5, nobs = n, value = 0.46)[0])\n",
        "print(\"The value of p is\", proportions_ztest(count = 5, nobs = n, value = 0.46)[1])\n",
        "\n",
        "\n"
      ],
      "metadata": {
        "colab": {
          "base_uri": "https://localhost:8080/"
        },
        "id": "GPHKm24g3zGl",
        "outputId": "9386183b-3e21-4c88-bb3f-edecaf63917d"
      },
      "execution_count": 123,
      "outputs": [
        {
          "output_type": "stream",
          "name": "stdout",
          "text": [
            "The value of Z-stat test is -77.2644132497523\n",
            "The value of p is 0.0\n"
          ]
        }
      ]
    },
    {
      "cell_type": "code",
      "source": [
        "\"\"\"\n",
        "Since the p value is 0.0 which is less than 0.05, null hypothesis will be rejected that means more than 5% of children have autism.\n",
        "\"\"\""
      ],
      "metadata": {
        "colab": {
          "base_uri": "https://localhost:8080/",
          "height": 35
        },
        "id": "_4rLoZTUsgBK",
        "outputId": "79e96939-e270-43cf-96c8-8e78fb91f210"
      },
      "execution_count": 124,
      "outputs": [
        {
          "output_type": "execute_result",
          "data": {
            "text/plain": [
              "'\\nSince the p value is 0.0 which is less than 0.05, null hypothesis will be rejected that means more than 5% of children have autism.\\n'"
            ],
            "application/vnd.google.colaboratory.intrinsic+json": {
              "type": "string"
            }
          },
          "metadata": {},
          "execution_count": 124
        }
      ]
    },
    {
      "cell_type": "markdown",
      "metadata": {
        "id": "_ZcHSVf93ffE"
      },
      "source": [
        "### Question 2 (15 points) \n",
        "\n",
        "National data in the 1960s showed that about 44% of the adult population had never smoked. \n",
        "\n",
        "(1) State a null and alternative hypothesis to test that the fraction of the 1995 population of adults that had never smoked had increased (5 points).  \n",
        "\n",
        "(2) A national random sample of 891 adults were interviewed and 463 stated that they had never smoked. Perform a z-test of the hypothesis and give an approriate p-value (5 points). \n",
        "\n",
        "(3) Create a 98% confidence interval for the proportion of adults who had never been smokers (5 points). "
      ]
    },
    {
      "cell_type": "code",
      "source": [
        "\"\"\"\n",
        "2.1\n",
        "\n",
        "H0 represnts Null Hypothesis, The percentage of inhabitants in adults% of grown-ups in 1995 populace that had never smoked is > 44 %\n",
        "\n",
        "H0 represnts Alternative Hypothesis The percentage of inhabitants in adults% of grown-ups in 1995 populace that had never smoked is <= 44 %\n",
        "\n",
        "\"\"\""
      ],
      "metadata": {
        "colab": {
          "base_uri": "https://localhost:8080/",
          "height": 53
        },
        "id": "4KFSlPtit85L",
        "outputId": "efa4d195-493f-46a9-ecce-4e866492556c"
      },
      "execution_count": 125,
      "outputs": [
        {
          "output_type": "execute_result",
          "data": {
            "text/plain": [
              "'\\n2.1\\n\\nH0 represnts Null Hypothesis, The percentage of inhabitants in adults% of grown-ups in 1995 populace that had never smoked is > 44 %\\n\\nH0 represnts Alternative Hypothesis The percentage of inhabitants in adults% of grown-ups in 1995 populace that had never smoked is <= 44 %\\n\\n'"
            ],
            "application/vnd.google.colaboratory.intrinsic+json": {
              "type": "string"
            }
          },
          "metadata": {},
          "execution_count": 125
        }
      ]
    },
    {
      "cell_type": "code",
      "execution_count": 126,
      "metadata": {
        "colab": {
          "base_uri": "https://localhost:8080/"
        },
        "id": "znO93qBt3ffF",
        "outputId": "710339fb-5691-4c69-b6a3-199ee889a06b"
      },
      "outputs": [
        {
          "output_type": "stream",
          "name": "stdout",
          "text": [
            "The value of Z-stat test is -631.062712892761\n",
            "The value of P is 0.0\n"
          ]
        }
      ],
      "source": [
        "# your code here\n",
        "#2.2\n",
        "\n",
        "#As sample sixe is >30 we will be doing z-test here in\n",
        "  \n",
        "print(\"The value of Z-stat test is\", proportions_ztest(count=44, nobs=891, value=4.63)[0])\n",
        "\n",
        "print(\"The value of P is\", proportions_ztest(count=44, nobs=891, value=4.63)[1])"
      ]
    },
    {
      "cell_type": "code",
      "source": [
        "import scipy.stats as st\n",
        "\n",
        "#As in the question it is asked for the 98% here the alpha value is 0.98\n",
        "\n",
        "print(\"98% confidence interval for the proportion of adults who had never been smokers are\\n\", st.t.interval(alpha=0.98, df=890,\n",
        "              loc=44,\n",
        "              scale=4.63))\n"
      ],
      "metadata": {
        "colab": {
          "base_uri": "https://localhost:8080/"
        },
        "id": "Bf3DES964LJ4",
        "outputId": "0e79c81d-6e02-4f27-e4d0-43f6100ecb20"
      },
      "execution_count": 127,
      "outputs": [
        {
          "output_type": "stream",
          "name": "stdout",
          "text": [
            "98% confidence interval for the proportion of adults who had never been smokers are\n",
            " (33.2095762998281, 54.7904237001719)\n"
          ]
        }
      ]
    },
    {
      "cell_type": "markdown",
      "metadata": {
        "id": "azE8MvCC3ffF"
      },
      "source": [
        "### Question 3 (15 points) \n",
        "In this problem,we will examine the sugar content of several national brands of cereals, here measured as a percentage of weight.\n",
        "\n",
        "\n",
        "(1) Give a summary of these two datasets (5 points). \n",
        "\n",
        "(2) Create side-by-side boxplots and interpret what you see (5 points). \n",
        "\n",
        "(3) Use python to create a 95% confidence interval for the difference in mean sugar content and explain your result (5 points). "
      ]
    },
    {
      "cell_type": "code",
      "execution_count": 128,
      "metadata": {
        "id": "eC8aAL_w3ffG"
      },
      "outputs": [],
      "source": [
        "# your code here\n",
        "import numpy as np\n",
        "import matplotlib.pyplot as plt\n",
        "from scipy import stats as st\n",
        "\n",
        "#sample data\n",
        "\n",
        "children = np.array([40.3, 55.0, 45.7, 43.3, 50.3, 45.9, 53.5, 43.0, 44.2, 44.0, 33.6, 55.1, 48.8, \n",
        "                     50.4, 37.8, 60.3, 46.6, 47.4, 44.0])\n",
        "adults = np.array([20.0, 30.2, 2.2, 7.5, 4.4, 22.2, 16.6, 14.5, 21.4, 3.3, 10.0, 1.0, 4.4, 1.3, 8.1, \n",
        "                  6.6, 7.8, 10.6, 10.6, 16.2, 14.5, 4.1, 15.8, 4.1, 2.4, 3.5, 8.5, 4.7, 18.4])\n",
        "\n",
        "\n"
      ]
    },
    {
      "cell_type": "code",
      "source": [
        "#1 \n",
        "\n",
        "def summary_of_data(input):\n",
        "    mean= np.mean(input)\n",
        "    median = np.median(input)\n",
        "    mode = st.mode(input)[0]\n",
        "    std = np.std(input)\n",
        "    var = np.var(input)\n",
        "\n",
        "    print()\n",
        "    print(f\"Mean value is                : {mean:.4f}\")\n",
        "    print(f\"Median value is              : {median:.4f}\")\n",
        "    print(f\"Mode value is                : {mode}\")\n",
        "    print(f\"Standard Deviation value is  : {std:.4f}\")\n",
        "    print(f\"Variance value is            : {var:.4f}\")\n",
        "\n",
        "print(\"Percentage of sugar perncent in cereal brands for children values are:\")\n",
        "summary_of_data(children)\n",
        "\n",
        "print(\"\\nPercentage of sugar perncent in cereal brands for Adults values are:\")\n",
        "summary_of_data(adults)"
      ],
      "metadata": {
        "colab": {
          "base_uri": "https://localhost:8080/"
        },
        "id": "sLqaLrM1LWnJ",
        "outputId": "230f4a7d-8609-4bc6-f1ef-1746b1d43620"
      },
      "execution_count": 129,
      "outputs": [
        {
          "output_type": "stream",
          "name": "stdout",
          "text": [
            "Percentage of sugar perncent in cereal brands for children values are:\n",
            "\n",
            "Mean value is                : 46.8000\n",
            "Median value is              : 45.9000\n",
            "Mode value is                : [44.]\n",
            "Standard Deviation value is  : 6.2472\n",
            "Variance value is            : 39.0274\n",
            "\n",
            "Percentage of sugar perncent in cereal brands for Adults values are:\n",
            "\n",
            "Mean value is                : 10.1690\n",
            "Median value is              : 8.1000\n",
            "Mode value is                : [4.1]\n",
            "Standard Deviation value is  : 7.3457\n",
            "Variance value is            : 53.9587\n"
          ]
        }
      ]
    },
    {
      "cell_type": "code",
      "source": [
        "\"\"\" \n",
        "From above output we could say that:\n",
        "From the synopsis measurements we can see that the adults have a better quality deviation Contrasted with childern implying that their deviation from the mean is high.\n",
        "Likewise, the mean of the Adults is way more modest than that of the children \n",
        "\n",
        "\"\"\" "
      ],
      "metadata": {
        "colab": {
          "base_uri": "https://localhost:8080/",
          "height": 53
        },
        "id": "pLVJKArFGgBY",
        "outputId": "56c2b817-d94f-4fe8-fae7-d26438ac4faf"
      },
      "execution_count": 130,
      "outputs": [
        {
          "output_type": "execute_result",
          "data": {
            "text/plain": [
              "' \\nFrom above output we could say that:\\nFrom the synopsis measurements we can see that the adults have a better quality deviation Contrasted with childern implying that their deviation from the mean is high.\\nLikewise, the mean of the Adults is way more modest than that of the children \\n\\n'"
            ],
            "application/vnd.google.colaboratory.intrinsic+json": {
              "type": "string"
            }
          },
          "metadata": {},
          "execution_count": 130
        }
      ]
    },
    {
      "cell_type": "code",
      "source": [
        "## 2.2\n",
        "\n",
        "plt.figure(figsize = (12, 10))\n",
        "#creating the plot\n",
        "plt.boxplot([children, adults], positions = [2, 1], labels = ['Children', 'Adults'], widths=0.5)\n",
        "#showing the plot\n",
        "plt.show()\n",
        "plt.title(\"side-by-side boxplots\")\n",
        "\n"
      ],
      "metadata": {
        "colab": {
          "base_uri": "https://localhost:8080/",
          "height": 680
        },
        "id": "kUKyRS7h5w4v",
        "outputId": "eddaeb45-d5da-4764-f63d-0ef624546e71"
      },
      "execution_count": 174,
      "outputs": [
        {
          "output_type": "stream",
          "name": "stderr",
          "text": [
            "/usr/local/lib/python3.7/dist-packages/matplotlib/cbook/__init__.py:1376: VisibleDeprecationWarning: Creating an ndarray from ragged nested sequences (which is a list-or-tuple of lists-or-tuples-or ndarrays with different lengths or shapes) is deprecated. If you meant to do this, you must specify 'dtype=object' when creating the ndarray.\n",
            "  X = np.atleast_1d(X.T if isinstance(X, np.ndarray) else np.asarray(X))\n"
          ]
        },
        {
          "output_type": "execute_result",
          "data": {
            "text/plain": [
              "Text(0.5, 1.0, 'side-by-side boxplots')"
            ]
          },
          "metadata": {},
          "execution_count": 174
        },
        {
          "output_type": "display_data",
          "data": {
            "text/plain": [
              "<Figure size 864x720 with 1 Axes>"
            ],
            "image/png": "[encoded data removed]"
          },
          "metadata": {
            "needs_background": "light"
          }
        }
      ]
    },
    {
      "cell_type": "code",
      "source": [
        "\"\"\"\n",
        "\n",
        "From above output we could say that:\n",
        "\n",
        "We can see the adults box plot is longer than the childrens' one. \n",
        "This could suggest that there is a high distinction in sugar content in adults when compared with Children\n",
        "\n",
        "\"\"\""
      ],
      "metadata": {
        "colab": {
          "base_uri": "https://localhost:8080/",
          "height": 53
        },
        "id": "shdkyl5yHELC",
        "outputId": "12947f57-7a35-4afc-81c2-39d02adf934c"
      },
      "execution_count": 132,
      "outputs": [
        {
          "output_type": "execute_result",
          "data": {
            "text/plain": [
              "\"\\n\\nFrom above output we could say that:\\n\\nWe can see the adults box plot is longer than the childrens' one. \\nThis could suggest that there is a high distinction in sugar content in adults when compared with Children\\n\\n\""
            ],
            "application/vnd.google.colaboratory.intrinsic+json": {
              "type": "string"
            }
          },
          "metadata": {},
          "execution_count": 132
        }
      ]
    },
    {
      "cell_type": "code",
      "source": [
        "## 2.3 python to create a 95% confidence interval for the difference in mean sugar content and explain your result\n",
        "\n",
        "#When samples are less than 30 we choose t test so I have choosen t test instead of norm interval\n",
        "\n",
        "print(\"Interval of 95% Confidence \")\n",
        "#creating the 95% confidence interval for children\n",
        "print(\"95% confidence interval in mean sugar content for children:\", st.t.interval(alpha=0.95, df = len(children)-1, loc = np.mean(children), scale = st.sem(children)))\n",
        "\n",
        "\n",
        "#creating the 95% confidence interval for adults\n",
        "print(\"95% confidence interval in mean sugar content for Adults:\", st.t.interval(alpha=0.95, df = len(adults)-1, loc = np.mean(adults), scale = st.sem(adults)))"
      ],
      "metadata": {
        "colab": {
          "base_uri": "https://localhost:8080/"
        },
        "id": "DLtM9p9RYIDT",
        "outputId": "f373192e-cc73-4b29-fdca-ad33fe10bf25"
      },
      "execution_count": 141,
      "outputs": [
        {
          "output_type": "stream",
          "name": "stdout",
          "text": [
            "Interval of 95% Confidence \n",
            "95% confidence interval in mean sugar content for children: (43.706441602172454, 49.893558397827555)\n",
            "95% confidence interval in mean sugar content for Adults: (7.32536900717368, 13.012562027309077)\n"
          ]
        }
      ]
    },
    {
      "cell_type": "code",
      "source": [
        "\"\"\"\n",
        "From above output we could say that:\n",
        "it is 95% certain that:\n",
        "1) The mean sugar content for Kids is somewhere in the range of 43.7 and 49.89\n",
        "2) The mean sugar content for grown-ups is between 7.32 and 13.01 \n",
        "\"\"\""
      ],
      "metadata": {
        "colab": {
          "base_uri": "https://localhost:8080/",
          "height": 53
        },
        "id": "5Pz0VO7GHbo3",
        "outputId": "32f5f15e-917c-47b9-9528-cc88d0ef0103"
      },
      "execution_count": 142,
      "outputs": [
        {
          "output_type": "execute_result",
          "data": {
            "text/plain": [
              "'\\nFrom above output we could say that:\\nit is 95% certain that:\\n1) The mean sugar content for Kids is somewhere in the range of 43.7 and 49.89\\n2) The mean sugar content for grown-ups is between 7.32 and 13.01 \\n'"
            ],
            "application/vnd.google.colaboratory.intrinsic+json": {
              "type": "string"
            }
          },
          "metadata": {},
          "execution_count": 142
        }
      ]
    },
    {
      "cell_type": "markdown",
      "metadata": {
        "id": "Or7fzCuN3ffG"
      },
      "source": [
        "### Question 4 (15 points, with 10 extra point included) A/B Testing"
      ]
    },
    {
      "cell_type": "markdown",
      "metadata": {
        "id": "a4PBwmty3ffG"
      },
      "source": [
        "Punishment for crime has many [philosophical justifications](http://plato.stanford.edu/entries/punishment/#ThePun).  An important one is that fear of punishment may *deter* people from committing crimes.\n",
        "\n",
        "In the United States, some jurisdictions execute people who are convicted of particularly serious crimes, such as murder.  This punishment is called the *death penalty* or *capital punishment*.  The death penalty is controversial, and deterrence has been one focal point of the debate.  There are other reasons to support or oppose the death penalty, but in this project we'll focus on deterrence.\n",
        "\n",
        "The key question about deterrence is:\n",
        "\n",
        "> Through our exploration, does instituting a death penalty for murder actually reduce the number of murders?\n",
        "\n",
        "You might have a strong intuition in one direction, but the evidence turns out to be surprisingly complex.  Different sides have variously argued that the death penalty has no deterrent effect and that each execution prevents 8 murders, all using statistical arguments!  We'll try to come to our own conclusion.\n",
        "\n",
        "#### The data\n",
        "\n",
        "The main data source for this lab comes from a [paper](http://cjlf.org/deathpenalty/DezRubShepDeterFinal.pdf) by three researchers, Dezhbakhsh, Rubin, and Shepherd.  The dataset contains rates of various violent crimes for every year 1960-2003 (44 years) in every US state.  The researchers compiled the data from the FBI's Uniform Crime Reports.\n",
        "\n",
        "Since crimes are committed by people, not states, we need to account for the number of people in each state when we're looking at state-level data.  Murder rates are calculated as follows:\n",
        "\n",
        "$$\\text{murder rate for state X in year Y} = \\frac{\\text{number of murders in state X in year Y}}{\\text{population in state X in year Y}}*100000$$\n",
        "\n",
        "(Murder is rare, so we multiply by 100,000 just to avoid dealing with tiny numbers.)\n",
        "\n",
        "Murder rates vary over time, and different states exhibit different trends. The rates in some states change dramatically from year to year, while others are quite stable. Let's plot a couple, just to see the variety.\n",
        "\n",
        "*Hint*: To create two lines, you will need create the table `ak_mn` with two columns of murder rates, in addition to a column of years. This table will have the following structure:\n",
        "\n",
        "| Year | Murder rate in Alaska | Murder rate in Minnesota |\n",
        "|------|-----------------------|--------------------------|\n",
        "| 1960 | 10.2                  | 1.2                      |\n",
        "| 1961 | 11.5                  | 1                        |\n",
        "| 1962 | 4.5                   | 0.9                      |\n",
        "\n",
        "<center>... (41 rows omitted)</center>\n",
        "\n",
        "Some US states have the death penalty, and others don't, and laws have changed over time. In addition to changes in murder rates, we will also consider whether the death penalty was in force in each state and each year.\n",
        "\n",
        "Using this information, we would like to investigate how the presence of the death penalty affects the murder rate of a state."
      ]
    },
    {
      "cell_type": "markdown",
      "metadata": {
        "id": "ujW4DSFa3ffH"
      },
      "source": [
        "(1) Use preban_rates_copy and postban_rates to create a table change_in_death_rates that contains each state's population, murder rate, and whether or not that state had the death penalty for both 1971 and 1973. (5 points)\n",
        "\n",
        "Create a table rate_means that contains the average murder rates for the states that had the death penalty and the states that didn't have the death penalty. It should have two columns: one indicating if the penalty was in place, and one that contains the average murder rate for each group.\n",
        "\n",
        "Hint: tbl_1.append(tbl_2) with create a new table that includes rows from both tbl_1 and tbl_2. Both tables must have the exactly the same columns, in the same order.\n",
        "\n",
        "(2) We want to figure out if there is a difference between the distribution of death rates in 1971 and 1973. Specifically, we want to test if murder rates were higher in 1973 than they were in 1971. You are required to conduct A/B Testing below (10 points):\n",
        "\n",
        "(2-1) Set observed_difference to the observed test statistic using the rate_means table. \n",
        "\n",
        "\n",
        "(2-2) Given a table like change_in_death_rates, a value column label, and a group column group_label, write a function that calculates the appropriate test statistic.\n",
        "\n",
        "(2-3) Write a function simulate_and_test_statistic to compute one trial of our A/B test. Your function should run a simulation and return a test statistic.\n",
        "\n",
        "(2-4) Simulate 5000 trials of our A/B test and store the test statistics in an array called differences.\n",
        "\n",
        "(2-5) Find the p-value for your test and assign it to empirical_P.\n",
        "\n",
        "(2-6) Using a 5% P-value cutoff, draw a conclusion about the null and alternative hypotheses. Describe your findings using simple, non-technical language. What does your analysis tell you about murder rates after the death penalty was suspended? What can you claim about causation from your statistical analysis?\n"
      ]
    },
    {
      "cell_type": "code",
      "source": [
        "from google.colab import drive \n",
        "drive.mount('/content/gdrive')"
      ],
      "metadata": {
        "colab": {
          "base_uri": "https://localhost:8080/"
        },
        "id": "J1jZEnsE4rWw",
        "outputId": "b3c616e9-38a3-47ee-d2d0-2f983a9bb5b3"
      },
      "execution_count": 90,
      "outputs": [
        {
          "output_type": "stream",
          "name": "stdout",
          "text": [
            "Drive already mounted at /content/gdrive; to attempt to forcibly remount, call drive.mount(\"/content/gdrive\", force_remount=True).\n"
          ]
        }
      ]
    },
    {
      "cell_type": "code",
      "execution_count": 158,
      "metadata": {
        "colab": {
          "base_uri": "https://localhost:8080/",
          "height": 392
        },
        "id": "9wmfGO1w3ffI",
        "outputId": "80f0c3e3-1300-4f39-9a23-a9f047edfa6c"
      },
      "outputs": [
        {
          "output_type": "execute_result",
          "data": {
            "text/plain": [
              "Year | State  | Population | Murder Rate\n",
              "1960 | Alaska | 226,167    | 10.2\n",
              "1961 | Alaska | 234,000    | 11.5\n",
              "1962 | Alaska | 246,000    | 4.5\n",
              "1963 | Alaska | 248,000    | 6.5\n",
              "1964 | Alaska | 250,000    | 10.4\n",
              "1965 | Alaska | 253,000    | 6.3\n",
              "1966 | Alaska | 272,000    | 12.9\n",
              "1967 | Alaska | 272,000    | 9.6\n",
              "1968 | Alaska | 277,000    | 10.5\n",
              "1969 | Alaska | 282,000    | 10.6\n",
              "... (2190 rows omitted)"
            ],
            "text/html": [
              "<table border=\"1\" class=\"dataframe\">\n",
              "    <thead>\n",
              "        <tr>\n",
              "            <th>Year</th> <th>State</th> <th>Population</th> <th>Murder Rate</th>\n",
              "        </tr>\n",
              "    </thead>\n",
              "    <tbody>\n",
              "        <tr>\n",
              "            <td>1960</td> <td>Alaska</td> <td>226,167   </td> <td>10.2       </td>\n",
              "        </tr>\n",
              "        <tr>\n",
              "            <td>1961</td> <td>Alaska</td> <td>234,000   </td> <td>11.5       </td>\n",
              "        </tr>\n",
              "        <tr>\n",
              "            <td>1962</td> <td>Alaska</td> <td>246,000   </td> <td>4.5        </td>\n",
              "        </tr>\n",
              "        <tr>\n",
              "            <td>1963</td> <td>Alaska</td> <td>248,000   </td> <td>6.5        </td>\n",
              "        </tr>\n",
              "        <tr>\n",
              "            <td>1964</td> <td>Alaska</td> <td>250,000   </td> <td>10.4       </td>\n",
              "        </tr>\n",
              "        <tr>\n",
              "            <td>1965</td> <td>Alaska</td> <td>253,000   </td> <td>6.3        </td>\n",
              "        </tr>\n",
              "        <tr>\n",
              "            <td>1966</td> <td>Alaska</td> <td>272,000   </td> <td>12.9       </td>\n",
              "        </tr>\n",
              "        <tr>\n",
              "            <td>1967</td> <td>Alaska</td> <td>272,000   </td> <td>9.6        </td>\n",
              "        </tr>\n",
              "        <tr>\n",
              "            <td>1968</td> <td>Alaska</td> <td>277,000   </td> <td>10.5       </td>\n",
              "        </tr>\n",
              "        <tr>\n",
              "            <td>1969</td> <td>Alaska</td> <td>282,000   </td> <td>10.6       </td>\n",
              "        </tr>\n",
              "    </tbody>\n",
              "</table>\n",
              "<p>... (2190 rows omitted)</p>"
            ]
          },
          "metadata": {},
          "execution_count": 158
        }
      ],
      "source": [
        "# You code here\n",
        "\n",
        "#import all the required modules packages\n",
        "import numpy as np\n",
        "from datascience import *\n",
        "import matplotlib\n",
        "import matplotlib.pyplot as plt\n",
        "\n",
        "input = make_array(5, 1, 3, 2, 4, 6)\n",
        "s = Table.read_table(\"/content/gdrive/My Drive/crime_rates.csv\").select('Year', 'State', 'Population', 'Murder Rate')\n",
        "g = s.set_format(\"Population\", NumberFormatter)\n",
        "g\n",
        "\n"
      ]
    },
    {
      "cell_type": "code",
      "source": [
        "#finding the Murder rate in Alaska state\n",
        "r = s.where('State', 'Alaska').drop('State', 'Population').relabeled(1, 'Murder rate in Alaska')\n",
        "\n",
        "#finding the Murder rate in Minnesota state\n",
        "u = s.where('State', 'Minnesota').drop('State', 'Population').relabeled(1, 'Murder rate in Minnesota')\n",
        "\n",
        "#to get the year\n",
        "r_u = r.join(\"Year\", u)\n",
        "#print the values\n",
        "r_u"
      ],
      "metadata": {
        "colab": {
          "base_uri": "https://localhost:8080/",
          "height": 392
        },
        "id": "C13d8tMS4_KS",
        "outputId": "1c1c0ffa-a2d0-4647-ecb4-e3c6082090c3"
      },
      "execution_count": 144,
      "outputs": [
        {
          "output_type": "execute_result",
          "data": {
            "text/plain": [
              "Year | Murder rate in Alaska | Murder rate in Minnesota\n",
              "1960 | 10.2                  | 1.2\n",
              "1961 | 11.5                  | 1\n",
              "1962 | 4.5                   | 0.9\n",
              "1963 | 6.5                   | 1.2\n",
              "1964 | 10.4                  | 1.4\n",
              "1965 | 6.3                   | 1.4\n",
              "1966 | 12.9                  | 2.2\n",
              "1967 | 9.6                   | 1.6\n",
              "1968 | 10.5                  | 2.2\n",
              "1969 | 10.6                  | 1.9\n",
              "... (34 rows omitted)"
            ],
            "text/html": [
              "<table border=\"1\" class=\"dataframe\">\n",
              "    <thead>\n",
              "        <tr>\n",
              "            <th>Year</th> <th>Murder rate in Alaska</th> <th>Murder rate in Minnesota</th>\n",
              "        </tr>\n",
              "    </thead>\n",
              "    <tbody>\n",
              "        <tr>\n",
              "            <td>1960</td> <td>10.2                 </td> <td>1.2                     </td>\n",
              "        </tr>\n",
              "        <tr>\n",
              "            <td>1961</td> <td>11.5                 </td> <td>1                       </td>\n",
              "        </tr>\n",
              "        <tr>\n",
              "            <td>1962</td> <td>4.5                  </td> <td>0.9                     </td>\n",
              "        </tr>\n",
              "        <tr>\n",
              "            <td>1963</td> <td>6.5                  </td> <td>1.2                     </td>\n",
              "        </tr>\n",
              "        <tr>\n",
              "            <td>1964</td> <td>10.4                 </td> <td>1.4                     </td>\n",
              "        </tr>\n",
              "        <tr>\n",
              "            <td>1965</td> <td>6.3                  </td> <td>1.4                     </td>\n",
              "        </tr>\n",
              "        <tr>\n",
              "            <td>1966</td> <td>12.9                 </td> <td>2.2                     </td>\n",
              "        </tr>\n",
              "        <tr>\n",
              "            <td>1967</td> <td>9.6                  </td> <td>1.6                     </td>\n",
              "        </tr>\n",
              "        <tr>\n",
              "            <td>1968</td> <td>10.5                 </td> <td>2.2                     </td>\n",
              "        </tr>\n",
              "        <tr>\n",
              "            <td>1969</td> <td>10.6                 </td> <td>1.9                     </td>\n",
              "        </tr>\n",
              "    </tbody>\n",
              "</table>\n",
              "<p>... (34 rows omitted)</p>"
            ]
          },
          "metadata": {},
          "execution_count": 144
        }
      ]
    },
    {
      "cell_type": "code",
      "source": [
        "#import required packages\n",
        "from ipywidgets import interact, interactive, fixed, interact_manual\n",
        "import ipywidgets as widgets\n",
        "\n",
        "#let's first get the required states\n",
        "def state(first_state, second_state):\n",
        "    first_state_table = s.where('State', first_state).drop('State', 'Population').relabeled(1, 'Murder rate in {}'.format(first_state))\n",
        "    second_state_table = s.where('State', second_state).drop('State', 'Population').relabeled(1, 'Murder rate in {}'.format(second_state))\n",
        "    r = first_state_table.join('Year', second_state_table)\n",
        "    r.plot('Year')\n",
        "\n",
        "    plt.xlabel('Year',fontsize=12)\n",
        "    plt.ylabel('Murder Rate',fontsize=12)\n",
        "  \n",
        "    plt.grid()\n",
        "    plt.show()\n",
        "        \n",
        "\n",
        "#showing all the states in dropdown\n",
        "states_array = s.group('State').column('State')\n",
        "_ = interact(state,\n",
        "             first_state = widgets.Dropdown(options=list(states_array),value='Alaska'),\n",
        "             second_state = widgets.Dropdown(options=list(states_array),value='Minnesota')\n",
        ")"
      ],
      "metadata": {
        "colab": {
          "base_uri": "https://localhost:8080/",
          "height": 346,
          "referenced_widgets": [
            "a7f86d3bbf4d43c7861d84fc22f788cb",
            "8202bb1052764dd980ead06d33cb866c",
            "b960fd73eb334a5eb31b47f351a4d2df",
            "fece856476904ff58eea0eb9e5cf9cd0",
            "60e104089ad744b286667af0c35dcad0",
            "0c1db077caac4f579827fab05274aa1f",
            "d4ec2350425745939b1c8156007e882d",
            "04406245c46b465b99cf2f1c07501410",
            "b994f5f5a83e4554be52b2fd1dd194e5",
            "12312e2fe7f842bfb8d9a6ca5774f514"
          ]
        },
        "id": "Mh2kG17N6iiy",
        "outputId": "8e03de3e-45d6-43c9-b22e-faf601493fbf"
      },
      "execution_count": 175,
      "outputs": [
        {
          "output_type": "display_data",
          "data": {
            "text/plain": [
              "interactive(children=(Dropdown(description='first_state', index=1, options=('Alabama', 'Alaska', 'Arizona', 'A…"
            ],
            "application/vnd.jupyter.widget-view+json": {
              "version_major": 2,
              "version_minor": 0,
              "model_id": "a7f86d3bbf4d43c7861d84fc22f788cb"
            }
          },
          "metadata": {}
        },
        {
          "output_type": "display_data",
          "data": {
            "text/plain": [
              "<Figure size 432x288 with 1 Axes>"
            ],
            "image/png": "[encoded data removed]"
          },
          "metadata": {
            "needs_background": "light"
          }
        }
      ]
    },
    {
      "cell_type": "code",
      "source": [
        "def a(state):\n",
        "  if state in b:\n",
        "    return False\n",
        "  else:\n",
        "    return True\n",
        "b = ['Alaska','Michigan','Minnesota','Hawaii']\n",
        "states = g.group('State').select('State')\n",
        "c = states.with_column('hadDeathPenalty', states.apply(a, 0))\n",
        "c"
      ],
      "metadata": {
        "colab": {
          "base_uri": "https://localhost:8080/",
          "height": 392
        },
        "id": "4y3DgLmz5NY7",
        "outputId": "021f0098-2da7-4b3d-d75b-0074d89c2fed"
      },
      "execution_count": 163,
      "outputs": [
        {
          "output_type": "execute_result",
          "data": {
            "text/plain": [
              "State       | hadDeathPenalty\n",
              "Alabama     | True\n",
              "Alaska      | False\n",
              "Arizona     | True\n",
              "Arkansas    | True\n",
              "California  | True\n",
              "Colorado    | True\n",
              "Connecticut | True\n",
              "Delaware    | True\n",
              "Florida     | True\n",
              "Georgia     | True\n",
              "... (40 rows omitted)"
            ],
            "text/html": [
              "<table border=\"1\" class=\"dataframe\">\n",
              "    <thead>\n",
              "        <tr>\n",
              "            <th>State</th> <th>hadDeathPenalty</th>\n",
              "        </tr>\n",
              "    </thead>\n",
              "    <tbody>\n",
              "        <tr>\n",
              "            <td>Alabama    </td> <td>True           </td>\n",
              "        </tr>\n",
              "        <tr>\n",
              "            <td>Alaska     </td> <td>False          </td>\n",
              "        </tr>\n",
              "        <tr>\n",
              "            <td>Arizona    </td> <td>True           </td>\n",
              "        </tr>\n",
              "        <tr>\n",
              "            <td>Arkansas   </td> <td>True           </td>\n",
              "        </tr>\n",
              "        <tr>\n",
              "            <td>California </td> <td>True           </td>\n",
              "        </tr>\n",
              "        <tr>\n",
              "            <td>Colorado   </td> <td>True           </td>\n",
              "        </tr>\n",
              "        <tr>\n",
              "            <td>Connecticut</td> <td>True           </td>\n",
              "        </tr>\n",
              "        <tr>\n",
              "            <td>Delaware   </td> <td>True           </td>\n",
              "        </tr>\n",
              "        <tr>\n",
              "            <td>Florida    </td> <td>True           </td>\n",
              "        </tr>\n",
              "        <tr>\n",
              "            <td>Georgia    </td> <td>True           </td>\n",
              "        </tr>\n",
              "    </tbody>\n",
              "</table>\n",
              "<p>... (40 rows omitted)</p>"
            ]
          },
          "metadata": {},
          "execution_count": 163
        }
      ]
    }
  ],
  "metadata": {
    "kernelspec": {
      "display_name": "Python 3",
      "language": "python",
      "name": "python3"
    },
    "language_info": {
      "codemirror_mode": {
        "name": "ipython",
        "version": 3
      },
      "file_extension": ".py",
      "mimetype": "text/x-python",
      "name": "python",
      "nbconvert_exporter": "python",
      "pygments_lexer": "ipython3",
      "version": "3.8.5"
    },
    "colab": {
      "name": "lab_assignment_09.ipynb",
      "provenance": [],
      "collapsed_sections": [],
      "include_colab_link": true
    },
    "widgets": {
      "application/vnd.jupyter.widget-state+json": {
        "a7f86d3bbf4d43c7861d84fc22f788cb": {
          "model_module": "@jupyter-widgets/controls",
          "model_name": "VBoxModel",
          "model_module_version": "1.5.0",
          "state": {
            "_dom_classes": [
              "widget-interact"
            ],
            "_model_module": "@jupyter-widgets/controls",
            "_model_module_version": "1.5.0",
            "_model_name": "VBoxModel",
            "_view_count": null,
            "_view_module": "@jupyter-widgets/controls",
            "_view_module_version": "1.5.0",
            "_view_name": "VBoxView",
            "box_style": "",
            "children": [
              "IPY_MODEL_8202bb1052764dd980ead06d33cb866c",
              "IPY_MODEL_b960fd73eb334a5eb31b47f351a4d2df",
              "IPY_MODEL_fece856476904ff58eea0eb9e5cf9cd0"
            ],
            "layout": "IPY_MODEL_60e104089ad744b286667af0c35dcad0"
          }
        },
        "8202bb1052764dd980ead06d33cb866c": {
          "model_module": "@jupyter-widgets/controls",
          "model_name": "DropdownModel",
          "model_module_version": "1.5.0",
          "state": {
            "_dom_classes": [],
            "_model_module": "@jupyter-widgets/controls",
            "_model_module_version": "1.5.0",
            "_model_name": "DropdownModel",
            "_options_labels": [
              "Alabama",
              "Alaska",
              "Arizona",
              "Arkansas",
              "California",
              "Colorado",
              "Connecticut",
              "Delaware",
              "Florida",
              "Georgia",
              "Hawaii",
              "Idaho",
              "Illinois",
              "Indiana",
              "Iowa",
              "Kansas",
              "Kentucky",
              "Louisiana",
              "Maine",
              "Maryland",
              "Massachuse",
              "Michigan",
              "Minnesota",
              "Mississippi",
              "Missouri",
              "Montana",
              "Nebraska",
              "Nevada",
              "New Hampshire",
              "New Jersey",
              "New Mexico",
              "New York",
              "North Carolina",
              "North Dakota",
              "Ohio",
              "Oklahoma",
              "Oregon",
              "Pennsylvania",
              "Rhode Isla",
              "South Carolina",
              "South Dakota",
              "Tennessee",
              "Texas",
              "Utah",
              "Vermont",
              "Virginia",
              "Washington",
              "West Virginia",
              "Wisconsin",
              "Wyoming"
            ],
            "_view_count": null,
            "_view_module": "@jupyter-widgets/controls",
            "_view_module_version": "1.5.0",
            "_view_name": "DropdownView",
            "description": "first_state",
            "description_tooltip": null,
            "disabled": false,
            "index": 1,
            "layout": "IPY_MODEL_0c1db077caac4f579827fab05274aa1f",
            "style": "IPY_MODEL_d4ec2350425745939b1c8156007e882d"
          }
        },
        "b960fd73eb334a5eb31b47f351a4d2df": {
          "model_module": "@jupyter-widgets/controls",
          "model_name": "DropdownModel",
          "model_module_version": "1.5.0",
          "state": {
            "_dom_classes": [],
            "_model_module": "@jupyter-widgets/controls",
            "_model_module_version": "1.5.0",
            "_model_name": "DropdownModel",
            "_options_labels": [
              "Alabama",
              "Alaska",
              "Arizona",
              "Arkansas",
              "California",
              "Colorado",
              "Connecticut",
              "Delaware",
              "Florida",
              "Georgia",
              "Hawaii",
              "Idaho",
              "Illinois",
              "Indiana",
              "Iowa",
              "Kansas",
              "Kentucky",
              "Louisiana",
              "Maine",
              "Maryland",
              "Massachuse",
              "Michigan",
              "Minnesota",
              "Mississippi",
              "Missouri",
              "Montana",
              "Nebraska",
              "Nevada",
              "New Hampshire",
              "New Jersey",
              "New Mexico",
              "New York",
              "North Carolina",
              "North Dakota",
              "Ohio",
              "Oklahoma",
              "Oregon",
              "Pennsylvania",
              "Rhode Isla",
              "South Carolina",
              "South Dakota",
              "Tennessee",
              "Texas",
              "Utah",
              "Vermont",
              "Virginia",
              "Washington",
              "West Virginia",
              "Wisconsin",
              "Wyoming"
            ],
            "_view_count": null,
            "_view_module": "@jupyter-widgets/controls",
            "_view_module_version": "1.5.0",
            "_view_name": "DropdownView",
            "description": "second_state",
            "description_tooltip": null,
            "disabled": false,
            "index": 22,
            "layout": "IPY_MODEL_04406245c46b465b99cf2f1c07501410",
            "style": "IPY_MODEL_b994f5f5a83e4554be52b2fd1dd194e5"
          }
        },
        "fece856476904ff58eea0eb9e5cf9cd0": {
          "model_module": "@jupyter-widgets/output",
          "model_name": "OutputModel",
          "model_module_version": "1.0.0",
          "state": {
            "_dom_classes": [],
            "_model_module": "@jupyter-widgets/output",
            "_model_module_version": "1.0.0",
            "_model_name": "OutputModel",
            "_view_count": null,
            "_view_module": "@jupyter-widgets/output",
            "_view_module_version": "1.0.0",
            "_view_name": "OutputView",
            "layout": "IPY_MODEL_12312e2fe7f842bfb8d9a6ca5774f514",
            "msg_id": "",
            "outputs": []
          }
        },
        "60e104089ad744b286667af0c35dcad0": {
          "model_module": "@jupyter-widgets/base",
          "model_name": "LayoutModel",
          "model_module_version": "1.2.0",
          "state": {
            "_model_module": "@jupyter-widgets/base",
            "_model_module_version": "1.2.0",
            "_model_name": "LayoutModel",
            "_view_count": null,
            "_view_module": "@jupyter-widgets/base",
            "_view_module_version": "1.2.0",
            "_view_name": "LayoutView",
            "align_content": null,
            "align_items": null,
            "align_self": null,
            "border": null,
            "bottom": null,
            "display": null,
            "flex": null,
            "flex_flow": null,
            "grid_area": null,
            "grid_auto_columns": null,
            "grid_auto_flow": null,
            "grid_auto_rows": null,
            "grid_column": null,
            "grid_gap": null,
            "grid_row": null,
            "grid_template_areas": null,
            "grid_template_columns": null,
            "grid_template_rows": null,
            "height": null,
            "justify_content": null,
            "justify_items": null,
            "left": null,
            "margin": null,
            "max_height": null,
            "max_width": null,
            "min_height": null,
            "min_width": null,
            "object_fit": null,
            "object_position": null,
            "order": null,
            "overflow": null,
            "overflow_x": null,
            "overflow_y": null,
            "padding": null,
            "right": null,
            "top": null,
            "visibility": null,
            "width": null
          }
        },
        "0c1db077caac4f579827fab05274aa1f": {
          "model_module": "@jupyter-widgets/base",
          "model_name": "LayoutModel",
          "model_module_version": "1.2.0",
          "state": {
            "_model_module": "@jupyter-widgets/base",
            "_model_module_version": "1.2.0",
            "_model_name": "LayoutModel",
            "_view_count": null,
            "_view_module": "@jupyter-widgets/base",
            "_view_module_version": "1.2.0",
            "_view_name": "LayoutView",
            "align_content": null,
            "align_items": null,
            "align_self": null,
            "border": null,
            "bottom": null,
            "display": null,
            "flex": null,
            "flex_flow": null,
            "grid_area": null,
            "grid_auto_columns": null,
            "grid_auto_flow": null,
            "grid_auto_rows": null,
            "grid_column": null,
            "grid_gap": null,
            "grid_row": null,
            "grid_template_areas": null,
            "grid_template_columns": null,
            "grid_template_rows": null,
            "height": null,
            "justify_content": null,
            "justify_items": null,
            "left": null,
            "margin": null,
            "max_height": null,
            "max_width": null,
            "min_height": null,
            "min_width": null,
            "object_fit": null,
            "object_position": null,
            "order": null,
            "overflow": null,
            "overflow_x": null,
            "overflow_y": null,
            "padding": null,
            "right": null,
            "top": null,
            "visibility": null,
            "width": null
          }
        },
        "d4ec2350425745939b1c8156007e882d": {
          "model_module": "@jupyter-widgets/controls",
          "model_name": "DescriptionStyleModel",
          "model_module_version": "1.5.0",
          "state": {
            "_model_module": "@jupyter-widgets/controls",
            "_model_module_version": "1.5.0",
            "_model_name": "DescriptionStyleModel",
            "_view_count": null,
            "_view_module": "@jupyter-widgets/base",
            "_view_module_version": "1.2.0",
            "_view_name": "StyleView",
            "description_width": ""
          }
        },
        "04406245c46b465b99cf2f1c07501410": {
          "model_module": "@jupyter-widgets/base",
          "model_name": "LayoutModel",
          "model_module_version": "1.2.0",
          "state": {
            "_model_module": "@jupyter-widgets/base",
            "_model_module_version": "1.2.0",
            "_model_name": "LayoutModel",
            "_view_count": null,
            "_view_module": "@jupyter-widgets/base",
            "_view_module_version": "1.2.0",
            "_view_name": "LayoutView",
            "align_content": null,
            "align_items": null,
            "align_self": null,
            "border": null,
            "bottom": null,
            "display": null,
            "flex": null,
            "flex_flow": null,
            "grid_area": null,
            "grid_auto_columns": null,
            "grid_auto_flow": null,
            "grid_auto_rows": null,
            "grid_column": null,
            "grid_gap": null,
            "grid_row": null,
            "grid_template_areas": null,
            "grid_template_columns": null,
            "grid_template_rows": null,
            "height": null,
            "justify_content": null,
            "justify_items": null,
            "left": null,
            "margin": null,
            "max_height": null,
            "max_width": null,
            "min_height": null,
            "min_width": null,
            "object_fit": null,
            "object_position": null,
            "order": null,
            "overflow": null,
            "overflow_x": null,
            "overflow_y": null,
            "padding": null,
            "right": null,
            "top": null,
            "visibility": null,
            "width": null
          }
        },
        "b994f5f5a83e4554be52b2fd1dd194e5": {
          "model_module": "@jupyter-widgets/controls",
          "model_name": "DescriptionStyleModel",
          "model_module_version": "1.5.0",
          "state": {
            "_model_module": "@jupyter-widgets/controls",
            "_model_module_version": "1.5.0",
            "_model_name": "DescriptionStyleModel",
            "_view_count": null,
            "_view_module": "@jupyter-widgets/base",
            "_view_module_version": "1.2.0",
            "_view_name": "StyleView",
            "description_width": ""
          }
        },
        "12312e2fe7f842bfb8d9a6ca5774f514": {
          "model_module": "@jupyter-widgets/base",
          "model_name": "LayoutModel",
          "model_module_version": "1.2.0",
          "state": {
            "_model_module": "@jupyter-widgets/base",
            "_model_module_version": "1.2.0",
            "_model_name": "LayoutModel",
            "_view_count": null,
            "_view_module": "@jupyter-widgets/base",
            "_view_module_version": "1.2.0",
            "_view_name": "LayoutView",
            "align_content": null,
            "align_items": null,
            "align_self": null,
            "border": null,
            "bottom": null,
            "display": null,
            "flex": null,
            "flex_flow": null,
            "grid_area": null,
            "grid_auto_columns": null,
            "grid_auto_flow": null,
            "grid_auto_rows": null,
            "grid_column": null,
            "grid_gap": null,
            "grid_row": null,
            "grid_template_areas": null,
            "grid_template_columns": null,
            "grid_template_rows": null,
            "height": null,
            "justify_content": null,
            "justify_items": null,
            "left": null,
            "margin": null,
            "max_height": null,
            "max_width": null,
            "min_height": null,
            "min_width": null,
            "object_fit": null,
            "object_position": null,
            "order": null,
            "overflow": null,
            "overflow_x": null,
            "overflow_y": null,
            "padding": null,
            "right": null,
            "top": null,
            "visibility": null,
            "width": null
          }
        }
      }
    }
  },
  "nbformat": 4,
  "nbformat_minor": 0
}