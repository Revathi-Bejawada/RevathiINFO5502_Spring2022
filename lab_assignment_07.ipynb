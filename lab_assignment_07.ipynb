{
  "cells": [
    {
      "cell_type": "markdown",
      "metadata": {
        "id": "view-in-github",
        "colab_type": "text"
      },
      "source": [
        "<a href=\"https://colab.research.google.com/github/Revathi-Bejawada/RevathiINFO5502_Spring2022/blob/main/lab_assignment_07.ipynb\" target=\"_parent\"><img src=\"https://colab.research.google.com/assets/colab-badge.svg\" alt=\"Open In Colab\"/></a>"
      ]
    },
    {
      "cell_type": "markdown",
      "metadata": {
        "id": "G1ikVa2A5A6v"
      },
      "source": [
        "## The seventh Lab-assignment (03/31/2022, 50 points in total)"
      ]
    },
    {
      "cell_type": "markdown",
      "metadata": {
        "id": "7aRdFnuW5A6y"
      },
      "source": [
        "The purpose of this exercise is to build several regression models based on real-world datasets. "
      ]
    },
    {
      "cell_type": "markdown",
      "metadata": {
        "id": "2MbQsik95A6z"
      },
      "source": [
        "### Question 1 (25 points) Build a regession model to predict the change in price of the stock overtime. It can either be linear regression or non-linear regression. You can download the dataset from here: https://github.com/unt-iialab/info5502-spring2022/blob/main/datasets/portfolio_data.csv. The implementation of the LSTM on this same dataset was posted here as an reference: https://www.kaggle.com/code/faressayah/stock-market-analysis-prediction-using-lstm/notebook"
      ]
    },
    {
      "cell_type": "code",
      "execution_count": 1,
      "metadata": {
        "colab": {
          "base_uri": "https://localhost:8080/"
        },
        "id": "3XXWeMbR5A60",
        "outputId": "ae33da5b-b3d2-454a-f9a0-9806fbf920c0"
      },
      "outputs": [
        {
          "output_type": "stream",
          "name": "stdout",
          "text": [
            "Mounted at /content/gdrive\n"
          ]
        }
      ],
      "source": [
        "### You code here\n",
        "from google.colab import drive \n",
        "drive.mount('/content/gdrive')\n",
        "\n",
        "\n",
        "\n",
        "\n",
        "\n",
        "\n",
        "\n"
      ]
    },
    {
      "cell_type": "code",
      "source": [
        "pip install keras"
      ],
      "metadata": {
        "colab": {
          "base_uri": "https://localhost:8080/"
        },
        "id": "B3UmL0P-5IUT",
        "outputId": "6caeb1d6-5281-4b32-91ce-49d2183715f9"
      },
      "execution_count": 2,
      "outputs": [
        {
          "output_type": "stream",
          "name": "stdout",
          "text": [
            "Requirement already satisfied: keras in /usr/local/lib/python3.7/dist-packages (2.8.0)\n"
          ]
        }
      ]
    },
    {
      "cell_type": "code",
      "source": [
        "pip install tensorflow"
      ],
      "metadata": {
        "colab": {
          "base_uri": "https://localhost:8080/"
        },
        "id": "8HAZmXJ_5LEH",
        "outputId": "94e16bdf-aa67-4b1d-f0d5-91968dbc4920"
      },
      "execution_count": 3,
      "outputs": [
        {
          "output_type": "stream",
          "name": "stdout",
          "text": [
            "Requirement already satisfied: tensorflow in /usr/local/lib/python3.7/dist-packages (2.8.0)\n",
            "Requirement already satisfied: tensorboard<2.9,>=2.8 in /usr/local/lib/python3.7/dist-packages (from tensorflow) (2.8.0)\n",
            "Requirement already satisfied: setuptools in /usr/local/lib/python3.7/dist-packages (from tensorflow) (57.4.0)\n",
            "Requirement already satisfied: six>=1.12.0 in /usr/local/lib/python3.7/dist-packages (from tensorflow) (1.15.0)\n",
            "Requirement already satisfied: numpy>=1.20 in /usr/local/lib/python3.7/dist-packages (from tensorflow) (1.21.5)\n",
            "Requirement already satisfied: typing-extensions>=3.6.6 in /usr/local/lib/python3.7/dist-packages (from tensorflow) (4.1.1)\n",
            "Requirement already satisfied: h5py>=2.9.0 in /usr/local/lib/python3.7/dist-packages (from tensorflow) (3.1.0)\n",
            "Requirement already satisfied: astunparse>=1.6.0 in /usr/local/lib/python3.7/dist-packages (from tensorflow) (1.6.3)\n",
            "Requirement already satisfied: wrapt>=1.11.0 in /usr/local/lib/python3.7/dist-packages (from tensorflow) (1.14.0)\n",
            "Requirement already satisfied: grpcio<2.0,>=1.24.3 in /usr/local/lib/python3.7/dist-packages (from tensorflow) (1.44.0)\n",
            "Requirement already satisfied: protobuf>=3.9.2 in /usr/local/lib/python3.7/dist-packages (from tensorflow) (3.17.3)\n",
            "Collecting tf-estimator-nightly==2.8.0.dev2021122109\n",
            "  Downloading tf_estimator_nightly-2.8.0.dev2021122109-py2.py3-none-any.whl (462 kB)\n",
            "\u001b[K     |████████████████████████████████| 462 kB 8.5 MB/s \n",
            "\u001b[?25hRequirement already satisfied: opt-einsum>=2.3.2 in /usr/local/lib/python3.7/dist-packages (from tensorflow) (3.3.0)\n",
            "Requirement already satisfied: absl-py>=0.4.0 in /usr/local/lib/python3.7/dist-packages (from tensorflow) (1.0.0)\n",
            "Requirement already satisfied: keras-preprocessing>=1.1.1 in /usr/local/lib/python3.7/dist-packages (from tensorflow) (1.1.2)\n",
            "Requirement already satisfied: libclang>=9.0.1 in /usr/local/lib/python3.7/dist-packages (from tensorflow) (13.0.0)\n",
            "Requirement already satisfied: flatbuffers>=1.12 in /usr/local/lib/python3.7/dist-packages (from tensorflow) (2.0)\n",
            "Requirement already satisfied: termcolor>=1.1.0 in /usr/local/lib/python3.7/dist-packages (from tensorflow) (1.1.0)\n",
            "Requirement already satisfied: tensorflow-io-gcs-filesystem>=0.23.1 in /usr/local/lib/python3.7/dist-packages (from tensorflow) (0.24.0)\n",
            "Requirement already satisfied: gast>=0.2.1 in /usr/local/lib/python3.7/dist-packages (from tensorflow) (0.5.3)\n",
            "Requirement already satisfied: keras<2.9,>=2.8.0rc0 in /usr/local/lib/python3.7/dist-packages (from tensorflow) (2.8.0)\n",
            "Requirement already satisfied: google-pasta>=0.1.1 in /usr/local/lib/python3.7/dist-packages (from tensorflow) (0.2.0)\n",
            "Requirement already satisfied: wheel<1.0,>=0.23.0 in /usr/local/lib/python3.7/dist-packages (from astunparse>=1.6.0->tensorflow) (0.37.1)\n",
            "Requirement already satisfied: cached-property in /usr/local/lib/python3.7/dist-packages (from h5py>=2.9.0->tensorflow) (1.5.2)\n",
            "Requirement already satisfied: requests<3,>=2.21.0 in /usr/local/lib/python3.7/dist-packages (from tensorboard<2.9,>=2.8->tensorflow) (2.23.0)\n",
            "Requirement already satisfied: google-auth-oauthlib<0.5,>=0.4.1 in /usr/local/lib/python3.7/dist-packages (from tensorboard<2.9,>=2.8->tensorflow) (0.4.6)\n",
            "Requirement already satisfied: markdown>=2.6.8 in /usr/local/lib/python3.7/dist-packages (from tensorboard<2.9,>=2.8->tensorflow) (3.3.6)\n",
            "Requirement already satisfied: tensorboard-data-server<0.7.0,>=0.6.0 in /usr/local/lib/python3.7/dist-packages (from tensorboard<2.9,>=2.8->tensorflow) (0.6.1)\n",
            "Requirement already satisfied: werkzeug>=0.11.15 in /usr/local/lib/python3.7/dist-packages (from tensorboard<2.9,>=2.8->tensorflow) (1.0.1)\n",
            "Requirement already satisfied: tensorboard-plugin-wit>=1.6.0 in /usr/local/lib/python3.7/dist-packages (from tensorboard<2.9,>=2.8->tensorflow) (1.8.1)\n",
            "Requirement already satisfied: google-auth<3,>=1.6.3 in /usr/local/lib/python3.7/dist-packages (from tensorboard<2.9,>=2.8->tensorflow) (1.35.0)\n",
            "Requirement already satisfied: pyasn1-modules>=0.2.1 in /usr/local/lib/python3.7/dist-packages (from google-auth<3,>=1.6.3->tensorboard<2.9,>=2.8->tensorflow) (0.2.8)\n",
            "Requirement already satisfied: rsa<5,>=3.1.4 in /usr/local/lib/python3.7/dist-packages (from google-auth<3,>=1.6.3->tensorboard<2.9,>=2.8->tensorflow) (4.8)\n",
            "Requirement already satisfied: cachetools<5.0,>=2.0.0 in /usr/local/lib/python3.7/dist-packages (from google-auth<3,>=1.6.3->tensorboard<2.9,>=2.8->tensorflow) (4.2.4)\n",
            "Requirement already satisfied: requests-oauthlib>=0.7.0 in /usr/local/lib/python3.7/dist-packages (from google-auth-oauthlib<0.5,>=0.4.1->tensorboard<2.9,>=2.8->tensorflow) (1.3.1)\n",
            "Requirement already satisfied: importlib-metadata>=4.4 in /usr/local/lib/python3.7/dist-packages (from markdown>=2.6.8->tensorboard<2.9,>=2.8->tensorflow) (4.11.3)\n",
            "Requirement already satisfied: zipp>=0.5 in /usr/local/lib/python3.7/dist-packages (from importlib-metadata>=4.4->markdown>=2.6.8->tensorboard<2.9,>=2.8->tensorflow) (3.8.0)\n",
            "Requirement already satisfied: pyasn1<0.5.0,>=0.4.6 in /usr/local/lib/python3.7/dist-packages (from pyasn1-modules>=0.2.1->google-auth<3,>=1.6.3->tensorboard<2.9,>=2.8->tensorflow) (0.4.8)\n",
            "Requirement already satisfied: urllib3!=1.25.0,!=1.25.1,<1.26,>=1.21.1 in /usr/local/lib/python3.7/dist-packages (from requests<3,>=2.21.0->tensorboard<2.9,>=2.8->tensorflow) (1.24.3)\n",
            "Requirement already satisfied: idna<3,>=2.5 in /usr/local/lib/python3.7/dist-packages (from requests<3,>=2.21.0->tensorboard<2.9,>=2.8->tensorflow) (2.10)\n",
            "Requirement already satisfied: certifi>=2017.4.17 in /usr/local/lib/python3.7/dist-packages (from requests<3,>=2.21.0->tensorboard<2.9,>=2.8->tensorflow) (2021.10.8)\n",
            "Requirement already satisfied: chardet<4,>=3.0.2 in /usr/local/lib/python3.7/dist-packages (from requests<3,>=2.21.0->tensorboard<2.9,>=2.8->tensorflow) (3.0.4)\n",
            "Requirement already satisfied: oauthlib>=3.0.0 in /usr/local/lib/python3.7/dist-packages (from requests-oauthlib>=0.7.0->google-auth-oauthlib<0.5,>=0.4.1->tensorboard<2.9,>=2.8->tensorflow) (3.2.0)\n",
            "Installing collected packages: tf-estimator-nightly\n",
            "Successfully installed tf-estimator-nightly-2.8.0.dev2021122109\n"
          ]
        }
      ]
    },
    {
      "cell_type": "code",
      "source": [
        "import pandas as pd\n",
        "\n",
        "import matplotlib.pyplot as plt\n",
        "\n",
        "from sklearn.model_selection import train_test_split\n",
        "from sklearn.linear_model import LinearRegression\n",
        "from sklearn.metrics import mean_squared_error, r2_score\n",
        "import numpy as np\n",
        "\n",
        "# load the dataset\n",
        "input = pd.read_csv(\"/content/gdrive/My Drive/portfolio_data.csv\")\n",
        "\n",
        "p = input.drop(['Date', 'AMZN'], axis = 1)\n",
        "q = input['AMZN']\n",
        "\n",
        "#divide the data into test and train to build the model\n",
        "\n",
        "s_train_data, s_test_data, r_train_data, r_test_data = train_test_split(p, q, test_size = 0.35, random_state = 0)\n",
        "\n",
        "plt.plot(p)\n",
        "#apply linear regression \n",
        "\n",
        "linear_reg = LinearRegression()\n",
        "linear_reg.fit(s_train_data, r_train_data)\n",
        "\n",
        "r_prediction = linear_reg.predict(s_test_data)\n",
        "print(\"Root Mean Square score is\",np.sqrt(mean_squared_error(r_test_data, r_prediction)))\n",
        "print(\"The R2 score is\", r2_score(r_test_data, r_prediction))\n"
      ],
      "metadata": {
        "colab": {
          "base_uri": "https://localhost:8080/",
          "height": 300
        },
        "id": "4AOLCxIk5P94",
        "outputId": "c3f29de3-f6da-43eb-b8dd-ac039b9480b2"
      },
      "execution_count": 4,
      "outputs": [
        {
          "output_type": "stream",
          "name": "stdout",
          "text": [
            "Root Mean Square score is 75.9549436001661\n",
            "The R2 score is 0.9783453724222465\n"
          ]
        },
        {
          "output_type": "display_data",
          "data": {
            "text/plain": [
              "<Figure size 432x288 with 1 Axes>"
            ],
            "image/png": "[encoded data removed]"
          },
          "metadata": {
            "needs_background": "light"
          }
        }
      ]
    },
    {
      "cell_type": "code",
      "source": [
        "from sklearn.ensemble import RandomForestRegressor\n",
        "s_train_data, s_test_data, r_train_data, r_test_data = train_test_split(p, q, test_size = 0.35, random_state = 0)\n",
        "\n",
        "ran_for_reg = RandomForestRegressor(random_state=211)\n",
        "ran_for_reg.fit(s_train_data, r_train_data)\n",
        "\n",
        "ran_for_reg_pred = ran_for_reg.predict(s_test_data)\n",
        "print(\"Root Mean Square score is score is\",np.sqrt(mean_squared_error(r_test_data, ran_for_reg_pred)))\n",
        "print(\"The score of R2 is\", r2_score(r_test_data, ran_for_reg_pred))"
      ],
      "metadata": {
        "colab": {
          "base_uri": "https://localhost:8080/"
        },
        "id": "YLK6yonz5SfQ",
        "outputId": "ebac40ee-ada7-4ce9-9ed2-7c1cee0989bf"
      },
      "execution_count": 5,
      "outputs": [
        {
          "output_type": "stream",
          "name": "stdout",
          "text": [
            "Root Mean Square score is score is 29.855905145036516\n",
            "The score of R2 is 0.9966542066596528\n"
          ]
        }
      ]
    },
    {
      "cell_type": "code",
      "source": [
        "from keras.layers import Dense, LSTM\n",
        "\n",
        "\n",
        "from keras.models import Sequential\n",
        "\n",
        "#LSTM model\n",
        "\n",
        "lstm_model = Sequential()\n",
        "lstm_model.add(LSTM(50, return_sequences=True, input_shape= (s_train_data.shape[1], 1)))\n",
        "lstm_model.add(LSTM(50, return_sequences=False))\n",
        "\n",
        "lstm_model.add(Dense(50))\n",
        "lstm_model.add(Dense(1))\n",
        "\n",
        "# model compilation\n",
        "lstm_model.compile(optimizer='adam', loss='mean_squared_error')\n",
        "\n",
        "# model training\n",
        "lstm_model.fit(s_train_data, r_train_data, batch_size=1, epochs=15)\n"
      ],
      "metadata": {
        "colab": {
          "base_uri": "https://localhost:8080/"
        },
        "id": "PdyZFiAx5V47",
        "outputId": "6d00ad1b-a17e-46a3-f965-e8bfd0c8ecbd"
      },
      "execution_count": 6,
      "outputs": [
        {
          "output_type": "stream",
          "name": "stdout",
          "text": [
            "Epoch 1/15\n",
            "988/988 [==============================] - 7s 4ms/step - loss: 365619.0625\n",
            "Epoch 2/15\n",
            "988/988 [==============================] - 4s 4ms/step - loss: 19612.7363\n",
            "Epoch 3/15\n",
            "988/988 [==============================] - 4s 4ms/step - loss: 9322.9150\n",
            "Epoch 4/15\n",
            "988/988 [==============================] - 4s 4ms/step - loss: 7916.8618\n",
            "Epoch 5/15\n",
            "988/988 [==============================] - 5s 6ms/step - loss: 8506.7900\n",
            "Epoch 6/15\n",
            "988/988 [==============================] - 6s 6ms/step - loss: 7555.3481\n",
            "Epoch 7/15\n",
            "988/988 [==============================] - 5s 5ms/step - loss: 7429.3101\n",
            "Epoch 8/15\n",
            "988/988 [==============================] - 5s 5ms/step - loss: 7150.8848\n",
            "Epoch 9/15\n",
            "988/988 [==============================] - 7s 7ms/step - loss: 7240.5083\n",
            "Epoch 10/15\n",
            "988/988 [==============================] - 6s 6ms/step - loss: 7593.3892\n",
            "Epoch 11/15\n",
            "988/988 [==============================] - 7s 7ms/step - loss: 7076.9839\n",
            "Epoch 12/15\n",
            "988/988 [==============================] - 7s 7ms/step - loss: 7097.8438\n",
            "Epoch 13/15\n",
            "988/988 [==============================] - 6s 6ms/step - loss: 7661.7734\n",
            "Epoch 14/15\n",
            "988/988 [==============================] - 6s 6ms/step - loss: 6984.0190\n",
            "Epoch 15/15\n",
            "988/988 [==============================] - 6s 6ms/step - loss: 6040.4390\n"
          ]
        },
        {
          "output_type": "execute_result",
          "data": {
            "text/plain": [
              "<keras.callbacks.History at 0x7f2ce4446090>"
            ]
          },
          "metadata": {},
          "execution_count": 6
        }
      ]
    },
    {
      "cell_type": "markdown",
      "metadata": {
        "id": "KVnLJrzm5A61"
      },
      "source": [
        "### Question 2 (25 points) The objective of this task is to detect hate speech in tweets. For the sake of simplicity, we say a tweet contains hate speech if it has a racist or sexist sentiment associated with it. So, the task is to classify racist or sexist tweets from other tweets. Formally, given a training sample of tweets and labels, where label '1' denotes the tweet is racist/sexist and label '0' denotes the tweet is not racist/sexist, your objective is to predict the labels on the test dataset. The dataset can be downloaded here: https://github.com/unt-iialab/info5502-spring2022/tree/main/datasets/Twitter%20Sentiment%20Analysis. Please build a logistic regression model for the classification, evaluation metrics include accuracy, precision, recall, and F-1 score need to be reported. "
      ]
    },
    {
      "cell_type": "code",
      "execution_count": 2,
      "metadata": {
        "colab": {
          "base_uri": "https://localhost:8080/"
        },
        "id": "5dBruMHR5A62",
        "outputId": "da89302a-975b-46f9-a5d1-59793343025d"
      },
      "outputs": [
        {
          "output_type": "stream",
          "name": "stdout",
          "text": [
            "[nltk_data] Downloading package stopwords to /root/nltk_data...\n",
            "[nltk_data]   Package stopwords is already up-to-date!\n"
          ]
        },
        {
          "output_type": "stream",
          "name": "stderr",
          "text": [
            "/usr/local/lib/python3.7/dist-packages/ipykernel_launcher.py:26: FutureWarning: The default value of regex will change from True to False in a future version.\n"
          ]
        }
      ],
      "source": [
        "### You code here:\n",
        "\n",
        "\n",
        "\n",
        "import pandas as pd\n",
        "import re\n",
        "from nltk.corpus import stopwords\n",
        "from sklearn.feature_extraction.text import TfidfVectorizer\n",
        "from sklearn.metrics import classification_report, confusion_matrix\n",
        "from sklearn.model_selection import train_test_split\n",
        "from sklearn.feature_selection import SelectKBest, chi2\n",
        "\n",
        "from sklearn.ensemble import RandomForestClassifier\n",
        "import sqlite3\n",
        "import pickle\n",
        "import nltk\n",
        "nltk.download('stopwords')\n",
        "\n",
        "# load the dataset\n",
        "input = pd.read_csv(\"/content/gdrive/My Drive/train.csv\")\n",
        "\n",
        "alpha_stopwords = stopwords.words(\"english\")\n",
        "alpha_stopwords = [re.sub('[^a-zA-Z0-9]+', '', word) for word in alpha_stopwords]\n",
        "\n",
        "#remove unwanted chars\n",
        "input['cleaned_tweets'] = input['tweet'].str.replace('[^a-zA-Z0-9 ]', '')\n",
        "input['cleaned_tweets'] = input['cleaned_tweets'].apply(lambda p: ' '.join([word for word in p.split() if word not in (alpha_stopwords)]))\n",
        "\n",
        "\n",
        "\n"
      ]
    },
    {
      "cell_type": "code",
      "source": [
        "from nltk.stem import WordNetLemmatizer\n",
        "import nltk\n",
        "nltk.download('wordnet')\n",
        "word_lemmet = WordNetLemmatizer()\n",
        "\n",
        "# applying lemmatization on the tweets\n",
        "\n",
        "input['cleaned_tweets'] = input['cleaned_tweets'].apply(lambda row: \" \".join(word_lemmet.lemmatize(word, pos=\"a\") for word in row.split()))\n",
        "\n",
        "input['cleaned_tweets'] = input['cleaned_tweets'].apply(lambda row: \" \".join(word_lemmet.lemmatize(word, pos=\"r\") for word in row.split()))\n",
        "\n",
        "input['cleaned_tweets'] = input['cleaned_tweets'].apply(lambda row: \" \".join(word_lemmet.lemmatize(word, pos=\"v\") for word in row.split()))\n",
        "\n",
        "input['cleaned_tweets'] = input['cleaned_tweets'].apply(lambda row: \" \".join(word_lemmet.lemmatize(word, pos=\"n\") for word in row.split()))\n",
        "\n"
      ],
      "metadata": {
        "colab": {
          "base_uri": "https://localhost:8080/"
        },
        "id": "ULdhzIlR-CYQ",
        "outputId": "2f33b2ba-f517-44ca-8f66-b0071b513949"
      },
      "execution_count": 3,
      "outputs": [
        {
          "output_type": "stream",
          "name": "stdout",
          "text": [
            "[nltk_data] Downloading package wordnet to /root/nltk_data...\n",
            "[nltk_data]   Package wordnet is already up-to-date!\n"
          ]
        }
      ]
    },
    {
      "cell_type": "code",
      "source": [
        "from sklearn.linear_model import LogisticRegression\n",
        "p = input['cleaned_tweets']\n",
        "q = input['label']\n",
        "\n",
        "# initializing tf-idf vectorizer\n",
        "v = TfidfVectorizer(min_df = 3, ngram_range=(1, 2))\n",
        "\n",
        "#for feature generations\n",
        "v = v.fit(p)\n",
        "#transform\n",
        "P_features = v.transform(p).toarray()\n",
        "\n",
        "# split the dataset into train and test\n",
        "P_train, P_test, q_train, q_test = train_test_split(P_features, q, test_size=0.2)\n",
        "\n",
        "# logistic regression\n",
        "logre = LogisticRegression()\n",
        "data_model = logre.fit(P_train, q_train)\n",
        "\n",
        "\n",
        "\n",
        "print(\"Confusion Matrix:\")\n",
        "print(confusion_matrix(q_test, data_model.predict(P_test)))\n",
        "\n",
        "print(\"Classification Report\")\n",
        "print(classification_report(q_test, data_model.predict(P_test)))\n",
        "\n",
        "print(P_features.shape)\n"
      ],
      "metadata": {
        "colab": {
          "base_uri": "https://localhost:8080/"
        },
        "id": "xQNP3qjz5dqO",
        "outputId": "f2153c76-7f28-4ddb-8da6-9720692b9c44"
      },
      "execution_count": 4,
      "outputs": [
        {
          "output_type": "stream",
          "name": "stdout",
          "text": [
            "Confusion Matrix:\n",
            "[[5931    4]\n",
            " [ 318  140]]\n",
            "Classification Report\n",
            "              precision    recall  f1-score   support\n",
            "\n",
            "           0       0.95      1.00      0.97      5935\n",
            "           1       0.97      0.31      0.47       458\n",
            "\n",
            "    accuracy                           0.95      6393\n",
            "   macro avg       0.96      0.65      0.72      6393\n",
            "weighted avg       0.95      0.95      0.94      6393\n",
            "\n",
            "(31962, 17049)\n"
          ]
        }
      ]
    },
    {
      "cell_type": "code",
      "source": [
        "print(P_features.shape)\n"
      ],
      "metadata": {
        "colab": {
          "base_uri": "https://localhost:8080/"
        },
        "id": "kqXlnrb25t7s",
        "outputId": "bcd0f035-05b7-4586-e642-6e4b09b8ef83"
      },
      "execution_count": 5,
      "outputs": [
        {
          "output_type": "stream",
          "name": "stdout",
          "text": [
            "(31962, 17049)\n"
          ]
        }
      ]
    },
    {
      "cell_type": "code",
      "source": [
        "df_test = pd.read_csv(\"/content/gdrive/My Drive/test.csv\")\n",
        "\n",
        "df_test['cleaned_tweets'] = df_test['tweet'].str.replace('[^a-zA-Z0-9 ]', '')\n",
        "df_test['cleaned_tweets'] = df_test['cleaned_tweets'].apply(lambda x: ' '.join([word for word in x.split() if word not in (alpha_stopwords)]))\n",
        "\n",
        "df_test['cleaned_tweets'] = df_test['cleaned_tweets'].apply(lambda row: \" \".join(word_lemmet.lemmatize(word, pos=\"v\") for word in row.split()))\n",
        "df_test['cleaned_tweets'] = df_test['cleaned_tweets'].apply(lambda row: \" \".join(word_lemmet.lemmatize(word, pos=\"n\") for word in row.split()))\n",
        "df_test['cleaned_tweets'] = df_test['cleaned_tweets'].apply(lambda row: \" \".join(word_lemmet.lemmatize(word, pos=\"a\") for word in row.split()))\n",
        "df_test['cleaned_tweets'] = df_test['cleaned_tweets'].apply(lambda row: \" \".join(word_lemmet.lemmatize(word, pos=\"r\") for word in row.split()))\n",
        "\n",
        "# vectorizer.fit_transform(data['cleaned_tweets']).toarray()\n",
        "df_test_features = v.transform(df_test['cleaned_tweets'])#.toarray()\n",
        "print(df_test_features.shape)\n",
        "\n",
        "\n",
        "#print(classification_report(y_test, model.predict(test_data_features)))\n",
        "#print(confusion_matrix(y_test, model.predict(test_data_features)))\n",
        "\n",
        "df_test_prediction = data_model.predict(df_test_features)\n",
        "print(df_test_prediction)"
      ],
      "metadata": {
        "colab": {
          "base_uri": "https://localhost:8080/"
        },
        "id": "0MqekrdF56we",
        "outputId": "81bc6052-14b1-469b-d6f9-ea9239063ba5"
      },
      "execution_count": 6,
      "outputs": [
        {
          "output_type": "stream",
          "name": "stderr",
          "text": [
            "/usr/local/lib/python3.7/dist-packages/ipykernel_launcher.py:3: FutureWarning: The default value of regex will change from True to False in a future version.\n",
            "  This is separate from the ipykernel package so we can avoid doing imports until\n"
          ]
        },
        {
          "output_type": "stream",
          "name": "stdout",
          "text": [
            "(17197, 17049)\n",
            "[0 0 0 ... 0 0 0]\n"
          ]
        }
      ]
    }
  ],
  "metadata": {
    "kernelspec": {
      "display_name": "Python 3",
      "language": "python",
      "name": "python3"
    },
    "language_info": {
      "codemirror_mode": {
        "name": "ipython",
        "version": 3
      },
      "file_extension": ".py",
      "mimetype": "text/x-python",
      "name": "python",
      "nbconvert_exporter": "python",
      "pygments_lexer": "ipython3",
      "version": "3.8.5"
    },
    "colab": {
      "name": "lab_assignment_07.ipynb",
      "provenance": [],
      "collapsed_sections": [],
      "include_colab_link": true
    }
  },
  "nbformat": 4,
  "nbformat_minor": 0
}